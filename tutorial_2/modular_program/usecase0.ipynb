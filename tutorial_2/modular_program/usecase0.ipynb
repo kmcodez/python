{
 "cells": [
  {
   "cell_type": "code",
   "execution_count": null,
   "id": "7c4c6d12",
   "metadata": {},
   "outputs": [],
   "source": [
    "import sample as b\n",
    "\n",
    "factorial = b.fact(7)\n",
    "print(factorial)\n",
    "\n",
    "palindrome = b.pal('tamil')\n",
    "print(palindrome)"
   ]
  }
 ],
 "metadata": {
  "kernelspec": {
   "display_name": "Python 3 (ipykernel)",
   "language": "python",
   "name": "python3"
  },
  "language_info": {
   "codemirror_mode": {
    "name": "ipython",
    "version": 3
   },
   "file_extension": ".py",
   "mimetype": "text/x-python",
   "name": "python",
   "nbconvert_exporter": "python",
   "pygments_lexer": "ipython3",
   "version": "3.9.7"
  }
 },
 "nbformat": 4,
 "nbformat_minor": 5
}
