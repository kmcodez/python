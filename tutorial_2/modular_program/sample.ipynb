{
 "cells": [
  {
   "cell_type": "code",
   "execution_count": null,
   "id": "db67e16e",
   "metadata": {},
   "outputs": [],
   "source": [
    "def fact(num):\n",
    "\n",
    "    if num == 1:\n",
    "        return num\n",
    "    else:\n",
    "        return num * fact(num - 1)\n",
    "\n",
    "def pal(x):\n",
    "    x1 = x[::-1]\n",
    "    if x1 == x:\n",
    "        return 'palindrome'\n",
    "    else:\n",
    "        return 'not palindrome'"
   ]
  }
 ],
 "metadata": {
  "kernelspec": {
   "display_name": "Python 3 (ipykernel)",
   "language": "python",
   "name": "python3"
  },
  "language_info": {
   "codemirror_mode": {
    "name": "ipython",
    "version": 3
   },
   "file_extension": ".py",
   "mimetype": "text/x-python",
   "name": "python",
   "nbconvert_exporter": "python",
   "pygments_lexer": "ipython3",
   "version": "3.9.7"
  }
 },
 "nbformat": 4,
 "nbformat_minor": 5
}
