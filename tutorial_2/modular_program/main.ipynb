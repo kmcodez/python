{
 "cells": [
  {
   "cell_type": "code",
   "execution_count": null,
   "id": "a25072a0",
   "metadata": {},
   "outputs": [],
   "source": [
    "import mod1 as md\n",
    "#x = 10\n",
    "#y = 20\n",
    "\n",
    "addition = md.add(10,15)\n",
    "print(addition)\n",
    "\n",
    "sub = md.sub(20,15)\n",
    "print(sub)\n",
    "\n",
    "mul = md.mul(20,15)\n",
    "print(mul)\n",
    "\n",
    "div = md.divide(20,15)\n",
    "print(div)\n",
    "\n",
    "\n",
    "from mod1 import add\n",
    "\n",
    "a = add(20,15)\n",
    "print(a)\n",
    "\n",
    "from mod1 import sub\n",
    "b = sub(20,15)\n",
    "print(b)\n",
    "\n",
    "from mod1 import mul\n",
    "c = mul(20,15)\n",
    "print(c)\n",
    "\n",
    "from mod1 import divide\n",
    "x = divide(20,15)\n",
    "print(x)\n",
    "\n",
    "from mod1 import *\n",
    "result = add(100,50)\n",
    "print(result)\n",
    "\n",
    "result = sub(100,50)\n",
    "print(result)\n",
    "\n",
    "result = mul(100,50)\n",
    "print(result)\n",
    "\n",
    "result = divide(100,50)\n",
    "print(result)\n",
    "\n",
    "from mod1 import *\n",
    "import sample as s\n",
    "\n",
    "print(s.pal('151'))\n",
    "print(s.fact(5))"
   ]
  }
 ],
 "metadata": {
  "kernelspec": {
   "display_name": "Python 3 (ipykernel)",
   "language": "python",
   "name": "python3"
  },
  "language_info": {
   "codemirror_mode": {
    "name": "ipython",
    "version": 3
   },
   "file_extension": ".py",
   "mimetype": "text/x-python",
   "name": "python",
   "nbconvert_exporter": "python",
   "pygments_lexer": "ipython3",
   "version": "3.9.7"
  }
 },
 "nbformat": 4,
 "nbformat_minor": 5
}
