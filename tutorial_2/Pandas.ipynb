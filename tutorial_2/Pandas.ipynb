{
 "cells": [
  {
   "cell_type": "code",
   "execution_count": 6,
   "id": "53cd26d1",
   "metadata": {},
   "outputs": [],
   "source": [
    "import pandas as pd\n",
    "import numpy as np"
   ]
  },
  {
   "cell_type": "code",
   "execution_count": 7,
   "id": "d3b9958e",
   "metadata": {},
   "outputs": [
    {
     "name": "stdout",
     "output_type": "stream",
     "text": [
      "Series([], dtype: object)\n"
     ]
    }
   ],
   "source": [
    "ser = pd.Series()\n",
    "print(ser)"
   ]
  },
  {
   "cell_type": "code",
   "execution_count": 8,
   "id": "3896d75b",
   "metadata": {},
   "outputs": [
    {
     "name": "stdout",
     "output_type": "stream",
     "text": [
      "0    a\n",
      "1    b\n",
      "2    c\n",
      "3    d\n",
      "4    e\n",
      "5    f\n",
      "dtype: object\n"
     ]
    }
   ],
   "source": [
    "data = np.array(['a', 'b', 'c', 'd', 'e', 'f'])\n",
    "ser = pd.Series(data)\n",
    "print(ser)"
   ]
  },
  {
   "cell_type": "code",
   "execution_count": 9,
   "id": "25fb8a68",
   "metadata": {},
   "outputs": [
    {
     "name": "stdout",
     "output_type": "stream",
     "text": [
      "Empty DataFrame\n",
      "Columns: []\n",
      "Index: []\n"
     ]
    }
   ],
   "source": [
    "# Create a Empty Dataframe\n",
    "\n",
    "df = pd.DataFrame()\n",
    "print(df)"
   ]
  },
  {
   "cell_type": "code",
   "execution_count": 10,
   "id": "f4d62115",
   "metadata": {},
   "outputs": [
    {
     "name": "stdout",
     "output_type": "stream",
     "text": [
      "        0\n",
      "0   geeks\n",
      "1     for\n",
      "2   geeks\n",
      "3      is\n",
      "4  portal\n",
      "5     for\n",
      "6   geeks\n"
     ]
    }
   ],
   "source": [
    "# Create a DataFrame\n",
    "\n",
    "lst = ['geeks', 'for', 'geeks', 'is', 'portal', 'for', 'geeks']\n",
    "df = pd.DataFrame(lst)\n",
    "print(df)"
   ]
  },
  {
   "cell_type": "code",
   "execution_count": 11,
   "id": "0a56ceb4",
   "metadata": {},
   "outputs": [
    {
     "name": "stdout",
     "output_type": "stream",
     "text": [
      "       Name  Age\n",
      "0     Kumar   33\n",
      "1  Kiruthik    5\n",
      "2   Varshan    5\n",
      "3   Sanvika    3\n"
     ]
    }
   ],
   "source": [
    "# Creating DataFrame from dict of ndarray/lists\n",
    "\n",
    "data = {'Name':['Kumar', 'Kiruthik', 'Varshan', 'Sanvika'],\n",
    "\t\t'Age':[33, 5, 5, 3]}\n",
    "df = pd.DataFrame(data)\n",
    "print(df)"
   ]
  },
  {
   "cell_type": "code",
   "execution_count": 16,
   "id": "ff1533ff",
   "metadata": {},
   "outputs": [
    {
     "name": "stdout",
     "output_type": "stream",
     "text": [
      "       Name  Age        Address Qualification\n",
      "0     Kumar   33   Pallipalayam        Degree\n",
      "1  Kiruthik    5       Veppadai         Child\n",
      "2   Varshan    5  Elanthakuttai         Child\n",
      "3   Sanvika    3      Rasipuram         Child\n",
      "       Name Qualification\n",
      "0     Kumar        Degree\n",
      "1  Kiruthik         Child\n",
      "2   Varshan         Child\n",
      "3   Sanvika         Child\n",
      "                         Team  Number Position   Age Height  Weight  \\\n",
      "Name                                                                  \n",
      "Avery Bradley  Boston Celtics     0.0       PG  25.0    6-2   180.0   \n",
      "Jae Crowder    Boston Celtics    99.0       SF  25.0    6-6   235.0   \n",
      "John Holland   Boston Celtics    30.0       SG  27.0    6-5   205.0   \n",
      "R.J. Hunter    Boston Celtics    28.0       SG  22.0    6-5   185.0   \n",
      "Jonas Jerebko  Boston Celtics     8.0       PF  29.0   6-10   231.0   \n",
      "...                       ...     ...      ...   ...    ...     ...   \n",
      "Shelvin Mack        Utah Jazz     8.0       PG  26.0    6-3   203.0   \n",
      "Raul Neto           Utah Jazz    25.0       PG  24.0    6-1   179.0   \n",
      "Tibor Pleiss        Utah Jazz    21.0        C  26.0    7-3   256.0   \n",
      "Jeff Withey         Utah Jazz    24.0        C  26.0    7-0   231.0   \n",
      "NaN                       NaN     NaN      NaN   NaN    NaN     NaN   \n",
      "\n",
      "                         College     Salary  \n",
      "Name                                         \n",
      "Avery Bradley              Texas  7730337.0  \n",
      "Jae Crowder            Marquette  6796117.0  \n",
      "John Holland   Boston University        NaN  \n",
      "R.J. Hunter        Georgia State  1148640.0  \n",
      "Jonas Jerebko                NaN  5000000.0  \n",
      "...                          ...        ...  \n",
      "Shelvin Mack              Butler  2433333.0  \n",
      "Raul Neto                    NaN   900000.0  \n",
      "Tibor Pleiss                 NaN  2900000.0  \n",
      "Jeff Withey               Kansas   947276.0  \n",
      "NaN                          NaN        NaN  \n",
      "\n",
      "[458 rows x 8 columns]\n",
      "Team        Boston Celtics\n",
      "Number                 0.0\n",
      "Position                PG\n",
      "Age                   25.0\n",
      "Height                 6-2\n",
      "Weight               180.0\n",
      "College              Texas\n",
      "Salary           7730337.0\n",
      "Name: Avery Bradley, dtype: object \n",
      "\n",
      "\n",
      " Team        Boston Celtics\n",
      "Number                28.0\n",
      "Position                SG\n",
      "Age                   22.0\n",
      "Height                 6-5\n",
      "Weight               185.0\n",
      "College      Georgia State\n",
      "Salary           1148640.0\n",
      "Name: R.J. Hunter, dtype: object \n",
      "\n",
      "\n",
      " Name\n",
      "Avery Bradley    25.0\n",
      "Jae Crowder      25.0\n",
      "John Holland     27.0\n",
      "R.J. Hunter      22.0\n",
      "Jonas Jerebko    29.0\n",
      "                 ... \n",
      "Shelvin Mack     26.0\n",
      "Raul Neto        24.0\n",
      "Tibor Pleiss     26.0\n",
      "Jeff Withey      26.0\n",
      "NaN               NaN\n",
      "Name: Age, Length: 458, dtype: float64 \n",
      "\n",
      "\n",
      " Team        Boston Celtics\n",
      "Number                28.0\n",
      "Position                SG\n",
      "Age                   22.0\n",
      "Height                 6-5\n",
      "Weight               185.0\n",
      "College      Georgia State\n",
      "Salary           1148640.0\n",
      "Name: R.J. Hunter, dtype: object\n"
     ]
    }
   ],
   "source": [
    "# Dealing with Rows and Columns\n",
    "\n",
    "data = {'Name': ['Kumar', 'Kiruthik', 'Varshan', 'Sanvika'],\n",
    "\t\t'Age': [33, 5, 5, 3],\n",
    "\t\t'Address': ['Pallipalayam', 'Veppadai', 'Elanthakuttai', 'Rasipuram'],\n",
    "\t\t'Qualification': ['Degree', 'Child', 'Child', 'Child']}\n",
    "df = pd.DataFrame(data)\n",
    "print(df)\n",
    "\n",
    "# Column Selection\n",
    "print(df[['Name', 'Qualification']])\n",
    "\n",
    "# Row Selection\n",
    "data = pd.read_csv(\"stuff_files/nba.csv\", index_col=\"Name\")\n",
    "print(data)\n",
    "\n",
    "first = data.loc[\"Avery Bradley\"]\n",
    "second = data.loc['R.J. Hunter']\n",
    "third = data[\"Age\"]\n",
    "fourth = data.iloc[3]\n",
    "print(first, \"\\n\\n\\n\", second, \"\\n\\n\\n\", third, \"\\n\\n\\n\", fourth)"
   ]
  },
  {
   "cell_type": "code",
   "execution_count": 17,
   "id": "44d6dada",
   "metadata": {},
   "outputs": [
    {
     "data": {
      "text/html": [
       "<div>\n",
       "<style scoped>\n",
       "    .dataframe tbody tr th:only-of-type {\n",
       "        vertical-align: middle;\n",
       "    }\n",
       "\n",
       "    .dataframe tbody tr th {\n",
       "        vertical-align: top;\n",
       "    }\n",
       "\n",
       "    .dataframe thead th {\n",
       "        text-align: right;\n",
       "    }\n",
       "</style>\n",
       "<table border=\"1\" class=\"dataframe\">\n",
       "  <thead>\n",
       "    <tr style=\"text-align: right;\">\n",
       "      <th></th>\n",
       "      <th>Name</th>\n",
       "      <th>Age</th>\n",
       "      <th>Address</th>\n",
       "      <th>Qualification</th>\n",
       "    </tr>\n",
       "  </thead>\n",
       "  <tbody>\n",
       "    <tr>\n",
       "      <th>0</th>\n",
       "      <td>Kumar</td>\n",
       "      <td>33</td>\n",
       "      <td>Pallipalayam</td>\n",
       "      <td>Degree</td>\n",
       "    </tr>\n",
       "    <tr>\n",
       "      <th>1</th>\n",
       "      <td>Kiruthik</td>\n",
       "      <td>5</td>\n",
       "      <td>Veppadai</td>\n",
       "      <td>Child</td>\n",
       "    </tr>\n",
       "    <tr>\n",
       "      <th>2</th>\n",
       "      <td>Varshan</td>\n",
       "      <td>5</td>\n",
       "      <td>Elanthakuttai</td>\n",
       "      <td>Child</td>\n",
       "    </tr>\n",
       "    <tr>\n",
       "      <th>3</th>\n",
       "      <td>Sanvika</td>\n",
       "      <td>3</td>\n",
       "      <td>Rasipuram</td>\n",
       "      <td>Child</td>\n",
       "    </tr>\n",
       "  </tbody>\n",
       "</table>\n",
       "</div>"
      ],
      "text/plain": [
       "       Name  Age        Address Qualification\n",
       "0     Kumar   33   Pallipalayam        Degree\n",
       "1  Kiruthik    5       Veppadai         Child\n",
       "2   Varshan    5  Elanthakuttai         Child\n",
       "3   Sanvika    3      Rasipuram         Child"
      ]
     },
     "execution_count": 17,
     "metadata": {},
     "output_type": "execute_result"
    }
   ],
   "source": [
    "# Working with Missing Data\n",
    "\n",
    "df.isnull() # it represent nan value to true or false\n",
    "df.fillna(0) # it change nan value to 0\n",
    "df.dropna() # it will show only all the column have data"
   ]
  },
  {
   "cell_type": "code",
   "execution_count": null,
   "id": "03f6e727",
   "metadata": {},
   "outputs": [
    {
     "name": "stdout",
     "output_type": "stream",
     "text": [
      "     name  degree  score\n",
      "0  aparna     MBA     90\n",
      "1  pankaj     BCA     40\n",
      "2  sudhir  M.Tech     80\n",
      "3   Geeku     MBA     98\n",
      "\n",
      "\n",
      "\n",
      "\n",
      "sudhir\n",
      "M.Tech\n",
      "80\n"
     ]
    }
   ],
   "source": [
    "\n",
    "#Iterating over rows :\n",
    "# importing pandas as pd\n",
    "import pandas as pd\n",
    "\n",
    "# dictionary of lists\n",
    "dict = {'name':[\"aparna\", \"pankaj\", \"sudhir\", \"Geeku\"],\n",
    "        'degree': [\"MBA\", \"BCA\", \"M.Tech\", \"MBA\"],\n",
    "        'score':[90, 40, 80, 98]}\n",
    "\n",
    "# creating a dataframe from a dictionary \n",
    "df = pd.DataFrame(dict)\n",
    "\n",
    "print(df)\n",
    "\n",
    "for i, j in df.iterrows():\n",
    "\tprint()\n",
    "\t# print(i, j)\n",
    "\n",
    "# Iterating over Columns :\n",
    "\n",
    "df = df.copy()\n",
    "# creating a list of dataframe columns\n",
    "columns = list(df)\n",
    "\n",
    "for i in columns: \n",
    "    # printing the third element of the column\n",
    "    print (df[i][2])"
   ]
  },
  {
   "cell_type": "code",
   "execution_count": null,
   "id": "fd641ed6",
   "metadata": {},
   "outputs": [],
   "source": []
  },
  {
   "cell_type": "code",
   "execution_count": null,
   "id": "a1d3e5eb",
   "metadata": {},
   "outputs": [],
   "source": []
  },
  {
   "cell_type": "code",
   "execution_count": null,
   "id": "0507dc41",
   "metadata": {},
   "outputs": [],
   "source": [
    "import pandas as pd\n",
    "\n",
    "XYZ_web = {'day':[1,2,3,4,5,6], \"Visitors\":[1000,700,6000,1000,400,350], 'Bounce_Rate':[20,20,23,15,10,34]}\n",
    "df = pd.DataFrame(XYZ_web)\n",
    "print(df)"
   ]
  },
  {
   "cell_type": "markdown",
   "id": "35355413",
   "metadata": {},
   "source": [
    "## Slicing "
   ]
  },
  {
   "cell_type": "code",
   "execution_count": 4,
   "id": "51ab407a",
   "metadata": {},
   "outputs": [
    {
     "name": "stdout",
     "output_type": "stream",
     "text": [
      "   day  Visitors  Bounce_Rate\n",
      "0    1      1000           20\n",
      "1    2       700           20\n"
     ]
    }
   ],
   "source": [
    "import pandas as pd\n",
    "\n",
    "XYZ_web = {'day':[1,2,3,4,5,6], \"Visitors\":[1000,700,6000,1000,400,350], 'Bounce_Rate':[20,20,23,15,10,34]}\n",
    "df = pd.DataFrame(XYZ_web)\n",
    "print(df.head(2))"
   ]
  },
  {
   "cell_type": "code",
   "execution_count": 5,
   "id": "0d68a20a",
   "metadata": {},
   "outputs": [
    {
     "name": "stdout",
     "output_type": "stream",
     "text": [
      "   day  Visitors  Bounce_Rate\n",
      "4    5       400           10\n",
      "5    6       350           34\n"
     ]
    }
   ],
   "source": [
    "import pandas as pd\n",
    "\n",
    "XYZ_web = {'day':[1,2,3,4,5,6], \"Visitors\":[1000,700,6000,1000,400,350], 'Bounce_Rate':[20,20,23,15,10,34]}\n",
    "df = pd.DataFrame(XYZ_web)\n",
    "print(df.tail(2))"
   ]
  },
  {
   "cell_type": "markdown",
   "id": "3d9f396a",
   "metadata": {},
   "source": [
    "## Merging "
   ]
  },
  {
   "cell_type": "code",
   "execution_count": 6,
   "id": "dec943a4",
   "metadata": {},
   "outputs": [
    {
     "name": "stdout",
     "output_type": "stream",
     "text": [
      "   HPI  Int_rate  IND_GDP\n",
      "0   80         2       50\n",
      "1   90         1       45\n",
      "2   70         2       45\n",
      "3   60         3       67\n"
     ]
    }
   ],
   "source": [
    "import pandas as pd\n",
    "\n",
    "df1 = pd.DataFrame({\"HPI\":[80,90,70,60],\"Int_rate\":[2,1,2,3],\"IND_GDP\":[50,45,45,67]},\n",
    "                  index = [2001,2002,2003,2004])\n",
    "df2 = pd.DataFrame({\"HPI\":[80,90,70,60],\"Int_rate\":[2,1,2,3],\"IND_GDP\":[50,45,45,67]},\n",
    "                  index = [2005,2006,2007,2008])\n",
    "merge = pd.merge(df1,df2)\n",
    "print(merge)"
   ]
  },
  {
   "cell_type": "code",
   "execution_count": 7,
   "id": "955f6cb7",
   "metadata": {},
   "outputs": [
    {
     "name": "stdout",
     "output_type": "stream",
     "text": [
      "   HPI  Int_rate_x  IND_GDP_x  Int_rate_y  IND_GDP_y\n",
      "0   80           2         50           2         50\n",
      "1   90           1         45           1         45\n",
      "2   70           2         45           2         45\n",
      "3   60           3         67           3         67\n"
     ]
    }
   ],
   "source": [
    "import pandas as pd\n",
    "\n",
    "df1 = pd.DataFrame({\"HPI\":[80,90,70,60],\"Int_rate\":[2,1,2,3],\"IND_GDP\":[50,45,45,67]},\n",
    "                  index = [2001,2002,2003,2004])\n",
    "df2 = pd.DataFrame({\"HPI\":[80,90,70,60],\"Int_rate\":[2,1,2,3],\"IND_GDP\":[50,45,45,67]},\n",
    "                  index = [2005,2006,2007,2008])\n",
    "merge = pd.merge(df1,df2, on = \"HPI\")\n",
    "print(merge)"
   ]
  },
  {
   "cell_type": "markdown",
   "id": "b95d420e",
   "metadata": {},
   "source": [
    "## Joining "
   ]
  },
  {
   "cell_type": "code",
   "execution_count": 9,
   "id": "b9d2aeac",
   "metadata": {},
   "outputs": [
    {
     "name": "stdout",
     "output_type": "stream",
     "text": [
      "      Int_rate  IND_GDP  Low_Tier_HPI  Unemployment\n",
      "2001         2       50          50.0           1.0\n",
      "2002         1       45           NaN           NaN\n",
      "2003         2       45          45.0           3.0\n",
      "2004         3       67          67.0           5.0\n",
      "2004         3       67          34.0           6.0\n"
     ]
    }
   ],
   "source": [
    "import pandas as pd\n",
    "\n",
    "df1 = pd.DataFrame({\"Int_rate\":[2,1,2,3],\"IND_GDP\":[50,45,45,67]},\n",
    "                  index = [2001,2002,2003,2004])\n",
    "df2 = pd.DataFrame({\"Low_Tier_HPI\":[50,45,67,34],\"Unemployment\":[1,3,5,6]},\n",
    "                  index = [2001,2003,2004,2004])\n",
    "joined = df1.join(df2)\n",
    "print(joined)"
   ]
  },
  {
   "cell_type": "markdown",
   "id": "73915517",
   "metadata": {},
   "source": [
    "## Changing the index and column headers"
   ]
  },
  {
   "cell_type": "code",
   "execution_count": 10,
   "id": "c1e1a409",
   "metadata": {},
   "outputs": [
    {
     "name": "stdout",
     "output_type": "stream",
     "text": [
      "   Day  Visitors  Bounce_rate\n",
      "0    1       200           20\n",
      "1    2       100           45\n",
      "2    3       230           60\n",
      "3    4       300           10\n"
     ]
    }
   ],
   "source": [
    "import pandas as pd\n",
    "\n",
    "df = pd.DataFrame({\"Day\":[1,2,3,4], \"Visitors\":[200,100,230,300], \"Bounce_rate\":[20,45,60,10]})\n",
    "print(df)"
   ]
  },
  {
   "cell_type": "code",
   "execution_count": 12,
   "id": "5f445161",
   "metadata": {},
   "outputs": [
    {
     "name": "stdout",
     "output_type": "stream",
     "text": [
      "     Visitors  Bounce_rate\n",
      "Day                       \n",
      "1         200           20\n",
      "2         100           45\n",
      "3         230           60\n",
      "4         300           10\n"
     ]
    }
   ],
   "source": [
    "import pandas as pd\n",
    "\n",
    "df = pd.DataFrame({\"Day\":[1,2,3,4], \"Visitors\":[200,100,230,300], \"Bounce_rate\":[20,45,60,10]})\n",
    "df.set_index(\"Day\", inplace=True)\n",
    "print(df)"
   ]
  },
  {
   "cell_type": "code",
   "execution_count": 14,
   "id": "2897e202",
   "metadata": {},
   "outputs": [
    {
     "data": {
      "image/png": "[encoded data removed]",
      "text/plain": [
       "<Figure size 432x288 with 1 Axes>"
      ]
     },
     "metadata": {},
     "output_type": "display_data"
    }
   ],
   "source": [
    "import pandas as pd\n",
    "import matplotlib.pyplot as plt\n",
    "from matplotlib import style\n",
    "style.use(\"fivethirtyeight\")\n",
    "\n",
    "df = pd.DataFrame({\"Day\":[1,2,3,4], \"Visitors\":[200,100,230,300], \"Bounce_rate\":[20,45,60,10]})\n",
    "df.set_index(\"Day\", inplace=True)\n",
    "df.plot()\n",
    "plt.show()"
   ]
  },
  {
   "cell_type": "code",
   "execution_count": 15,
   "id": "e4b973c6",
   "metadata": {},
   "outputs": [
    {
     "name": "stdout",
     "output_type": "stream",
     "text": [
      "   Day  Users  Bounce_rate\n",
      "0    1    200           20\n",
      "1    2    100           45\n",
      "2    3    230           60\n",
      "3    4    300           10\n"
     ]
    }
   ],
   "source": [
    "import pandas as pd\n",
    "import matplotlib.pyplot as plt\n",
    "from matplotlib import style\n",
    "style.use(\"fivethirtyeight\")\n",
    "\n",
    "df = pd.DataFrame({\"Day\":[1,2,3,4], \"Visitors\":[200,100,230,300], \"Bounce_rate\":[20,45,60,10]})\n",
    "df = df.rename(columns={\"Visitors\":\"Users\"})\n",
    "print(df)"
   ]
  },
  {
   "cell_type": "markdown",
   "id": "d17fa574",
   "metadata": {},
   "source": [
    "## Concatenation "
   ]
  },
  {
   "cell_type": "code",
   "execution_count": 16,
   "id": "4acee954",
   "metadata": {},
   "outputs": [
    {
     "name": "stdout",
     "output_type": "stream",
     "text": [
      "      HPI  Int_rate  IND_GDP_Thousands\n",
      "2001   80         2                 50\n",
      "2002   85         3                 55\n",
      "2003   88         2                 65\n",
      "2004   85         2                 55\n",
      "2005   80         2                 50\n",
      "2006   85         3                 55\n",
      "2007   88         2                 65\n",
      "2008   85         2                 55\n"
     ]
    }
   ],
   "source": [
    "import pandas as pd\n",
    "df1 = pd.DataFrame({'HPI':[80,85,88,85],\n",
    "                    'Int_rate':[2,3,2,2,],\n",
    "                   'IND_GDP_Thousands':[50,55,65,55]},\n",
    "                  index = [2001,2002,2003,2004])\n",
    "\n",
    "df2 = pd.DataFrame({'HPI':[80,85,88,85],\n",
    "                    'Int_rate':[2,3,2,2,],\n",
    "                   'IND_GDP_Thousands':[50,55,65,55]},\n",
    "                  index = [2005,2006,2007,2008])\n",
    "concat = pd.concat([df1,df2])\n",
    "print(concat)"
   ]
  },
  {
   "cell_type": "markdown",
   "id": "63fd4d62",
   "metadata": {},
   "source": [
    "## data munging "
   ]
  },
  {
   "cell_type": "code",
   "execution_count": null,
   "id": "8b61093b",
   "metadata": {},
   "outputs": [],
   "source": [
    "import pandas as pd\n",
    "\n",
    "country = pd.read_csv(\"\"\"file path\"\"\", index_col=0)\n",
    "\n",
    "country.yo_html('edu.html')"
   ]
  },
  {
   "cell_type": "code",
   "execution_count": null,
   "id": "f057ace2",
   "metadata": {},
   "outputs": [],
   "source": [
    "import pandas as pd\n",
    "import matplotlib.pyplot as plt\n",
    "from matplotlib import style\n",
    "style.use(\"fivethirtyeight\")\n",
    "country = pd.read_csv(\"\"\"file path\"\"\", index_col=0)\n",
    "df = country.head(5)\n",
    "df = df.set_index([\"Country code\"])\n",
    "sd = df.reindex(columns=['2010','2011'])\n",
    "print(sd)\n",
    "db = sd.diff(axis=1)\n",
    "db.plot(kind = 'bar')\n",
    "plt.show()"
   ]
  },
  {
   "cell_type": "markdown",
   "id": "3e958592",
   "metadata": {},
   "source": [
    "## Statistics"
   ]
  },
  {
   "cell_type": "code",
   "execution_count": 17,
   "id": "1545287e",
   "metadata": {},
   "outputs": [],
   "source": [
    "# Mean\n",
    "# Median\n",
    "# Mode\n",
    "# Variance"
   ]
  },
  {
   "cell_type": "code",
   "execution_count": 21,
   "id": "8c3d366d",
   "metadata": {},
   "outputs": [
    {
     "name": "stdout",
     "output_type": "stream",
     "text": [
      "2.3333333333333335\n"
     ]
    }
   ],
   "source": [
    "from statistics import mean\n",
    "a = mean([1,2,2,2,1,3,4,1,5])\n",
    "print(a)"
   ]
  },
  {
   "cell_type": "code",
   "execution_count": 22,
   "id": "3d9a0c3f",
   "metadata": {},
   "outputs": [
    {
     "name": "stdout",
     "output_type": "stream",
     "text": [
      "1\n"
     ]
    }
   ],
   "source": [
    "from statistics import median\n",
    "b = median([1,1,1,2,2])\n",
    "print(b)"
   ]
  },
  {
   "cell_type": "code",
   "execution_count": 23,
   "id": "a74656a1",
   "metadata": {},
   "outputs": [
    {
     "name": "stdout",
     "output_type": "stream",
     "text": [
      "1\n"
     ]
    }
   ],
   "source": [
    "from statistics import mode\n",
    "\n",
    "c = mode([1,1,1,2,2])\n",
    "print(c)"
   ]
  },
  {
   "cell_type": "code",
   "execution_count": 24,
   "id": "a423cb7d",
   "metadata": {},
   "outputs": [
    {
     "name": "stdout",
     "output_type": "stream",
     "text": [
      "0.3\n"
     ]
    }
   ],
   "source": [
    "from statistics import variance\n",
    "d = variance([1,1,1,2,2])\n",
    "print(d)"
   ]
  },
  {
   "cell_type": "markdown",
   "id": "eca9f674",
   "metadata": {},
   "source": [
    "## Hadoop"
   ]
  }
 ],
 "metadata": {
  "kernelspec": {
   "display_name": "Python 3",
   "language": "python",
   "name": "python3"
  },
  "language_info": {
   "codemirror_mode": {
    "name": "ipython",
    "version": 3
   },
   "file_extension": ".py",
   "mimetype": "text/x-python",
   "name": "python",
   "nbconvert_exporter": "python",
   "pygments_lexer": "ipython3",
   "version": "3.11.4"
  }
 },
 "nbformat": 4,
 "nbformat_minor": 5
}
