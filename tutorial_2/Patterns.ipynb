{
 "cells": [
  {
   "cell_type": "markdown",
   "id": "c22ffca1",
   "metadata": {},
   "source": [
    "# Patterns"
   ]
  },
  {
   "cell_type": "markdown",
   "id": "35da8310",
   "metadata": {},
   "source": [
    "# Star pattern programme"
   ]
  },
  {
   "cell_type": "code",
   "execution_count": 1,
   "id": "5b8fbb96",
   "metadata": {},
   "outputs": [
    {
     "data": {
      "text/plain": [
       "'\\nStar Pyramid Pattern\\nHalf Pyramid Pattern\\nTriangle Pattern\\nHourglass Pattern\\nDiamond Pattern\\nInverted Pyramid Patterns\\n'"
      ]
     },
     "execution_count": 1,
     "metadata": {},
     "output_type": "execute_result"
    }
   ],
   "source": [
    "\"\"\"\n",
    "Star Pyramid Pattern\n",
    "Half Pyramid Pattern\n",
    "Triangle Pattern\n",
    "Hourglass Pattern\n",
    "Diamond Pattern\n",
    "Inverted Pyramid Patterns\n",
    "\"\"\""
   ]
  },
  {
   "cell_type": "code",
   "execution_count": 2,
   "id": "cbaa4f2d",
   "metadata": {},
   "outputs": [
    {
     "name": "stdout",
     "output_type": "stream",
     "text": [
      "                  * \r\n",
      "                 * * \r\n",
      "                * * * \r\n",
      "               * * * * \r\n",
      "              * * * * * \r\n",
      "             * * * * * * \r\n",
      "            * * * * * * * \r\n",
      "           * * * * * * * * \r\n",
      "          * * * * * * * * * \r\n",
      "         * * * * * * * * * * \r\n"
     ]
    }
   ],
   "source": [
    "# Star Pyramid\n",
    "def pattern(n):\n",
    "    k = 2 * n - 2\n",
    "    for i in range(0,n):\n",
    "        for j in range(0,k):\n",
    "            print(end=\" \")\n",
    "        k = k - 1\n",
    "        for j in range(0, i + 1):\n",
    "            print(\"* \", end=\"\")\n",
    "        print('\\r')\n",
    "            \n",
    "pattern(10)"
   ]
  },
  {
   "cell_type": "code",
   "execution_count": 3,
   "id": "a87e6b40",
   "metadata": {},
   "outputs": [
    {
     "name": "stdout",
     "output_type": "stream",
     "text": [
      "                  * * * * * * * * * * * \r\n",
      "                   * * * * * * * * * * \r\n",
      "                    * * * * * * * * * \r\n",
      "                     * * * * * * * * \r\n",
      "                      * * * * * * * \r\n",
      "                       * * * * * * \r\n",
      "                        * * * * * \r\n",
      "                         * * * * \r\n",
      "                          * * * \r\n",
      "                           * * \r\n",
      "                            * \r\n"
     ]
    }
   ],
   "source": [
    "# Inverse Pyramid\n",
    "def pattern(n):\n",
    "    k = 2 * n -2\n",
    "    for i in range(n,-1,-1):\n",
    "        for j in range(k, 0, -1):\n",
    "            print(end=\" \")\n",
    "        k = k + 1\n",
    "        for j in range(0, i + 1):\n",
    "            print(\"* \", end=\"\")\n",
    "        print(\"\\r\")\n",
    "pattern(10)        "
   ]
  },
  {
   "cell_type": "code",
   "execution_count": 4,
   "id": "747bdb63",
   "metadata": {},
   "outputs": [
    {
     "name": "stdout",
     "output_type": "stream",
     "text": [
      "* \r\n",
      "* * \r\n",
      "* * * \r\n",
      "* * * * \r\n",
      "* * * * * \r\n",
      "* * * * * * \r\n",
      "* * * * * * * \r\n",
      "* * * * * * * * \r\n",
      "* * * * * * * * * \r\n",
      "* * * * * * * * * * \r\n",
      "* * * * * * * * * * * \r\n",
      "* * * * * * * * * * \r\n",
      "* * * * * * * * * \r\n",
      "* * * * * * * * \r\n",
      "* * * * * * * \r\n",
      "* * * * * * \r\n",
      "* * * * * \r\n",
      "* * * * \r\n",
      "* * * \r\n",
      "* * \r\n"
     ]
    }
   ],
   "source": [
    "#Right start pattern\n",
    "def pattern(n):\n",
    "    for i in range(0,n):\n",
    "        for j in range(0, i + 1):\n",
    "            print(\"* \", end=\"\")\n",
    "        print(\"\\r\")\n",
    "    for i in range(n, 0, -1):\n",
    "        for j in range(0, i + 1):\n",
    "            print(\"* \", end=\"\")\n",
    "        print(\"\\r\")\n",
    "pattern(10)"
   ]
  },
  {
   "cell_type": "code",
   "execution_count": 7,
   "id": "cfe28af1",
   "metadata": {},
   "outputs": [
    {
     "name": "stdout",
     "output_type": "stream",
     "text": [
      "                  * \r\n",
      "                * * \r\n",
      "              * * * \r\n",
      "            * * * * \r\n",
      "          * * * * * \r\n",
      "        * * * * * * \r\n",
      "      * * * * * * * \r\n",
      "    * * * * * * * * \r\n",
      "  * * * * * * * * * \r\n",
      "* * * * * * * * * * \r\n",
      "  * * * * * * * * * \r\n",
      "    * * * * * * * * \r\n",
      "      * * * * * * * \r\n",
      "        * * * * * * \r\n",
      "          * * * * * \r\n",
      "            * * * * \r\n",
      "              * * * \r\n",
      "                * * \r\n",
      "                  * \r\n"
     ]
    }
   ],
   "source": [
    "#Left start program\n",
    "def pattern(n):\n",
    "    k = 2 * n - 2\n",
    "    for i in range(0, n-1):\n",
    "        for j in range(0, k):\n",
    "            print(end=\" \")\n",
    "        k = k - 2\n",
    "        for j in range(0, i + 1):\n",
    "            print(\"* \", end=\"\")\n",
    "        print(\"\\r\")\n",
    "    k = - 1\n",
    "    for i in range(n-1, -1, -1):\n",
    "        for j in range(k, -1, -1):\n",
    "            print(end=\" \")\n",
    "        k = k + 2\n",
    "        for j in range(0, i + 1):\n",
    "            print(\"* \", end=\"\")\n",
    "        print(\"\\r\")\n",
    "pattern(10)"
   ]
  },
  {
   "cell_type": "code",
   "execution_count": 78,
   "id": "31c16ed5",
   "metadata": {},
   "outputs": [
    {
     "name": "stdout",
     "output_type": "stream",
     "text": [
      "     * * * * * * * \r\n",
      "      * * * * * * \r\n",
      "       * * * * * \r\n",
      "        * * * * \r\n",
      "         * * * \r\n",
      "          * * \r\n",
      "           * \r\n",
      "          * \r\n",
      "         * * \r\n",
      "        * * * \r\n",
      "       * * * * \r\n",
      "      * * * * * \r\n",
      "     * * * * * * \r\n",
      "    * * * * * * * \r\n"
     ]
    }
   ],
   "source": [
    "# Hourglass pattern\n",
    "def pattern(n):\n",
    "    k = n - 2\n",
    "    for i in range(n, -1, -1):\n",
    "        for j in range(k, -1, -1):\n",
    "            print(end=\" \")\n",
    "        k = k + 1\n",
    "        for j in range(0, i + 1):\n",
    "            print(\"* \", end=\"\")\n",
    "        print(\"\\r\")\n",
    "    k = 2 * n - 2\n",
    "    for i in range(0,n+1):\n",
    "        for j in range(0, k):\n",
    "            print(end=\" \")\n",
    "        k = k - 1\n",
    "        for j in range(0, i + 1):\n",
    "            print(\"* \", end=\"\")\n",
    "        print(\"\\r\")\n",
    "pattern(6)"
   ]
  },
  {
   "cell_type": "code",
   "execution_count": 68,
   "id": "11fa379f",
   "metadata": {},
   "outputs": [
    {
     "name": "stdout",
     "output_type": "stream",
     "text": [
      "   * * * * * * * \r\n",
      "    * * * * * * \r\n",
      "     * * * * * \r\n",
      "      * * * * \r\n",
      "       * * * \r\n",
      "        * * \r\n",
      "         * \r\n",
      "         * \r\n",
      "        * * \r\n",
      "       * * * \r\n",
      "      * * * * \r\n",
      "     * * * * * \r\n",
      "    * * * * * * \r\n",
      "   * * * * * * * \r\n"
     ]
    }
   ],
   "source": [
    "# Hourglass pattern\n",
    "def pattern(n):\n",
    "    k = n - 3\n",
    "    for i in range(n,-1,-1):\n",
    "        for j in range(k, 0, -1):\n",
    "            print(end=\" \")\n",
    "        k = k + 1\n",
    "        for j in range(0, i + 1):\n",
    "            print(\"* \", end=\"\")\n",
    "        print(\"\\r\")\n",
    "    k = n + 3\n",
    "    for i in range(0,n+1):\n",
    "        for j in range(0,k):\n",
    "            print(end=\" \")\n",
    "        k = k - 1\n",
    "        for j in range(0, i + 1):\n",
    "            print(\"* \", end=\"\")\n",
    "        print('\\r')\n",
    "    \n",
    "pattern(6)   "
   ]
  },
  {
   "cell_type": "code",
   "execution_count": 70,
   "id": "13f87a55",
   "metadata": {},
   "outputs": [
    {
     "name": "stdout",
     "output_type": "stream",
     "text": [
      "* \r\n",
      "* * \r\n",
      "* * * \r\n",
      "* * * * \r\n",
      "* * * * * \r\n",
      "* * * * * * \r\n",
      "* * * * * * * \r\n",
      "* * * * * * * * \r\n",
      "* * * * * * * * * \r\n",
      "* * * * * * * * * * \r\n"
     ]
    }
   ],
   "source": [
    "# Half pyramid pattern\n",
    "def pattern(n):\n",
    "    for i in range(0,n):\n",
    "        for j in range(0,i+1):\n",
    "            print(\"* \", end=\"\")\n",
    "        print(\"\\r\")\n",
    "pattern(10)"
   ]
  },
  {
   "cell_type": "code",
   "execution_count": 72,
   "id": "e5322fe1",
   "metadata": {},
   "outputs": [
    {
     "name": "stdout",
     "output_type": "stream",
     "text": [
      "                  * \r\n",
      "                * * \r\n",
      "              * * * \r\n",
      "            * * * * \r\n",
      "          * * * * * \r\n",
      "        * * * * * * \r\n",
      "      * * * * * * * \r\n",
      "    * * * * * * * * \r\n",
      "  * * * * * * * * * \r\n",
      "* * * * * * * * * * \r\n"
     ]
    }
   ],
   "source": [
    "# Half pyramid pattern\n",
    "def pattern(n):\n",
    "    k = 2 * n - 2\n",
    "    for i in range(0,n):\n",
    "        for j in range(0,k):\n",
    "            print(end=\" \")\n",
    "        k = k - 2\n",
    "        for j in range(0,i+1):\n",
    "            print(\"* \", end=\"\")\n",
    "        print(\"\\r\")\n",
    "pattern(10)"
   ]
  },
  {
   "cell_type": "code",
   "execution_count": 73,
   "id": "f121851a",
   "metadata": {},
   "outputs": [
    {
     "name": "stdout",
     "output_type": "stream",
     "text": [
      "* * * * * * * * * * * \r\n",
      "* * * * * * * * * * \r\n",
      "* * * * * * * * * \r\n",
      "* * * * * * * * \r\n",
      "* * * * * * * \r\n",
      "* * * * * * \r\n",
      "* * * * * \r\n",
      "* * * * \r\n",
      "* * * \r\n",
      "* * \r\n",
      "* \r\n"
     ]
    }
   ],
   "source": [
    "# Downward half pyramid\n",
    "def pattern(n):\n",
    "    for i in range(n,-1,-1):\n",
    "        for j in range(0,i+1):\n",
    "            print(\"* \", end=\"\")\n",
    "        print(\"\\r\")\n",
    "pattern(10)"
   ]
  },
  {
   "cell_type": "code",
   "execution_count": 84,
   "id": "9254bf18",
   "metadata": {},
   "outputs": [
    {
     "name": "stdout",
     "output_type": "stream",
     "text": [
      "                  * \r\n",
      "                 * * \r\n",
      "                * * * \r\n",
      "               * * * * \r\n",
      "              * * * * * \r\n",
      "             * * * * * * \r\n",
      "            * * * * * * * \r\n",
      "           * * * * * * * * \r\n",
      "          * * * * * * * * * \r\n",
      "         * * * * * * * * * * \r\n",
      "        * * * * * * * * * * * \r\n",
      "         * * * * * * * * * * \r\n",
      "          * * * * * * * * * \r\n",
      "           * * * * * * * * \r\n",
      "            * * * * * * * \r\n",
      "             * * * * * * \r\n",
      "              * * * * * \r\n",
      "               * * * * \r\n",
      "                * * * \r\n",
      "                 * * \r\n",
      "                  * \r\n"
     ]
    }
   ],
   "source": [
    "# diamond pattern\n",
    "def pattern(n):\n",
    "    k = 2 * n - 2\n",
    "    for i in range(0,n):\n",
    "        for j in range(0,k):\n",
    "            print(end=\" \")\n",
    "        k = k - 1\n",
    "        for j in range(0, i + 1):\n",
    "            print(\"* \", end=\"\")\n",
    "        print(\"\\r\")\n",
    "    k = n - 2\n",
    "    for i in range(n, -1, -1):\n",
    "        for j in range(k, 0, -1):\n",
    "            print(end=\" \")\n",
    "        k = k + 1\n",
    "        for j in range(0, i + 1):\n",
    "            print(\"* \", end=\"\")\n",
    "        print(\"\\r\")\n",
    "        \n",
    "pattern(10)"
   ]
  },
  {
   "cell_type": "code",
   "execution_count": 90,
   "id": "66d40873",
   "metadata": {},
   "outputs": [
    {
     "name": "stdout",
     "output_type": "stream",
     "text": [
      "  *  \n",
      " * * \n",
      "*   *\n",
      " * * \n",
      "  *  \n"
     ]
    }
   ],
   "source": [
    "# diamond Star pattern\n",
    "for i in range(5):\n",
    "    for j in range(5):\n",
    "        if i + j == 2 or i - j == 2 or i + j == 6 or j - i == 2:\n",
    "            print(\"*\",end=\"\")\n",
    "        else:\n",
    "            print(end=\" \")\n",
    "    print()"
   ]
  },
  {
   "cell_type": "markdown",
   "id": "784d3aa1",
   "metadata": {},
   "source": [
    "# Number Pattern"
   ]
  },
  {
   "cell_type": "code",
   "execution_count": 95,
   "id": "2123125e",
   "metadata": {},
   "outputs": [
    {
     "name": "stdout",
     "output_type": "stream",
     "text": [
      "1 \r\n",
      "2 2 \r\n",
      "3 3 3 \r\n",
      "4 4 4 4 \r\n",
      "5 5 5 5 5 \r\n",
      "6 6 6 6 6 6 \r\n",
      "7 7 7 7 7 7 7 \r\n",
      "8 8 8 8 8 8 8 8 \r\n",
      "9 9 9 9 9 9 9 9 9 \r\n",
      "10 10 10 10 10 10 10 10 10 10 \r\n"
     ]
    }
   ],
   "source": [
    "# Number Pattern\n",
    "def pattern(n):\n",
    "    x = 0\n",
    "    for i in range(0,n):\n",
    "        x += 1\n",
    "        for j in range(0, i + 1):\n",
    "            print(x, end=\" \")\n",
    "        print(\"\\r\")\n",
    "pattern(10)"
   ]
  },
  {
   "cell_type": "code",
   "execution_count": 103,
   "id": "3f208ca0",
   "metadata": {},
   "outputs": [
    {
     "name": "stdout",
     "output_type": "stream",
     "text": [
      "1  \n",
      "1  1  \n",
      "1  2  1  \n",
      "1  3  3  1  \n",
      "1  4  6  4  1  \n"
     ]
    }
   ],
   "source": [
    "# pascal's Pattern\n",
    "def pattern(n):\n",
    "    for i in range(0, n):\n",
    "        for j in range(0, i + 1):\n",
    "            print(function(i,j),\" \", end=\"\")\n",
    "        print()\n",
    "\n",
    "def function(n, k):\n",
    "    res = 1\n",
    "    if (k > n - k):\n",
    "        k = n - k\n",
    "    for i in range(0,k):\n",
    "        res = res * (n-i)\n",
    "        res = res//(i+1)\n",
    "    return res\n",
    "pattern(5)\n",
    "        "
   ]
  },
  {
   "cell_type": "code",
   "execution_count": 109,
   "id": "9625c6d5",
   "metadata": {},
   "outputs": [
    {
     "name": "stdout",
     "output_type": "stream",
     "text": [
      "            1 \r\n",
      "           2 2 \r\n",
      "          3 3 3 \r\n",
      "         4 4 4 4 \r\n",
      "        5 5 5 5 5 \r\n",
      "       6 6 6 6 6 6 \r\n",
      "      7 7 7 7 7 7 7 \r\n",
      "     8 8 8 8 8 8 8 8 \r\n",
      "      7 7 7 7 7 7 7 \r\n",
      "       6 6 6 6 6 6 \r\n",
      "        5 5 5 5 5 \r\n",
      "         4 4 4 4 \r\n",
      "          3 3 3 \r\n",
      "           2 2 \r\n",
      "            1 \r\n"
     ]
    }
   ],
   "source": [
    "def pattern(n):\n",
    "    k = 2 * n - 2\n",
    "    x = 0\n",
    "    for i in range(0,n):\n",
    "        x = x + 1\n",
    "        for j in range(0,k):\n",
    "            print(end=\" \")\n",
    "        k = k - 1\n",
    "        for j in range(0, i + 1):\n",
    "            print(x, end=\" \")\n",
    "        print(\"\\r\")\n",
    "    k = n - 2\n",
    "    x = 9\n",
    "    for i in range(n, -1, -1):\n",
    "        x = x - 1\n",
    "        for j in range(k, 0, -1):\n",
    "            print(end=\" \")\n",
    "        k = k + 1\n",
    "        for j in range(0, i + 1):\n",
    "            print(x, end=\" \")\n",
    "        print(\"\\r\")\n",
    "        \n",
    "pattern(7)"
   ]
  },
  {
   "cell_type": "code",
   "execution_count": 111,
   "id": "6bce00ae",
   "metadata": {},
   "outputs": [
    {
     "name": "stdout",
     "output_type": "stream",
     "text": [
      "1 2 3 4 5 \r\n",
      "1 2 3 4 \r\n",
      "1 2 3 \r\n",
      "1 2 \r\n",
      "1 \r\n"
     ]
    }
   ],
   "source": [
    "# reverse Number Pattern\n",
    "def pattern(n):\n",
    "    for i in range(n,0,-1):\n",
    "        for j in range(1, i+1):\n",
    "            print(j, end=\" \")\n",
    "        print(\"\\r\")\n",
    "pattern(5)"
   ]
  },
  {
   "cell_type": "code",
   "execution_count": 113,
   "id": "ec5d359e",
   "metadata": {},
   "outputs": [
    {
     "name": "stdout",
     "output_type": "stream",
     "text": [
      "        10\r\n",
      "       1010\r\n",
      "      101010\r\n",
      "     10101010\r\n",
      "    1010101010\r\n"
     ]
    }
   ],
   "source": [
    "# binary number pattern\n",
    "def pattern(n):\n",
    "    k = 2 * n - 2\n",
    "    for i in range(0,n):\n",
    "        for j in range(0, k):\n",
    "            print(end=\" \")\n",
    "        k = k - 1\n",
    "        for j in range(0, i + 1):\n",
    "            print('10', end=\"\")\n",
    "        print(\"\\r\")\n",
    "pattern(5)"
   ]
  },
  {
   "cell_type": "markdown",
   "id": "76457681",
   "metadata": {},
   "source": [
    "# Charactor Pattern"
   ]
  },
  {
   "cell_type": "code",
   "execution_count": 121,
   "id": "81dcb05f",
   "metadata": {},
   "outputs": [
    {
     "name": "stdout",
     "output_type": "stream",
     "text": [
      "A \r\n",
      "B B \r\n",
      "C C C \r\n",
      "D D D D \r\n",
      "E E E E E \r\n",
      "F F F F F F \r\n",
      "G G G G G G G \r\n",
      "H H H H H H H H \r\n",
      "I I I I I I I I I \r\n",
      "J J J J J J J J J J \r\n",
      "K K K K K K K K K K K \r\n",
      "L L L L L L L L L L L L \r\n",
      "M M M M M M M M M M M M M \r\n",
      "N N N N N N N N N N N N N N \r\n",
      "O O O O O O O O O O O O O O O \r\n",
      "P P P P P P P P P P P P P P P P \r\n",
      "Q Q Q Q Q Q Q Q Q Q Q Q Q Q Q Q Q \r\n",
      "R R R R R R R R R R R R R R R R R R \r\n",
      "S S S S S S S S S S S S S S S S S S S \r\n",
      "T T T T T T T T T T T T T T T T T T T T \r\n",
      "U U U U U U U U U U U U U U U U U U U U U \r\n",
      "V V V V V V V V V V V V V V V V V V V V V V \r\n",
      "W W W W W W W W W W W W W W W W W W W W W W W \r\n",
      "X X X X X X X X X X X X X X X X X X X X X X X X \r\n",
      "Y Y Y Y Y Y Y Y Y Y Y Y Y Y Y Y Y Y Y Y Y Y Y Y Y \r\n",
      "Z Z Z Z Z Z Z Z Z Z Z Z Z Z Z Z Z Z Z Z Z Z Z Z Z Z \r\n"
     ]
    }
   ],
   "source": [
    "# right alphabetical triangle\n",
    "def pattern(n):\n",
    "    x = 65\n",
    "    for i in range(0,n):\n",
    "        ch = chr(x)\n",
    "        x = x + 1\n",
    "        for j in range(0, i + 1):\n",
    "            print(ch, end=\" \")\n",
    "        print(\"\\r\")\n",
    "pattern(26)"
   ]
  },
  {
   "cell_type": "code",
   "execution_count": 125,
   "id": "e16bc620",
   "metadata": {},
   "outputs": [
    {
     "name": "stdout",
     "output_type": "stream",
     "text": [
      "            A \r\n",
      "           B C \r\n",
      "          D E F \r\n",
      "         G H I J \r\n",
      "        K L M N O \r\n",
      "       P Q R S T U \r\n",
      "      V W X Y Z [ \\ \r\n"
     ]
    }
   ],
   "source": [
    "def pattern(n):\n",
    "    k = 2 * n - 2\n",
    "    x = 65\n",
    "    for i in range(0,n):\n",
    "        for j in range(0,k):\n",
    "            print(end=\" \")\n",
    "        k = k - 1\n",
    "        for j in range(0, i + 1):\n",
    "            ch = chr(x)\n",
    "            print(ch, end=\" \")\n",
    "            x += 1\n",
    "        print(\"\\r\")\n",
    "pattern(7)        "
   ]
  },
  {
   "cell_type": "code",
   "execution_count": 126,
   "id": "ac85ff82",
   "metadata": {},
   "outputs": [
    {
     "name": "stdout",
     "output_type": "stream",
     "text": [
      "A   A    \n",
      "A  A     \n",
      "A A      \n",
      "A       \n",
      "A A      \n",
      "A  A     \n",
      "A   A    \n"
     ]
    }
   ],
   "source": [
    "for i in range(7):\n",
    "    for j in range(7):\n",
    "        if j == 0 or i - j == 3 or i + j ==3:\n",
    "            print(\"A\", end=\" \")\n",
    "        else:\n",
    "            print(end=\" \")\n",
    "    print()"
   ]
  },
  {
   "cell_type": "code",
   "execution_count": 128,
   "id": "0a073705",
   "metadata": {},
   "outputs": [
    {
     "name": "stdout",
     "output_type": "stream",
     "text": [
      "        A \r\n",
      "        B B \r\n",
      "        C C C \r\n",
      "        D D D D \r\n",
      "        E E E E E \r\n"
     ]
    }
   ],
   "source": [
    "def pattern(n):\n",
    "    k = 2 * n - 2\n",
    "    x = 65\n",
    "    for i in range(0,n):\n",
    "        ch = chr(x)\n",
    "        x += 1\n",
    "        for j in range(0,k):\n",
    "            print(end=\" \")\n",
    "        for j in range(0, i + 1):\n",
    "            print(ch, end= \" \")\n",
    "        print(\"\\r\")\n",
    "pattern(5)"
   ]
  },
  {
   "cell_type": "code",
   "execution_count": 132,
   "id": "c7b9939f",
   "metadata": {},
   "outputs": [
    {
     "name": "stdout",
     "output_type": "stream",
     "text": [
      "                            A \r\n",
      "                           B B \r\n",
      "                          C C C \r\n",
      "                         D D D D \r\n",
      "                        E E E E E \r\n",
      "                       F F F F F F \r\n",
      "                      G G G G G G G \r\n",
      "                     H H H H H H H H \r\n",
      "                    I I I I I I I I I \r\n",
      "                   J J J J J J J J J J \r\n",
      "                  K K K K K K K K K K K \r\n",
      "                 L L L L L L L L L L L L \r\n",
      "                M M M M M M M M M M M M M \r\n",
      "               N N N N N N N N N N N N N N \r\n",
      "              O O O O O O O O O O O O O O O \r\n",
      "             A A A A A A A A A A A A A A A A \r\n",
      "              B B B B B B B B B B B B B B B \r\n",
      "               C C C C C C C C C C C C C C \r\n",
      "                D D D D D D D D D D D D D \r\n",
      "                 E E E E E E E E E E E E \r\n",
      "                  F F F F F F F F F F F \r\n",
      "                   G G G G G G G G G G \r\n",
      "                    H H H H H H H H H \r\n",
      "                     I I I I I I I I \r\n",
      "                      J J J J J J J \r\n",
      "                       K K K K K K \r\n",
      "                        L L L L L \r\n",
      "                         M M M M \r\n",
      "                          N N N \r\n",
      "                           O O \r\n",
      "                            P \r\n"
     ]
    }
   ],
   "source": [
    "# diamond charector pattern\n",
    "def pattern(n):\n",
    "    k = 2 * n - 2\n",
    "    x = 65\n",
    "    for i in range(0,n):\n",
    "        ch = chr(x)\n",
    "        x = x + 1\n",
    "        for j in range(0,k):\n",
    "            print(end=\" \")\n",
    "        k = k - 1\n",
    "        for j in range(0, i + 1):\n",
    "            print(ch, end=\" \")\n",
    "        print(\"\\r\")\n",
    "    k = n - 2\n",
    "    x = 65\n",
    "    for i in range(n, -1, -1):\n",
    "        ch = chr(x)\n",
    "        x = x + 1\n",
    "        for j in range(k, 0, -1):\n",
    "            print(end=\" \")\n",
    "        k = k + 1\n",
    "        for j in range(0, i + 1):\n",
    "            print(ch, end=\" \")\n",
    "        print(\"\\r\")\n",
    "        \n",
    "pattern(15)"
   ]
  },
  {
   "cell_type": "code",
   "execution_count": null,
   "id": "da25ad2d",
   "metadata": {},
   "outputs": [],
   "source": []
  }
 ],
 "metadata": {
  "kernelspec": {
   "display_name": "Python 3 (ipykernel)",
   "language": "python",
   "name": "python3"
  },
  "language_info": {
   "codemirror_mode": {
    "name": "ipython",
    "version": 3
   },
   "file_extension": ".py",
   "mimetype": "text/x-python",
   "name": "python",
   "nbconvert_exporter": "python",
   "pygments_lexer": "ipython3",
   "version": "3.9.7"
  }
 },
 "nbformat": 4,
 "nbformat_minor": 5
}
