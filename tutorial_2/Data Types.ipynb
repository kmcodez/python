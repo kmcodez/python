{
 "cells": [
  {
   "cell_type": "markdown",
   "id": "6c8f4bb0",
   "metadata": {},
   "source": [
    "# Data Types"
   ]
  },
  {
   "cell_type": "code",
   "execution_count": 1,
   "id": "5df8dcb3",
   "metadata": {},
   "outputs": [],
   "source": [
    "# 1.Numbers\n",
    "# 2.String\n",
    "# 3.List\n",
    "# 4.Dictionary\n",
    "# 5.Tuple\n",
    "# 6.Set"
   ]
  },
  {
   "cell_type": "code",
   "execution_count": 2,
   "id": "79a5855c",
   "metadata": {},
   "outputs": [],
   "source": [
    "# Numbers\n",
    "x = 10          # Interger\n",
    "x = 10.234      # Float\n",
    "x = 25j         # Complex\n",
    "True or False   # Boolean"
   ]
  },
  {
   "cell_type": "code",
   "execution_count": 9,
   "id": "1169be0f",
   "metadata": {},
   "outputs": [
    {
     "data": {
      "text/plain": [
       "int"
      ]
     },
     "execution_count": 9,
     "metadata": {},
     "output_type": "execute_result"
    }
   ],
   "source": [
    "x = 10\n",
    "type(x)"
   ]
  },
  {
   "cell_type": "code",
   "execution_count": 10,
   "id": "fec7b052",
   "metadata": {},
   "outputs": [
    {
     "data": {
      "text/plain": [
       "float"
      ]
     },
     "execution_count": 10,
     "metadata": {},
     "output_type": "execute_result"
    }
   ],
   "source": [
    "y = 9.75\n",
    "type(y)"
   ]
  },
  {
   "cell_type": "code",
   "execution_count": 11,
   "id": "01f273aa",
   "metadata": {},
   "outputs": [
    {
     "data": {
      "text/plain": [
       "complex"
      ]
     },
     "execution_count": 11,
     "metadata": {},
     "output_type": "execute_result"
    }
   ],
   "source": [
    "z = 25j\n",
    "type(z)"
   ]
  },
  {
   "cell_type": "code",
   "execution_count": 12,
   "id": "e6583ffe",
   "metadata": {},
   "outputs": [
    {
     "data": {
      "text/plain": [
       "bool"
      ]
     },
     "execution_count": 12,
     "metadata": {},
     "output_type": "execute_result"
    }
   ],
   "source": [
    "num = 10>9\n",
    "type(num)"
   ]
  },
  {
   "cell_type": "code",
   "execution_count": 13,
   "id": "35df9a1e",
   "metadata": {},
   "outputs": [
    {
     "data": {
      "text/plain": [
       "7"
      ]
     },
     "execution_count": 13,
     "metadata": {},
     "output_type": "execute_result"
    }
   ],
   "source": [
    "# String\n",
    "\n",
    "name = 'edureka'\n",
    "len(name)"
   ]
  },
  {
   "cell_type": "code",
   "execution_count": 14,
   "id": "985b6829",
   "metadata": {},
   "outputs": [
    {
     "data": {
      "text/plain": [
       "'u'"
      ]
     },
     "execution_count": 14,
     "metadata": {},
     "output_type": "execute_result"
    }
   ],
   "source": [
    "name[2]"
   ]
  },
  {
   "cell_type": "code",
   "execution_count": 15,
   "id": "80f6f66d",
   "metadata": {},
   "outputs": [
    {
     "ename": "TypeError",
     "evalue": "'str' object does not support item assignment",
     "output_type": "error",
     "traceback": [
      "\u001b[1;31m---------------------------------------------------------------------------\u001b[0m",
      "\u001b[1;31mTypeError\u001b[0m                                 Traceback (most recent call last)",
      "\u001b[1;32mC:\\Users\\KKKFIN~1\\AppData\\Local\\Temp/ipykernel_8168/708531483.py\u001b[0m in \u001b[0;36m<module>\u001b[1;34m\u001b[0m\n\u001b[1;32m----> 1\u001b[1;33m \u001b[0mname\u001b[0m\u001b[1;33m[\u001b[0m\u001b[1;36m2\u001b[0m\u001b[1;33m]\u001b[0m \u001b[1;33m=\u001b[0m \u001b[1;34m'd'\u001b[0m\u001b[1;33m\u001b[0m\u001b[1;33m\u001b[0m\u001b[0m\n\u001b[0m",
      "\u001b[1;31mTypeError\u001b[0m: 'str' object does not support item assignment"
     ]
    }
   ],
   "source": [
    "name[2] = 'd'"
   ]
  },
  {
   "cell_type": "code",
   "execution_count": 16,
   "id": "bab0fb2d",
   "metadata": {},
   "outputs": [
    {
     "data": {
      "text/plain": [
       "'ureka'"
      ]
     },
     "execution_count": 16,
     "metadata": {},
     "output_type": "execute_result"
    }
   ],
   "source": [
    "name[2:8]"
   ]
  },
  {
   "cell_type": "code",
   "execution_count": 17,
   "id": "cb6a6047",
   "metadata": {},
   "outputs": [
    {
     "data": {
      "text/plain": [
       "'ureka'"
      ]
     },
     "execution_count": 17,
     "metadata": {},
     "output_type": "execute_result"
    }
   ],
   "source": [
    "name[2:7]"
   ]
  },
  {
   "cell_type": "code",
   "execution_count": 18,
   "id": "53079c71",
   "metadata": {},
   "outputs": [
    {
     "data": {
      "text/plain": [
       "'urek'"
      ]
     },
     "execution_count": 18,
     "metadata": {},
     "output_type": "execute_result"
    }
   ],
   "source": [
    "name[2:6]"
   ]
  },
  {
   "cell_type": "code",
   "execution_count": 19,
   "id": "350da275",
   "metadata": {},
   "outputs": [
    {
     "data": {
      "text/plain": [
       "'EDUREKA'"
      ]
     },
     "execution_count": 19,
     "metadata": {},
     "output_type": "execute_result"
    }
   ],
   "source": [
    "name.upper()"
   ]
  },
  {
   "cell_type": "code",
   "execution_count": 20,
   "id": "4a338fb2",
   "metadata": {},
   "outputs": [
    {
     "data": {
      "text/plain": [
       "'edureka'"
      ]
     },
     "execution_count": 20,
     "metadata": {},
     "output_type": "execute_result"
    }
   ],
   "source": [
    "name.lower()"
   ]
  },
  {
   "cell_type": "code",
   "execution_count": 21,
   "id": "cad84749",
   "metadata": {},
   "outputs": [
    {
     "data": {
      "text/plain": [
       "'k'"
      ]
     },
     "execution_count": 21,
     "metadata": {},
     "output_type": "execute_result"
    }
   ],
   "source": [
    "name[-2]"
   ]
  },
  {
   "cell_type": "code",
   "execution_count": 22,
   "id": "a270baf5",
   "metadata": {},
   "outputs": [
    {
     "data": {
      "text/plain": [
       "'k'"
      ]
     },
     "execution_count": 22,
     "metadata": {},
     "output_type": "execute_result"
    }
   ],
   "source": [
    "name[5]"
   ]
  },
  {
   "cell_type": "code",
   "execution_count": 23,
   "id": "a13cb4cb",
   "metadata": {},
   "outputs": [],
   "source": [
    "# List      ordered, can be changed. Duplicate entries are present.\n",
    "\n",
    "mylist = [10,20,30,30,'edureka','courses']"
   ]
  },
  {
   "cell_type": "code",
   "execution_count": 24,
   "id": "e8d51f89",
   "metadata": {},
   "outputs": [
    {
     "data": {
      "text/plain": [
       "[30, 30, 'edureka']"
      ]
     },
     "execution_count": 24,
     "metadata": {},
     "output_type": "execute_result"
    }
   ],
   "source": [
    "mylist[2:5]"
   ]
  },
  {
   "cell_type": "code",
   "execution_count": 25,
   "id": "2bad265e",
   "metadata": {},
   "outputs": [],
   "source": [
    "mylist[2] = 35"
   ]
  },
  {
   "cell_type": "code",
   "execution_count": 26,
   "id": "66fc0f60",
   "metadata": {},
   "outputs": [
    {
     "data": {
      "text/plain": [
       "[10, 20, 35, 30, 'edureka', 'courses']"
      ]
     },
     "execution_count": 26,
     "metadata": {},
     "output_type": "execute_result"
    }
   ],
   "source": [
    "mylist"
   ]
  },
  {
   "cell_type": "code",
   "execution_count": 27,
   "id": "5ddc15cf",
   "metadata": {},
   "outputs": [],
   "source": [
    "mylist.append(10)"
   ]
  },
  {
   "cell_type": "code",
   "execution_count": 28,
   "id": "f0a4cbee",
   "metadata": {},
   "outputs": [
    {
     "data": {
      "text/plain": [
       "[10, 20, 35, 30, 'edureka', 'courses', 10]"
      ]
     },
     "execution_count": 28,
     "metadata": {},
     "output_type": "execute_result"
    }
   ],
   "source": [
    "mylist"
   ]
  },
  {
   "cell_type": "code",
   "execution_count": 29,
   "id": "52b9730e",
   "metadata": {},
   "outputs": [],
   "source": [
    "mylist.insert(5,100)"
   ]
  },
  {
   "cell_type": "code",
   "execution_count": 30,
   "id": "df9da872",
   "metadata": {},
   "outputs": [
    {
     "data": {
      "text/plain": [
       "[10, 20, 35, 30, 'edureka', 100, 'courses', 10]"
      ]
     },
     "execution_count": 30,
     "metadata": {},
     "output_type": "execute_result"
    }
   ],
   "source": [
    "mylist"
   ]
  },
  {
   "cell_type": "code",
   "execution_count": 32,
   "id": "fd10ba71",
   "metadata": {},
   "outputs": [],
   "source": [
    "mylist.reverse()"
   ]
  },
  {
   "cell_type": "code",
   "execution_count": 33,
   "id": "0ca49819",
   "metadata": {},
   "outputs": [
    {
     "data": {
      "text/plain": [
       "[10, 'courses', 100, 'edureka', 30, 35, 20, 10]"
      ]
     },
     "execution_count": 33,
     "metadata": {},
     "output_type": "execute_result"
    }
   ],
   "source": [
    "mylist"
   ]
  },
  {
   "cell_type": "code",
   "execution_count": 34,
   "id": "bd74b424",
   "metadata": {},
   "outputs": [],
   "source": [
    "# Dictionary    unordered, can be changed. No Duplicate entries are present.\n",
    "courses = {1: 'python',\n",
    "           2: 'data science',\n",
    "           'third': 'machine learning'}"
   ]
  },
  {
   "cell_type": "code",
   "execution_count": 35,
   "id": "89c714aa",
   "metadata": {},
   "outputs": [
    {
     "data": {
      "text/plain": [
       "{1: 'python', 2: 'data science', 'third': 'machine learning'}"
      ]
     },
     "execution_count": 35,
     "metadata": {},
     "output_type": "execute_result"
    }
   ],
   "source": [
    "courses"
   ]
  },
  {
   "cell_type": "code",
   "execution_count": 36,
   "id": "9a3eb02f",
   "metadata": {},
   "outputs": [
    {
     "data": {
      "text/plain": [
       "'machine learning'"
      ]
     },
     "execution_count": 36,
     "metadata": {},
     "output_type": "execute_result"
    }
   ],
   "source": [
    "courses['third']"
   ]
  },
  {
   "cell_type": "code",
   "execution_count": 37,
   "id": "6f2968d0",
   "metadata": {},
   "outputs": [
    {
     "data": {
      "text/plain": [
       "'machine learning'"
      ]
     },
     "execution_count": 37,
     "metadata": {},
     "output_type": "execute_result"
    }
   ],
   "source": [
    "courses.get('third')"
   ]
  },
  {
   "cell_type": "code",
   "execution_count": 42,
   "id": "3a5e8e2a",
   "metadata": {},
   "outputs": [],
   "source": [
    "courses['third'] = 'hadoop'"
   ]
  },
  {
   "cell_type": "code",
   "execution_count": 43,
   "id": "5dc30ecd",
   "metadata": {},
   "outputs": [
    {
     "data": {
      "text/plain": [
       "{1: 'python', 2: 'data science', 'third': 'hadoop'}"
      ]
     },
     "execution_count": 43,
     "metadata": {},
     "output_type": "execute_result"
    }
   ],
   "source": [
    "courses"
   ]
  },
  {
   "cell_type": "code",
   "execution_count": 44,
   "id": "f4cf027c",
   "metadata": {},
   "outputs": [],
   "source": [
    "courses['four'] = 'machine learning'"
   ]
  },
  {
   "cell_type": "code",
   "execution_count": 47,
   "id": "24084f94",
   "metadata": {},
   "outputs": [
    {
     "data": {
      "text/plain": [
       "{1: 'python', 2: 'data science', 'third': 'hadoop', 'four': 'machine learning'}"
      ]
     },
     "execution_count": 47,
     "metadata": {},
     "output_type": "execute_result"
    }
   ],
   "source": [
    "courses"
   ]
  },
  {
   "cell_type": "code",
   "execution_count": null,
   "id": "aede6e7b",
   "metadata": {},
   "outputs": [],
   "source": [
    "# Tuple   Ordered, cannot be changed. Duplicate entries are present."
   ]
  },
  {
   "cell_type": "code",
   "execution_count": 49,
   "id": "27b00838",
   "metadata": {},
   "outputs": [],
   "source": [
    "animals = (10,10,20, 'tiger', 'lion', 'giraffe', 'tiger')"
   ]
  },
  {
   "cell_type": "code",
   "execution_count": 50,
   "id": "afa60b74",
   "metadata": {},
   "outputs": [
    {
     "data": {
      "text/plain": [
       "20"
      ]
     },
     "execution_count": 50,
     "metadata": {},
     "output_type": "execute_result"
    }
   ],
   "source": [
    "animals[2]"
   ]
  },
  {
   "cell_type": "code",
   "execution_count": 52,
   "id": "e5f9f9e0",
   "metadata": {},
   "outputs": [
    {
     "data": {
      "text/plain": [
       "2"
      ]
     },
     "execution_count": 52,
     "metadata": {},
     "output_type": "execute_result"
    }
   ],
   "source": [
    "animals.count('tiger')"
   ]
  },
  {
   "cell_type": "code",
   "execution_count": 55,
   "id": "d77f0bfa",
   "metadata": {},
   "outputs": [],
   "source": [
    "# Set      Unordered, No duplicate entries are present\n",
    "myset = {10,20,30,40,40,30,'edureka','courses'}"
   ]
  },
  {
   "cell_type": "code",
   "execution_count": 56,
   "id": "fc033b4f",
   "metadata": {},
   "outputs": [
    {
     "data": {
      "text/plain": [
       "{10, 20, 30, 40, 'courses', 'edureka'}"
      ]
     },
     "execution_count": 56,
     "metadata": {},
     "output_type": "execute_result"
    }
   ],
   "source": [
    "myset"
   ]
  },
  {
   "cell_type": "code",
   "execution_count": 57,
   "id": "b5cbf8e7",
   "metadata": {},
   "outputs": [
    {
     "ename": "TypeError",
     "evalue": "'set' object is not subscriptable",
     "output_type": "error",
     "traceback": [
      "\u001b[1;31m---------------------------------------------------------------------------\u001b[0m",
      "\u001b[1;31mTypeError\u001b[0m                                 Traceback (most recent call last)",
      "\u001b[1;32mC:\\Users\\KKKFIN~1\\AppData\\Local\\Temp/ipykernel_8168/136987509.py\u001b[0m in \u001b[0;36m<module>\u001b[1;34m\u001b[0m\n\u001b[1;32m----> 1\u001b[1;33m \u001b[0mmyset\u001b[0m\u001b[1;33m[\u001b[0m\u001b[1;36m2\u001b[0m\u001b[1;33m]\u001b[0m\u001b[1;33m\u001b[0m\u001b[1;33m\u001b[0m\u001b[0m\n\u001b[0m",
      "\u001b[1;31mTypeError\u001b[0m: 'set' object is not subscriptable"
     ]
    }
   ],
   "source": [
    "myset[2]"
   ]
  },
  {
   "cell_type": "code",
   "execution_count": 58,
   "id": "42cb2368",
   "metadata": {},
   "outputs": [
    {
     "data": {
      "text/plain": [
       "range(0, 10)"
      ]
     },
     "execution_count": 58,
     "metadata": {},
     "output_type": "execute_result"
    }
   ],
   "source": [
    "# Range\n",
    "\n",
    "range(10)"
   ]
  },
  {
   "cell_type": "code",
   "execution_count": 59,
   "id": "abba7ea7",
   "metadata": {},
   "outputs": [
    {
     "data": {
      "text/plain": [
       "[0, 1, 2, 3, 4, 5, 6, 7, 8, 9, 10]"
      ]
     },
     "execution_count": 59,
     "metadata": {},
     "output_type": "execute_result"
    }
   ],
   "source": [
    "list(range(11))"
   ]
  },
  {
   "cell_type": "code",
   "execution_count": 60,
   "id": "a4fa1e0e",
   "metadata": {},
   "outputs": [],
   "source": [
    "a = [1,2,3,4]"
   ]
  },
  {
   "cell_type": "code",
   "execution_count": 61,
   "id": "7f77052b",
   "metadata": {},
   "outputs": [],
   "source": [
    "b = {4,5,6,4,6}"
   ]
  },
  {
   "cell_type": "code",
   "execution_count": 62,
   "id": "66717b10",
   "metadata": {},
   "outputs": [],
   "source": [
    "c = [a, b]"
   ]
  },
  {
   "cell_type": "code",
   "execution_count": 63,
   "id": "b2a4f290",
   "metadata": {},
   "outputs": [
    {
     "data": {
      "text/plain": [
       "[[1, 2, 3, 4], {4, 5, 6}]"
      ]
     },
     "execution_count": 63,
     "metadata": {},
     "output_type": "execute_result"
    }
   ],
   "source": [
    "c"
   ]
  },
  {
   "cell_type": "code",
   "execution_count": 64,
   "id": "ba5828f4",
   "metadata": {},
   "outputs": [],
   "source": [
    "# Type conversion,      specifies a type to a variable\n",
    "\n",
    "x = 10"
   ]
  },
  {
   "cell_type": "code",
   "execution_count": 65,
   "id": "8965a40e",
   "metadata": {},
   "outputs": [],
   "source": [
    "name = 'name'"
   ]
  },
  {
   "cell_type": "code",
   "execution_count": 66,
   "id": "2e905aff",
   "metadata": {},
   "outputs": [
    {
     "ename": "TypeError",
     "evalue": "unsupported operand type(s) for +: 'int' and 'str'",
     "output_type": "error",
     "traceback": [
      "\u001b[1;31m---------------------------------------------------------------------------\u001b[0m",
      "\u001b[1;31mTypeError\u001b[0m                                 Traceback (most recent call last)",
      "\u001b[1;32mC:\\Users\\KKKFIN~1\\AppData\\Local\\Temp/ipykernel_8168/920035452.py\u001b[0m in \u001b[0;36m<module>\u001b[1;34m\u001b[0m\n\u001b[1;32m----> 1\u001b[1;33m \u001b[0mx\u001b[0m \u001b[1;33m+\u001b[0m \u001b[0mname\u001b[0m\u001b[1;33m\u001b[0m\u001b[1;33m\u001b[0m\u001b[0m\n\u001b[0m",
      "\u001b[1;31mTypeError\u001b[0m: unsupported operand type(s) for +: 'int' and 'str'"
     ]
    }
   ],
   "source": [
    "x + name"
   ]
  },
  {
   "cell_type": "code",
   "execution_count": 67,
   "id": "41b8e2c2",
   "metadata": {},
   "outputs": [
    {
     "data": {
      "text/plain": [
       "'10name'"
      ]
     },
     "execution_count": 67,
     "metadata": {},
     "output_type": "execute_result"
    }
   ],
   "source": [
    "str(x) + name"
   ]
  },
  {
   "cell_type": "code",
   "execution_count": 68,
   "id": "e5154534",
   "metadata": {},
   "outputs": [
    {
     "data": {
      "text/plain": [
       "[4, 5, 6]"
      ]
     },
     "execution_count": 68,
     "metadata": {},
     "output_type": "execute_result"
    }
   ],
   "source": [
    "list(b)"
   ]
  },
  {
   "cell_type": "code",
   "execution_count": null,
   "id": "49a600a8",
   "metadata": {},
   "outputs": [],
   "source": []
  }
 ],
 "metadata": {
  "kernelspec": {
   "display_name": "Python 3 (ipykernel)",
   "language": "python",
   "name": "python3"
  },
  "language_info": {
   "codemirror_mode": {
    "name": "ipython",
    "version": 3
   },
   "file_extension": ".py",
   "mimetype": "text/x-python",
   "name": "python",
   "nbconvert_exporter": "python",
   "pygments_lexer": "ipython3",
   "version": "3.9.7"
  }
 },
 "nbformat": 4,
 "nbformat_minor": 5
}
