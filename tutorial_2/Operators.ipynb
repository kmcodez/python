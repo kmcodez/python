{
 "cells": [
  {
   "cell_type": "markdown",
   "id": "a6e66dd8",
   "metadata": {},
   "source": [
    "# Types of Operators"
   ]
  },
  {
   "cell_type": "code",
   "execution_count": 1,
   "id": "2ef48203",
   "metadata": {},
   "outputs": [
    {
     "data": {
      "text/plain": [
       "'\\n1. Arithmatic\\n2. Assignment\\n3. Comparison\\n4. Logical\\n5. Membership\\n6. Identity\\n7. Bitwise\\n'"
      ]
     },
     "execution_count": 1,
     "metadata": {},
     "output_type": "execute_result"
    }
   ],
   "source": [
    "\"\"\"\n",
    "1. Arithmatic\n",
    "2. Assignment\n",
    "3. Comparison\n",
    "4. Logical\n",
    "5. Membership\n",
    "6. Identity\n",
    "7. Bitwise\n",
    "\"\"\""
   ]
  },
  {
   "cell_type": "code",
   "execution_count": 4,
   "id": "993e953d",
   "metadata": {},
   "outputs": [],
   "source": [
    "# arithmatic Operators are used to perform arithmatic operations between variables\n",
    "\n",
    "# (  +,  -,  *,  /,  %,  **,  //  )"
   ]
  },
  {
   "cell_type": "code",
   "execution_count": 5,
   "id": "9c33cc2a",
   "metadata": {},
   "outputs": [],
   "source": [
    "x = 10\n",
    "y = 20"
   ]
  },
  {
   "cell_type": "code",
   "execution_count": 6,
   "id": "99176135",
   "metadata": {},
   "outputs": [
    {
     "data": {
      "text/plain": [
       "30"
      ]
     },
     "execution_count": 6,
     "metadata": {},
     "output_type": "execute_result"
    }
   ],
   "source": [
    "x + y"
   ]
  },
  {
   "cell_type": "code",
   "execution_count": 7,
   "id": "59fb68c6",
   "metadata": {},
   "outputs": [
    {
     "data": {
      "text/plain": [
       "-10"
      ]
     },
     "execution_count": 7,
     "metadata": {},
     "output_type": "execute_result"
    }
   ],
   "source": [
    "x - y"
   ]
  },
  {
   "cell_type": "code",
   "execution_count": 8,
   "id": "c8e1d322",
   "metadata": {},
   "outputs": [
    {
     "data": {
      "text/plain": [
       "200"
      ]
     },
     "execution_count": 8,
     "metadata": {},
     "output_type": "execute_result"
    }
   ],
   "source": [
    "x * y"
   ]
  },
  {
   "cell_type": "code",
   "execution_count": 9,
   "id": "be1482ee",
   "metadata": {},
   "outputs": [
    {
     "data": {
      "text/plain": [
       "100000000000000000000"
      ]
     },
     "execution_count": 9,
     "metadata": {},
     "output_type": "execute_result"
    }
   ],
   "source": [
    "x ** y"
   ]
  },
  {
   "cell_type": "code",
   "execution_count": 10,
   "id": "82a0918e",
   "metadata": {},
   "outputs": [
    {
     "data": {
      "text/plain": [
       "0.5"
      ]
     },
     "execution_count": 10,
     "metadata": {},
     "output_type": "execute_result"
    }
   ],
   "source": [
    "x / y"
   ]
  },
  {
   "cell_type": "code",
   "execution_count": 11,
   "id": "8360ba05",
   "metadata": {},
   "outputs": [
    {
     "data": {
      "text/plain": [
       "0"
      ]
     },
     "execution_count": 11,
     "metadata": {},
     "output_type": "execute_result"
    }
   ],
   "source": [
    "x // y"
   ]
  },
  {
   "cell_type": "code",
   "execution_count": 12,
   "id": "6b8c6e5c",
   "metadata": {},
   "outputs": [
    {
     "data": {
      "text/plain": [
       "10"
      ]
     },
     "execution_count": 12,
     "metadata": {},
     "output_type": "execute_result"
    }
   ],
   "source": [
    "x % y"
   ]
  },
  {
   "cell_type": "code",
   "execution_count": 13,
   "id": "f8e1fd0e",
   "metadata": {},
   "outputs": [
    {
     "data": {
      "text/plain": [
       "'\\n       =     x   = 10\\n      +=     x+  = 10\\n      -=     x-  = 10\\n      *=     x*  = 10\\n      %=     x%  = 10\\n     **=     x** = 10\\n     //=     x// = 10\\n      |=     x|  = 10\\n      ^=     x^  = 10\\n      &=     x&  = 10\\n'"
      ]
     },
     "execution_count": 13,
     "metadata": {},
     "output_type": "execute_result"
    }
   ],
   "source": [
    "# Assignment operators are used to assign values.\n",
    "\"\"\"\n",
    "       =     x   = 10\n",
    "      +=     x+  = 10\n",
    "      -=     x-  = 10\n",
    "      *=     x*  = 10\n",
    "      %=     x%  = 10\n",
    "     **=     x** = 10\n",
    "     //=     x// = 10\n",
    "      |=     x|  = 10\n",
    "      ^=     x^  = 10\n",
    "      &=     x&  = 10\n",
    "\"\"\""
   ]
  },
  {
   "cell_type": "code",
   "execution_count": 33,
   "id": "dceb3cc1",
   "metadata": {},
   "outputs": [
    {
     "data": {
      "text/plain": [
       "10"
      ]
     },
     "execution_count": 33,
     "metadata": {},
     "output_type": "execute_result"
    }
   ],
   "source": [
    "a = 5\n",
    "a += 5 # a = a + 5\n",
    "a"
   ]
  },
  {
   "cell_type": "code",
   "execution_count": 24,
   "id": "cb220232",
   "metadata": {},
   "outputs": [
    {
     "data": {
      "text/plain": [
       "100000"
      ]
     },
     "execution_count": 24,
     "metadata": {},
     "output_type": "execute_result"
    }
   ],
   "source": [
    "a **= 5\n",
    "a"
   ]
  },
  {
   "cell_type": "code",
   "execution_count": 35,
   "id": "65d7bf60",
   "metadata": {},
   "outputs": [
    {
     "data": {
      "text/plain": [
       "'\\n    ==   Equal\\n    !=   Not equal\\n     >   Greater than\\n     <   Less than\\n    >=   Greater than or Equal\\n    <=   Less than Equal\\n'"
      ]
     },
     "execution_count": 35,
     "metadata": {},
     "output_type": "execute_result"
    }
   ],
   "source": [
    "# Comparision operators are used to compare two values\n",
    "\"\"\"\n",
    "x==y    ==   Equal\n",
    "x!=y    !=   Not equal\n",
    "x >y     >   Greater than\n",
    "x <y     <   Less than\n",
    "x>=y    >=   Greater than or Equal\n",
    "x<=y    <=   Less than Equal\n",
    "\"\"\""
   ]
  },
  {
   "cell_type": "code",
   "execution_count": 55,
   "id": "17e82a8c",
   "metadata": {},
   "outputs": [],
   "source": [
    "val = 10\n",
    "num1 = 10"
   ]
  },
  {
   "cell_type": "code",
   "execution_count": 56,
   "id": "459d5e86",
   "metadata": {},
   "outputs": [
    {
     "data": {
      "text/plain": [
       "True"
      ]
     },
     "execution_count": 56,
     "metadata": {},
     "output_type": "execute_result"
    }
   ],
   "source": [
    "compare = val == num1\n",
    "compare"
   ]
  },
  {
   "cell_type": "code",
   "execution_count": 57,
   "id": "4fd6cee2",
   "metadata": {},
   "outputs": [
    {
     "data": {
      "text/plain": [
       "'\\nif\\nelif\\nelse\\n'"
      ]
     },
     "execution_count": 57,
     "metadata": {},
     "output_type": "execute_result"
    }
   ],
   "source": [
    "# Logical operators is contional statements\n",
    "\"\"\"\n",
    "if\n",
    "elif\n",
    "else\n",
    "\"\"\""
   ]
  },
  {
   "cell_type": "code",
   "execution_count": 58,
   "id": "2967bf42",
   "metadata": {},
   "outputs": [
    {
     "name": "stdout",
     "output_type": "stream",
     "text": [
      "equal\n"
     ]
    }
   ],
   "source": [
    "if val == num1:\n",
    "    print('equal')\n",
    "elif val == num1:\n",
    "    print('greater')\n",
    "else:\n",
    "    print('smaller')"
   ]
  },
  {
   "cell_type": "code",
   "execution_count": null,
   "id": "a4f435e0",
   "metadata": {},
   "outputs": [],
   "source": [
    "# logical operators\n",
    "\"\"\"\n",
    "and    x>5 and x>10\n",
    "or     x>5 or x>10\n",
    "not    x>5 not x>10   or  not(x>5 and x>10)\n",
    "\"\"\""
   ]
  },
  {
   "cell_type": "code",
   "execution_count": 60,
   "id": "d1c2da92",
   "metadata": {},
   "outputs": [
    {
     "data": {
      "text/plain": [
       "True"
      ]
     },
     "execution_count": 60,
     "metadata": {},
     "output_type": "execute_result"
    }
   ],
   "source": [
    "x = 10\n",
    "x > 8 and x > 5"
   ]
  },
  {
   "cell_type": "code",
   "execution_count": 64,
   "id": "6fe39145",
   "metadata": {},
   "outputs": [
    {
     "data": {
      "text/plain": [
       "True"
      ]
     },
     "execution_count": 64,
     "metadata": {},
     "output_type": "execute_result"
    }
   ],
   "source": [
    "x > 3 or x > 5"
   ]
  },
  {
   "cell_type": "code",
   "execution_count": 65,
   "id": "68f25cae",
   "metadata": {},
   "outputs": [
    {
     "data": {
      "text/plain": [
       "True"
      ]
     },
     "execution_count": 65,
     "metadata": {},
     "output_type": "execute_result"
    }
   ],
   "source": [
    "not(x > 10 and x > 5)"
   ]
  },
  {
   "cell_type": "code",
   "execution_count": null,
   "id": "da500df9",
   "metadata": {},
   "outputs": [],
   "source": [
    "# Identity Operator are used to compare objects\n",
    "\"\"\"\n",
    "is\n",
    "is not\n",
    "\"\"\""
   ]
  },
  {
   "cell_type": "code",
   "execution_count": 66,
   "id": "4eb2f66e",
   "metadata": {},
   "outputs": [],
   "source": [
    "list1 = [10, 20, 30]\n",
    "list2 = [10,20,30]"
   ]
  },
  {
   "cell_type": "code",
   "execution_count": 67,
   "id": "3e0460d4",
   "metadata": {},
   "outputs": [],
   "source": [
    "x = list1"
   ]
  },
  {
   "cell_type": "code",
   "execution_count": 68,
   "id": "ed2b0ae9",
   "metadata": {},
   "outputs": [
    {
     "data": {
      "text/plain": [
       "True"
      ]
     },
     "execution_count": 68,
     "metadata": {},
     "output_type": "execute_result"
    }
   ],
   "source": [
    "x is list1"
   ]
  },
  {
   "cell_type": "code",
   "execution_count": 69,
   "id": "077c60ef",
   "metadata": {},
   "outputs": [
    {
     "data": {
      "text/plain": [
       "False"
      ]
     },
     "execution_count": 69,
     "metadata": {},
     "output_type": "execute_result"
    }
   ],
   "source": [
    "list1 is list2"
   ]
  },
  {
   "cell_type": "code",
   "execution_count": 70,
   "id": "5a95c4d2",
   "metadata": {},
   "outputs": [
    {
     "data": {
      "text/plain": [
       "True"
      ]
     },
     "execution_count": 70,
     "metadata": {},
     "output_type": "execute_result"
    }
   ],
   "source": [
    "list1 is not list2"
   ]
  },
  {
   "cell_type": "code",
   "execution_count": null,
   "id": "64bfca24",
   "metadata": {},
   "outputs": [],
   "source": [
    "# mebership operators are used to check if a sequence is present in an object\n",
    "\"\"\"\n",
    "in\n",
    "not in\n",
    "\"\"\""
   ]
  },
  {
   "cell_type": "code",
   "execution_count": 71,
   "id": "182da447",
   "metadata": {},
   "outputs": [
    {
     "data": {
      "text/plain": [
       "False"
      ]
     },
     "execution_count": 71,
     "metadata": {},
     "output_type": "execute_result"
    }
   ],
   "source": [
    "x in list1"
   ]
  },
  {
   "cell_type": "code",
   "execution_count": 72,
   "id": "00fc3ef8",
   "metadata": {},
   "outputs": [
    {
     "data": {
      "text/plain": [
       "False"
      ]
     },
     "execution_count": 72,
     "metadata": {},
     "output_type": "execute_result"
    }
   ],
   "source": [
    "list1 in list2"
   ]
  },
  {
   "cell_type": "code",
   "execution_count": 73,
   "id": "39dbebce",
   "metadata": {},
   "outputs": [
    {
     "data": {
      "text/plain": [
       "True"
      ]
     },
     "execution_count": 73,
     "metadata": {},
     "output_type": "execute_result"
    }
   ],
   "source": [
    "10 in list1"
   ]
  },
  {
   "cell_type": "code",
   "execution_count": 75,
   "id": "32460b92",
   "metadata": {},
   "outputs": [
    {
     "data": {
      "text/plain": [
       "False"
      ]
     },
     "execution_count": 75,
     "metadata": {},
     "output_type": "execute_result"
    }
   ],
   "source": [
    "'banana' in list1"
   ]
  },
  {
   "cell_type": "code",
   "execution_count": 76,
   "id": "faafd35e",
   "metadata": {},
   "outputs": [
    {
     "data": {
      "text/plain": [
       "[10, 20, 30, 'banana']"
      ]
     },
     "execution_count": 76,
     "metadata": {},
     "output_type": "execute_result"
    }
   ],
   "source": [
    "list1.append('banana')\n",
    "list1"
   ]
  },
  {
   "cell_type": "code",
   "execution_count": 77,
   "id": "515a6ec4",
   "metadata": {},
   "outputs": [
    {
     "data": {
      "text/plain": [
       "True"
      ]
     },
     "execution_count": 77,
     "metadata": {},
     "output_type": "execute_result"
    }
   ],
   "source": [
    "'banana' in list1"
   ]
  },
  {
   "cell_type": "code",
   "execution_count": 78,
   "id": "034e41cb",
   "metadata": {},
   "outputs": [
    {
     "data": {
      "text/plain": [
       "False"
      ]
     },
     "execution_count": 78,
     "metadata": {},
     "output_type": "execute_result"
    }
   ],
   "source": [
    "list1 in list2"
   ]
  },
  {
   "cell_type": "code",
   "execution_count": 79,
   "id": "d1ec8c45",
   "metadata": {},
   "outputs": [
    {
     "data": {
      "text/plain": [
       "True"
      ]
     },
     "execution_count": 79,
     "metadata": {},
     "output_type": "execute_result"
    }
   ],
   "source": [
    "list1 not in list2"
   ]
  },
  {
   "cell_type": "code",
   "execution_count": 80,
   "id": "18569de4",
   "metadata": {},
   "outputs": [
    {
     "data": {
      "text/plain": [
       "'\\n&  Bitwise AND\\n&  Bitwise AND\\n\\n'"
      ]
     },
     "execution_count": 80,
     "metadata": {},
     "output_type": "execute_result"
    }
   ],
   "source": [
    "# Bitwise opreators are used to compare binary numbers or values\n",
    "\"\"\"\n",
    "&   Bitwise AND            Set each bit to 1 if both bits are 1\n",
    "|   Bitwise OR             Set each bit to 1 if one of the bits is 1\n",
    "^   Bitwise XOR            Set each bit to 1 if only one of the bits is 1\n",
    "~   Bitwise NOT            Inverts all bits\n",
    "<<  Bitwise Left Shift     Shift left by pushing in zeroes from the right and let the leftmost bits fell off\n",
    ">>  Bitwise Right Shift    Shift right by pushing copies of the leftmost bit in from the left, and let the rightmost bit fell off\n",
    "\"\"\""
   ]
  },
  {
   "cell_type": "code",
   "execution_count": 81,
   "id": "bf8b850c",
   "metadata": {},
   "outputs": [
    {
     "data": {
      "text/plain": [
       "8"
      ]
     },
     "execution_count": 81,
     "metadata": {},
     "output_type": "execute_result"
    }
   ],
   "source": [
    "10 & 12"
   ]
  },
  {
   "cell_type": "code",
   "execution_count": 82,
   "id": "b3e10def",
   "metadata": {},
   "outputs": [
    {
     "data": {
      "text/plain": [
       "14"
      ]
     },
     "execution_count": 82,
     "metadata": {},
     "output_type": "execute_result"
    }
   ],
   "source": [
    "10 | 12"
   ]
  },
  {
   "cell_type": "code",
   "execution_count": 83,
   "id": "f9d55c1d",
   "metadata": {},
   "outputs": [
    {
     "data": {
      "text/plain": [
       "6"
      ]
     },
     "execution_count": 83,
     "metadata": {},
     "output_type": "execute_result"
    }
   ],
   "source": [
    "10 ^ 12"
   ]
  },
  {
   "cell_type": "code",
   "execution_count": 85,
   "id": "8ede7318",
   "metadata": {},
   "outputs": [
    {
     "data": {
      "text/plain": [
       "2"
      ]
     },
     "execution_count": 85,
     "metadata": {},
     "output_type": "execute_result"
    }
   ],
   "source": [
    "10 >> 2"
   ]
  },
  {
   "cell_type": "code",
   "execution_count": 86,
   "id": "a2aaddd3",
   "metadata": {},
   "outputs": [
    {
     "data": {
      "text/plain": [
       "40"
      ]
     },
     "execution_count": 86,
     "metadata": {},
     "output_type": "execute_result"
    }
   ],
   "source": [
    "10 << 2"
   ]
  },
  {
   "cell_type": "code",
   "execution_count": null,
   "id": "7451030f",
   "metadata": {},
   "outputs": [],
   "source": []
  }
 ],
 "metadata": {
  "kernelspec": {
   "display_name": "Python 3 (ipykernel)",
   "language": "python",
   "name": "python3"
  },
  "language_info": {
   "codemirror_mode": {
    "name": "ipython",
    "version": 3
   },
   "file_extension": ".py",
   "mimetype": "text/x-python",
   "name": "python",
   "nbconvert_exporter": "python",
   "pygments_lexer": "ipython3",
   "version": "3.9.7"
  }
 },
 "nbformat": 4,
 "nbformat_minor": 5
}
