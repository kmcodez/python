{
 "cells": [
  {
   "cell_type": "code",
   "execution_count": 3,
   "id": "f2bdfdec",
   "metadata": {},
   "outputs": [
    {
     "name": "stdout",
     "output_type": "stream",
     "text": [
      "Hello Dear learner\n",
      "Dear learner, how you do in\n"
     ]
    }
   ],
   "source": [
    "def func1(name):\n",
    "    return f\"Hello {name}\"\n",
    "\n",
    "def func2(name):\n",
    "    return f\"{name}, how you do in\"\n",
    "\n",
    "def func3(func4):\n",
    "    return func4('Dear learner')\n",
    "\n",
    "print(func3(func1))\n",
    "print(func3(func2))"
   ]
  },
  {
   "cell_type": "code",
   "execution_count": 5,
   "id": "10cb3735",
   "metadata": {},
   "outputs": [
    {
     "name": "stdout",
     "output_type": "stream",
     "text": [
      "First Function\n",
      "first child function\n",
      "Secoud child function\n"
     ]
    }
   ],
   "source": [
    "def func ():\n",
    "    print(\"First Function\")\n",
    "    def func1 ():\n",
    "        print(\"first child function\")\n",
    "    def func2 ():\n",
    "        print(\"Secoud child function\")\n",
    "    \n",
    "    func1()\n",
    "    func2()\n",
    "func()"
   ]
  },
  {
   "cell_type": "code",
   "execution_count": 6,
   "id": "30ffd0a6",
   "metadata": {},
   "outputs": [
    {
     "name": "stdout",
     "output_type": "stream",
     "text": [
      "Edureka\n",
      "python\n"
     ]
    }
   ],
   "source": [
    "def func(n):\n",
    "    def func1():\n",
    "        return \"Edureka\"\n",
    "    def func2():\n",
    "        return \"python\"\n",
    "    if n == 1:\n",
    "        return func1\n",
    "    else:\n",
    "        return func2\n",
    "a = func(1)\n",
    "b = func(2)\n",
    "print(a())\n",
    "print(b())"
   ]
  },
  {
   "cell_type": "code",
   "execution_count": 7,
   "id": "39eda9f3",
   "metadata": {},
   "outputs": [
    {
     "name": "stdout",
     "output_type": "stream",
     "text": [
      "hello\n",
      "pythonista\n",
      "Welcome to python edureka tutorial\n"
     ]
    }
   ],
   "source": [
    "def function1(function):\n",
    "    def wrapper():\n",
    "        print(\"hello\")\n",
    "        function()\n",
    "        print(\"Welcome to python edureka tutorial\")\n",
    "    return wrapper\n",
    "def function2():\n",
    "    print(\"pythonista\")\n",
    "    \n",
    "function2 = function1(function2)\n",
    "function2()"
   ]
  },
  {
   "cell_type": "code",
   "execution_count": 8,
   "id": "cea3aea7",
   "metadata": {},
   "outputs": [
    {
     "name": "stdout",
     "output_type": "stream",
     "text": [
      "hello\n",
      "pythonista\n",
      "Welcome to python edureka tutorial\n"
     ]
    }
   ],
   "source": [
    "def function1(function):\n",
    "    def wrapper():\n",
    "        print(\"hello\")\n",
    "        function()\n",
    "        print(\"Welcome to python edureka tutorial\")\n",
    "    return wrapper\n",
    "@function1\n",
    "def function2():\n",
    "    print(\"pythonista\")\n",
    "function2()"
   ]
  },
  {
   "cell_type": "code",
   "execution_count": 11,
   "id": "dc244d86",
   "metadata": {},
   "outputs": [
    {
     "name": "stdout",
     "output_type": "stream",
     "text": [
      "Hello\n",
      "Kumar\n",
      "Welcome to edureka python tutorial\n"
     ]
    }
   ],
   "source": [
    "def function1(function):\n",
    "    def wrapper(*args, **kwargs):\n",
    "        print(\"Hello\")\n",
    "        function(*args, **kwargs)\n",
    "        print(\"Welcome to edureka python tutorial\")\n",
    "    return wrapper\n",
    "\n",
    "@function1\n",
    "def function2(name):\n",
    "    print(f\"{name}\")\n",
    "function2(\"Kumar\")    \n"
   ]
  },
  {
   "cell_type": "code",
   "execution_count": 12,
   "id": "30816133",
   "metadata": {},
   "outputs": [
    {
     "ename": "SyntaxError",
     "evalue": "EOL while scanning string literal (Temp/ipykernel_9488/3067725535.py, line 7)",
     "output_type": "error",
     "traceback": [
      "\u001b[1;36m  File \u001b[1;32m\"C:\\Users\\KKKFIN~1\\AppData\\Local\\Temp/ipykernel_9488/3067725535.py\"\u001b[1;36m, line \u001b[1;32m7\u001b[0m\n\u001b[1;33m    print(f\"{name})\u001b[0m\n\u001b[1;37m                   ^\u001b[0m\n\u001b[1;31mSyntaxError\u001b[0m\u001b[1;31m:\u001b[0m EOL while scanning string literal\n"
     ]
    }
   ],
   "source": [
    "def function1(function):\n",
    "    def wrapper(*args, **kwargs):\n",
    "        print(\"it worked\")\n",
    "    return wrapper\n",
    "@function1\n",
    "def function2(name):\n",
    "    print(f\"{name})\n",
    "          \n",
    "function2(\"python\")"
   ]
  },
  {
   "cell_type": "code",
   "execution_count": 1,
   "id": "8204ab04",
   "metadata": {},
   "outputs": [],
   "source": [
    "# Fancy Decortators"
   ]
  },
  {
   "cell_type": "code",
   "execution_count": 2,
   "id": "84e18646",
   "metadata": {},
   "outputs": [],
   "source": [
    "# class decortators"
   ]
  },
  {
   "cell_type": "code",
   "execution_count": 9,
   "id": "2fa52c35",
   "metadata": {},
   "outputs": [
    {
     "name": "stdout",
     "output_type": "stream",
     "text": [
      "5\n",
      "25\n"
     ]
    }
   ],
   "source": [
    "class square:\n",
    "    def __init__(self,side):\n",
    "        self._side = side\n",
    "    @property\n",
    "    def side(self):\n",
    "        return self._side\n",
    "    @side.setter\n",
    "    def side(self,value):\n",
    "        if value >= 0:\n",
    "            self._side = value\n",
    "        else:\n",
    "            print(\"error\")\n",
    "    @property\n",
    "    def area(self):\n",
    "        return self._side **2\n",
    "    @classmethod\n",
    "    def unit_square(cls):\n",
    "        return cls(1)\n",
    "s = square(5)\n",
    "print(s.side)\n",
    "print(s.area)"
   ]
  },
  {
   "cell_type": "code",
   "execution_count": 10,
   "id": "95fe1fa6",
   "metadata": {},
   "outputs": [],
   "source": [
    "# A few more examples\n",
    "\n",
    "# Singleton Class\n",
    "# Nesting Decorators\n",
    "# Arguments in A decortators\n",
    "# Validating JSON"
   ]
  },
  {
   "cell_type": "code",
   "execution_count": 15,
   "id": "aa055001",
   "metadata": {},
   "outputs": [
    {
     "name": "stdout",
     "output_type": "stream",
     "text": [
      "True\n"
     ]
    }
   ],
   "source": [
    "# Singleton Class\n",
    "import functools\n",
    "def singleton(cls):\n",
    "    @functools.wraps(cls)\n",
    "    def wrapper(*args,**kwargs):\n",
    "        if not wrapper.instance:\n",
    "            wrapper.instance = cls(*args, *kwargs)\n",
    "        return wrapper.instance\n",
    "    wrapper.instance = None\n",
    "    return wrapper\n",
    "\n",
    "@singleton\n",
    "class one:\n",
    "    pass\n",
    "first = one()\n",
    "second = one()\n",
    "print(first is second)"
   ]
  },
  {
   "cell_type": "code",
   "execution_count": 20,
   "id": "62c55c8c",
   "metadata": {},
   "outputs": [
    {
     "name": "stdout",
     "output_type": "stream",
     "text": [
      "Python\n",
      "Python\n",
      "Python\n",
      "Python\n",
      "Python\n"
     ]
    }
   ],
   "source": [
    "# Nesting Decorators\n",
    "import functools\n",
    "def repeat(num):\n",
    "    def decorator_repeat(func):\n",
    "        @functools.wraps(func)\n",
    "        def wrapper(*args, **kwargs):\n",
    "            for _ in range(num):\n",
    "                value = func(*args, **kwargs)\n",
    "            return value\n",
    "        return wrapper\n",
    "    return decorator_repeat\n",
    "\n",
    "@repeat(num=5)\n",
    "def function(name):\n",
    "    print(f\"{name}\")\n",
    "\n",
    "function(\"Python\")\n",
    "    "
   ]
  },
  {
   "cell_type": "code",
   "execution_count": null,
   "id": "f498e0c0",
   "metadata": {},
   "outputs": [],
   "source": []
  }
 ],
 "metadata": {
  "kernelspec": {
   "display_name": "Python 3 (ipykernel)",
   "language": "python",
   "name": "python3"
  },
  "language_info": {
   "codemirror_mode": {
    "name": "ipython",
    "version": 3
   },
   "file_extension": ".py",
   "mimetype": "text/x-python",
   "name": "python",
   "nbconvert_exporter": "python",
   "pygments_lexer": "ipython3",
   "version": "3.9.7"
  }
 },
 "nbformat": 4,
 "nbformat_minor": 5
}
