{
 "cells": [
  {
   "cell_type": "markdown",
   "id": "b230b761",
   "metadata": {},
   "source": [
    "# Array"
   ]
  },
  {
   "cell_type": "code",
   "execution_count": 1,
   "id": "f39af302",
   "metadata": {},
   "outputs": [],
   "source": [
    "# An array is basically s data structure which can hold more than one value at a time. It is a Collection or ordered series\n",
    "# of elements of the same type"
   ]
  },
  {
   "cell_type": "code",
   "execution_count": 2,
   "id": "fd7cd1d5",
   "metadata": {},
   "outputs": [],
   "source": [
    "import array"
   ]
  },
  {
   "cell_type": "code",
   "execution_count": 3,
   "id": "41242b88",
   "metadata": {},
   "outputs": [
    {
     "data": {
      "text/plain": [
       "array('i', [1, 2, 3, 4, 5, 6])"
      ]
     },
     "execution_count": 3,
     "metadata": {},
     "output_type": "execute_result"
    }
   ],
   "source": [
    "a = array.array('i', [1,2,3,4,5,6])\n",
    "a"
   ]
  },
  {
   "cell_type": "code",
   "execution_count": 4,
   "id": "bb1170d0",
   "metadata": {},
   "outputs": [],
   "source": [
    "import array as arr"
   ]
  },
  {
   "cell_type": "code",
   "execution_count": 5,
   "id": "c37212cf",
   "metadata": {},
   "outputs": [
    {
     "data": {
      "text/plain": [
       "array('i', [1, 2, 3, 4, 5, 6])"
      ]
     },
     "execution_count": 5,
     "metadata": {},
     "output_type": "execute_result"
    }
   ],
   "source": [
    "a = arr.array('i', [1,2,3,4,5,6])\n",
    "a"
   ]
  },
  {
   "cell_type": "code",
   "execution_count": 6,
   "id": "a865decd",
   "metadata": {},
   "outputs": [],
   "source": [
    "from array import *"
   ]
  },
  {
   "cell_type": "code",
   "execution_count": 7,
   "id": "437eeaf1",
   "metadata": {},
   "outputs": [
    {
     "data": {
      "text/plain": [
       "array('i', [1, 2, 3, 4, 5, 6])"
      ]
     },
     "execution_count": 7,
     "metadata": {},
     "output_type": "execute_result"
    }
   ],
   "source": [
    "a = array('i', [1,2,3,4,5,6])\n",
    "a"
   ]
  },
  {
   "cell_type": "markdown",
   "id": "a21d4372",
   "metadata": {},
   "source": [
    "# Accessing Array Elements "
   ]
  },
  {
   "cell_type": "code",
   "execution_count": 8,
   "id": "544b91ca",
   "metadata": {},
   "outputs": [],
   "source": [
    "b = (1,5,7,2,3)"
   ]
  },
  {
   "cell_type": "code",
   "execution_count": 9,
   "id": "98d9280f",
   "metadata": {},
   "outputs": [
    {
     "data": {
      "text/plain": [
       "3"
      ]
     },
     "execution_count": 9,
     "metadata": {},
     "output_type": "execute_result"
    }
   ],
   "source": [
    "b[4]"
   ]
  },
  {
   "cell_type": "markdown",
   "id": "dd947f0a",
   "metadata": {},
   "source": [
    "# Finding Length of an Array"
   ]
  },
  {
   "cell_type": "code",
   "execution_count": 10,
   "id": "be393e5d",
   "metadata": {},
   "outputs": [],
   "source": [
    "c = (1,5,7,9,4,5,6)"
   ]
  },
  {
   "cell_type": "code",
   "execution_count": 11,
   "id": "66333958",
   "metadata": {},
   "outputs": [
    {
     "data": {
      "text/plain": [
       "7"
      ]
     },
     "execution_count": 11,
     "metadata": {},
     "output_type": "execute_result"
    }
   ],
   "source": [
    "len(c)"
   ]
  },
  {
   "cell_type": "markdown",
   "id": "d0845053",
   "metadata": {},
   "source": [
    "# Adding and Inserting the elements"
   ]
  },
  {
   "cell_type": "code",
   "execution_count": 12,
   "id": "4bd76fa1",
   "metadata": {},
   "outputs": [],
   "source": [
    "# append()\n",
    "# extend()\n",
    "# insert()"
   ]
  },
  {
   "cell_type": "code",
   "execution_count": 19,
   "id": "e37faffe",
   "metadata": {},
   "outputs": [],
   "source": [
    "a = array('i',[1,2,3,4,5,6])"
   ]
  },
  {
   "cell_type": "code",
   "execution_count": 20,
   "id": "76ddc591",
   "metadata": {},
   "outputs": [
    {
     "data": {
      "text/plain": [
       "array('i', [1, 2, 3, 4, 5, 6, 8])"
      ]
     },
     "execution_count": 20,
     "metadata": {},
     "output_type": "execute_result"
    }
   ],
   "source": [
    "a.append(8)\n",
    "a"
   ]
  },
  {
   "cell_type": "code",
   "execution_count": 21,
   "id": "25ab66a9",
   "metadata": {},
   "outputs": [
    {
     "data": {
      "text/plain": [
       "array('i', [1, 2, 3, 4, 5, 6, 8, 9, 8, 6, 5, 4])"
      ]
     },
     "execution_count": 21,
     "metadata": {},
     "output_type": "execute_result"
    }
   ],
   "source": [
    "a.extend([9,8,6,5,4])\n",
    "a"
   ]
  },
  {
   "cell_type": "code",
   "execution_count": 22,
   "id": "05ce2ca4",
   "metadata": {},
   "outputs": [
    {
     "data": {
      "text/plain": [
       "array('i', [1, 2, 6, 3, 4, 5, 6, 8, 9, 8, 6, 5, 4])"
      ]
     },
     "execution_count": 22,
     "metadata": {},
     "output_type": "execute_result"
    }
   ],
   "source": [
    "a.insert(2,6)\n",
    "a"
   ]
  },
  {
   "cell_type": "markdown",
   "id": "f5e8281e",
   "metadata": {},
   "source": [
    "# Removing elements of an array"
   ]
  },
  {
   "cell_type": "code",
   "execution_count": 23,
   "id": "a8f114ff",
   "metadata": {},
   "outputs": [],
   "source": [
    "# pop()\n",
    "# remove()"
   ]
  },
  {
   "cell_type": "code",
   "execution_count": 24,
   "id": "2884f61c",
   "metadata": {},
   "outputs": [],
   "source": [
    "import array as arr\n",
    "a = arr.array('d',[1.1, 2.2, 3.8, 3.1, 3.7])"
   ]
  },
  {
   "cell_type": "code",
   "execution_count": 25,
   "id": "227bce31",
   "metadata": {},
   "outputs": [
    {
     "name": "stdout",
     "output_type": "stream",
     "text": [
      "Popping last element 3.7\n"
     ]
    }
   ],
   "source": [
    "print(\"Popping last element\", a.pop())"
   ]
  },
  {
   "cell_type": "code",
   "execution_count": 26,
   "id": "ee94a53d",
   "metadata": {},
   "outputs": [
    {
     "name": "stdout",
     "output_type": "stream",
     "text": [
      "Popping 4th element 3.1\n"
     ]
    }
   ],
   "source": [
    "print(\"Popping 4th element\", a.pop(3))"
   ]
  },
  {
   "cell_type": "code",
   "execution_count": 27,
   "id": "bf78bbd1",
   "metadata": {},
   "outputs": [
    {
     "data": {
      "text/plain": [
       "array('d', [2.2, 3.8])"
      ]
     },
     "execution_count": 27,
     "metadata": {},
     "output_type": "execute_result"
    }
   ],
   "source": [
    "a.remove(1.1)\n",
    "a"
   ]
  },
  {
   "cell_type": "code",
   "execution_count": 28,
   "id": "2ccd055b",
   "metadata": {},
   "outputs": [
    {
     "data": {
      "text/plain": [
       "array('i', [1, 2, 6, 3, 4, 5, 6, 8, 9, 8, 6, 5, 4])"
      ]
     },
     "execution_count": 28,
     "metadata": {},
     "output_type": "execute_result"
    }
   ],
   "source": [
    "a = array('i', [1, 2, 6, 3, 4, 5, 6, 8, 9, 8, 6, 5, 4])\n",
    "a"
   ]
  },
  {
   "cell_type": "code",
   "execution_count": 29,
   "id": "8bb532a6",
   "metadata": {},
   "outputs": [
    {
     "data": {
      "text/plain": [
       "4"
      ]
     },
     "execution_count": 29,
     "metadata": {},
     "output_type": "execute_result"
    }
   ],
   "source": [
    "a.pop()"
   ]
  },
  {
   "cell_type": "code",
   "execution_count": 31,
   "id": "c3747cb8",
   "metadata": {},
   "outputs": [
    {
     "data": {
      "text/plain": [
       "array('i', [1, 2, 6, 3, 4, 5, 6, 8, 9, 8, 5])"
      ]
     },
     "execution_count": 31,
     "metadata": {},
     "output_type": "execute_result"
    }
   ],
   "source": [
    "a"
   ]
  },
  {
   "cell_type": "code",
   "execution_count": 32,
   "id": "a2a7d51c",
   "metadata": {},
   "outputs": [
    {
     "data": {
      "text/plain": [
       "6"
      ]
     },
     "execution_count": 32,
     "metadata": {},
     "output_type": "execute_result"
    }
   ],
   "source": [
    "a.pop(2)"
   ]
  },
  {
   "cell_type": "code",
   "execution_count": 33,
   "id": "22e4749f",
   "metadata": {},
   "outputs": [
    {
     "data": {
      "text/plain": [
       "5"
      ]
     },
     "execution_count": 33,
     "metadata": {},
     "output_type": "execute_result"
    }
   ],
   "source": [
    "a.pop(-1)"
   ]
  },
  {
   "cell_type": "code",
   "execution_count": 34,
   "id": "a75bb651",
   "metadata": {},
   "outputs": [
    {
     "data": {
      "text/plain": [
       "array('i', [1, 2, 3, 4, 5, 6, 8, 9, 8])"
      ]
     },
     "execution_count": 34,
     "metadata": {},
     "output_type": "execute_result"
    }
   ],
   "source": [
    "a"
   ]
  },
  {
   "cell_type": "code",
   "execution_count": 35,
   "id": "e263518c",
   "metadata": {},
   "outputs": [
    {
     "data": {
      "text/plain": [
       "array('i', [1, 2, 3, 4, 5, 6, 9, 8])"
      ]
     },
     "execution_count": 35,
     "metadata": {},
     "output_type": "execute_result"
    }
   ],
   "source": [
    "a.remove(8)\n",
    "a"
   ]
  },
  {
   "cell_type": "markdown",
   "id": "ea5e9bbc",
   "metadata": {},
   "source": [
    "# Array Concatination"
   ]
  },
  {
   "cell_type": "code",
   "execution_count": 36,
   "id": "d38d5ceb",
   "metadata": {},
   "outputs": [],
   "source": [
    "# Concatination means joining"
   ]
  },
  {
   "cell_type": "code",
   "execution_count": 37,
   "id": "154539e7",
   "metadata": {},
   "outputs": [],
   "source": [
    "import array as arr"
   ]
  },
  {
   "cell_type": "code",
   "execution_count": 40,
   "id": "94f7dae5",
   "metadata": {},
   "outputs": [
    {
     "name": "stdout",
     "output_type": "stream",
     "text": [
      "Array c =  array('d', [1.1, 2.1, 3.1, 2.6, 7.8, 3.7, 8.6])\n"
     ]
    }
   ],
   "source": [
    "a = arr.array('d', [1.1, 2.1, 3.1, 2.6, 7.8])\n",
    "b = arr.array('d', [3.7, 8.6])\n",
    "c = arr.array('d')\n",
    "c = a+b\n",
    "print(\"Array c = \", c)"
   ]
  },
  {
   "cell_type": "code",
   "execution_count": 41,
   "id": "764cb8bc",
   "metadata": {},
   "outputs": [
    {
     "data": {
      "text/plain": [
       "array('i', [1, 2, 3, 4, 5, 6, 7, 3, 5, 7, 5, 3, 2, 1])"
      ]
     },
     "execution_count": 41,
     "metadata": {},
     "output_type": "execute_result"
    }
   ],
   "source": [
    "b = arr.array('i', [1,2,3,4,5,6,7])\n",
    "c = arr.array('i', [3,5,7,5,3,2,1])\n",
    "d = arr.array('i')\n",
    "d = b+c\n",
    "d"
   ]
  },
  {
   "cell_type": "code",
   "execution_count": 44,
   "id": "60ee46a3",
   "metadata": {},
   "outputs": [
    {
     "data": {
      "text/plain": [
       "array('i', [1, 2, 3, 4, 5, 6, 7, 3, 5, 7, 5, 3, 2, 1])"
      ]
     },
     "execution_count": 44,
     "metadata": {},
     "output_type": "execute_result"
    }
   ],
   "source": [
    "b = arr.array('i', [1,2,3,4,5,6,7])\n",
    "c = arr.array('i', [3,5,7,5,3,2,1])\n",
    "d = arr.array('i')\n",
    "d = b+c\n",
    "d"
   ]
  },
  {
   "cell_type": "markdown",
   "id": "f1e486df",
   "metadata": {},
   "source": [
    "# Slicing an Array"
   ]
  },
  {
   "cell_type": "code",
   "execution_count": 45,
   "id": "dd96c797",
   "metadata": {},
   "outputs": [],
   "source": [
    "# An array can be sliced using the : symbol, This returns a range of elements that we have specified by the index numbers"
   ]
  },
  {
   "cell_type": "code",
   "execution_count": 46,
   "id": "37655168",
   "metadata": {},
   "outputs": [
    {
     "name": "stdout",
     "output_type": "stream",
     "text": [
      "array('d', [1.1, 2.1, 3.1])\n"
     ]
    }
   ],
   "source": [
    "import array as arr\n",
    "a = arr.array('d', [1.1, 2.1, 3.1, 2.6, 7.8])\n",
    "print(a [ 0:3 ])\n"
   ]
  },
  {
   "cell_type": "code",
   "execution_count": 47,
   "id": "f1db0b52",
   "metadata": {},
   "outputs": [
    {
     "data": {
      "text/plain": [
       "array('i', [1, 2, 3, 4, 5, 6, 7, 3, 5, 7, 5, 3, 2, 1])"
      ]
     },
     "execution_count": 47,
     "metadata": {},
     "output_type": "execute_result"
    }
   ],
   "source": [
    "d"
   ]
  },
  {
   "cell_type": "code",
   "execution_count": 48,
   "id": "9c70a499",
   "metadata": {},
   "outputs": [
    {
     "data": {
      "text/plain": [
       "array('i', [1, 2, 3, 4, 5])"
      ]
     },
     "execution_count": 48,
     "metadata": {},
     "output_type": "execute_result"
    }
   ],
   "source": [
    "d[0:5]"
   ]
  },
  {
   "cell_type": "code",
   "execution_count": 49,
   "id": "b378f2bb",
   "metadata": {},
   "outputs": [
    {
     "data": {
      "text/plain": [
       "array('i', [1, 2, 3, 4, 5, 6, 7, 3, 5, 7, 5, 3])"
      ]
     },
     "execution_count": 49,
     "metadata": {},
     "output_type": "execute_result"
    }
   ],
   "source": [
    "d[0:-2]"
   ]
  },
  {
   "cell_type": "code",
   "execution_count": 50,
   "id": "70d5245b",
   "metadata": {},
   "outputs": [
    {
     "data": {
      "text/plain": [
       "array('i', [1, 2, 3, 5, 7, 5, 3, 7, 6, 5, 4, 3, 2, 1])"
      ]
     },
     "execution_count": 50,
     "metadata": {},
     "output_type": "execute_result"
    }
   ],
   "source": [
    "d[::-1]"
   ]
  },
  {
   "cell_type": "code",
   "execution_count": 51,
   "id": "50c06f9c",
   "metadata": {},
   "outputs": [
    {
     "data": {
      "text/plain": [
       "array('i', [1, 2, 3, 4, 5, 6, 7, 3, 5, 7, 5, 3, 2, 1])"
      ]
     },
     "execution_count": 51,
     "metadata": {},
     "output_type": "execute_result"
    }
   ],
   "source": [
    "d"
   ]
  },
  {
   "cell_type": "markdown",
   "id": "8c414ab5",
   "metadata": {},
   "source": [
    "# Looping through an array"
   ]
  },
  {
   "cell_type": "code",
   "execution_count": 52,
   "id": "83a02bb1",
   "metadata": {},
   "outputs": [],
   "source": [
    "# for\n",
    "# loop"
   ]
  },
  {
   "cell_type": "code",
   "execution_count": 53,
   "id": "f003fd23",
   "metadata": {},
   "outputs": [
    {
     "name": "stdout",
     "output_type": "stream",
     "text": [
      "All values\n",
      "1.1\n",
      "2.2\n",
      "3.8\n",
      "3.1\n",
      "3.7\n"
     ]
    }
   ],
   "source": [
    "import array as arr\n",
    "a = arr.array('d', [1.1, 2.2, 3.8, 3.1, 3.7])\n",
    "print(\"All values\")\n",
    "for x in a:\n",
    "    print(x)"
   ]
  },
  {
   "cell_type": "code",
   "execution_count": 54,
   "id": "1405cb16",
   "metadata": {},
   "outputs": [],
   "source": [
    "a = array('i', [1, 2, 3, 5, 7, 5, 3, 7, 6, 5, 4, 3, 2, 1])"
   ]
  },
  {
   "cell_type": "code",
   "execution_count": 56,
   "id": "5ffdf78f",
   "metadata": {},
   "outputs": [
    {
     "name": "stdout",
     "output_type": "stream",
     "text": [
      "1\n",
      "2\n",
      "3\n",
      "5\n",
      "7\n",
      "5\n",
      "3\n",
      "7\n",
      "6\n",
      "5\n",
      "4\n",
      "3\n",
      "2\n",
      "1\n"
     ]
    }
   ],
   "source": [
    "for x in a:\n",
    "    print(x)"
   ]
  },
  {
   "cell_type": "code",
   "execution_count": 57,
   "id": "783c1155",
   "metadata": {},
   "outputs": [
    {
     "name": "stdout",
     "output_type": "stream",
     "text": [
      "1\n",
      "2\n",
      "3\n",
      "5\n",
      "7\n",
      "5\n",
      "3\n",
      "7\n",
      "6\n",
      "5\n",
      "4\n"
     ]
    }
   ],
   "source": [
    "for x in a[0:-3]:\n",
    "    print(x)"
   ]
  },
  {
   "cell_type": "markdown",
   "id": "903760f8",
   "metadata": {},
   "source": [
    "# Looping through an Array using while loop"
   ]
  },
  {
   "cell_type": "code",
   "execution_count": 60,
   "id": "08982af5",
   "metadata": {},
   "outputs": [
    {
     "name": "stdout",
     "output_type": "stream",
     "text": [
      "1.1\n",
      "2.2\n",
      "3.8\n",
      "3.1\n",
      "3.7\n"
     ]
    }
   ],
   "source": [
    "import array as arr\n",
    "a = arr.array('d', [1.1, 2.2, 3.8, 3.1, 3.7])\n",
    "b=0\n",
    "\n",
    "while b<len(a):\n",
    "    print(a[b])\n",
    "    b=b+1"
   ]
  },
  {
   "cell_type": "code",
   "execution_count": 67,
   "id": "1a5f853b",
   "metadata": {},
   "outputs": [
    {
     "name": "stdout",
     "output_type": "stream",
     "text": [
      "1\n",
      "2\n",
      "3\n"
     ]
    }
   ],
   "source": [
    "import array as arr\n",
    "d = arr.array('i', [1, 2, 3, 5, 7, 5, 3, 7, 6, 5, 4, 3, 2, 1])\n",
    "temp = 0\n",
    "\n",
    "while temp<d[2]:\n",
    "    print(d[temp])\n",
    "    temp=temp+1"
   ]
  },
  {
   "cell_type": "code",
   "execution_count": 69,
   "id": "9a19ec4f",
   "metadata": {},
   "outputs": [
    {
     "name": "stdout",
     "output_type": "stream",
     "text": [
      "1\n",
      "2\n",
      "3\n",
      "4\n",
      "5\n",
      "6\n",
      "9\n",
      "8\n"
     ]
    }
   ],
   "source": [
    "import array as arr\n",
    "a = arr.array('i', [1,2,3,4,5,6,9,8])\n",
    "temp = 0\n",
    "while temp<len(a):\n",
    "    print(a[temp])\n",
    "    temp+=1"
   ]
  },
  {
   "cell_type": "markdown",
   "id": "3f39b965",
   "metadata": {},
   "source": [
    "# Hash Table or Hashmap"
   ]
  },
  {
   "cell_type": "code",
   "execution_count": null,
   "id": "a7b950c1",
   "metadata": {},
   "outputs": [],
   "source": [
    "# Hash Table or Hashmap is a type of structure that maps keys to it"
   ]
  }
 ],
 "metadata": {
  "kernelspec": {
   "display_name": "Python 3 (ipykernel)",
   "language": "python",
   "name": "python3"
  },
  "language_info": {
   "codemirror_mode": {
    "name": "ipython",
    "version": 3
   },
   "file_extension": ".py",
   "mimetype": "text/x-python",
   "name": "python",
   "nbconvert_exporter": "python",
   "pygments_lexer": "ipython3",
   "version": "3.9.7"
  }
 },
 "nbformat": 4,
 "nbformat_minor": 5
}
