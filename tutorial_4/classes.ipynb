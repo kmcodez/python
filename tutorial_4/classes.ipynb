{
 "cells": [
  {
   "cell_type": "code",
   "execution_count": null,
   "metadata": {
    "vscode": {
     "languageId": "plaintext"
    }
   },
   "outputs": [],
   "source": [
    "class ClassName:\n",
    "\tpass\n",
    "\n",
    "obj = ClassName()\n",
    "print(obj)\n",
    "\n",
    "class Dog:\n",
    "\tattr1 = \"mammal\"\n",
    "\tattr2 = \"dog\"\n",
    "\n",
    "\tdef fun(self):\n",
    "\t\tprint(\"I am a\", self.attr1)\n",
    "\t\tprint(\"I am a\", self.attr2)\n",
    "Rodger = Dog()\n",
    "print(Rodger.attr1)\n",
    "print(Rodger.attr2)\n",
    "Rodger.fun()"
   ]
  },
  {
   "cell_type": "code",
   "execution_count": null,
   "metadata": {
    "vscode": {
     "languageId": "plaintext"
    }
   },
   "outputs": [],
   "source": [
    "class GFG:\n",
    "\tdef __init__(self, name, company):\n",
    "\t\tself.name = name\n",
    "\t\tself.company = company\n",
    "\n",
    "\tdef show(self):\n",
    "\t\tprint(\"Hello my name is \" + self.name+\" and I am\" + \" work in \"+self.company+\".\")\n",
    "\n",
    "obj = GFG(\"Kumar\", \"Sunland Auto Looms\")\n",
    "obj.show()\n",
    "\n",
    "class GFG:\n",
    "    def __init__(somename, name, company):\n",
    "        somename.name = name\n",
    "        somename.company = company\n",
    "\n",
    "    def show(somename):\n",
    "        print(\"Hello my name is \" + somename.name + \" and I am work in \"+somename.company+\".\")\n",
    "\n",
    "obj = GFG(\"Kumar\", \"Sunland Auto Looms\")\n",
    "obj.show()"
   ]
  },
  {
   "cell_type": "code",
   "execution_count": null,
   "metadata": {
    "vscode": {
     "languageId": "plaintext"
    }
   },
   "outputs": [],
   "source": [
    "class Person:\t\t\t\t\t\t\t\t\t\t\t\t\t\t\t\t\t# Class\n",
    "\tdef __init__(self, name):\t\t\t\t\t\t\t\t\t\t\t\t\t# init method or constructor\n",
    "\t\tself.name = name \t\t\t\t\t\t\t\t\t\t\t\t\t\t# name instance variable\n",
    "\n",
    "\tdef say_hi(self): \t\t\t\t\t\t\t\t\t\t\t\t\t\t\t# method\n",
    "\t\tprint('Hello, my name is ' + self.name)\t\t\t\t\t\t\t\t\t# str print function\n",
    "\n",
    "p = Person(\"Kumar\")\t\t\t\t\t\t\t\t\t\t\t\t\t\t\t\t# p as class object and kumar as instance variable\n",
    "p.say_hi()\t"
   ]
  },
  {
   "cell_type": "code",
   "execution_count": null,
   "metadata": {
    "vscode": {
     "languageId": "plaintext"
    }
   },
   "outputs": [],
   "source": [
    "class GFG:\n",
    "\tdef __init__(self, name, company):\n",
    "\t\tself.name = name\n",
    "\t\tself.company = company\n",
    "\n",
    "\tdef __str__(self):\n",
    "\t\treturn f\"My name is {self.name} and I am work in {self.company}.\"\n",
    "\n",
    "obj = GFG(\"Kumar\", \"Sunland Auto Looms\")\n",
    "print(obj)"
   ]
  },
  {
   "cell_type": "code",
   "execution_count": null,
   "metadata": {
    "vscode": {
     "languageId": "plaintext"
    }
   },
   "outputs": [],
   "source": [
    "class Dog:\n",
    "\tanimal = 'dog'\t\t\t\t\t\t\t\t\t\t\t\t\t\t\t\t# class variable\n",
    "\n",
    "\tdef __init__(self, breed, color):\n",
    "\t\tself.breed = breed\n",
    "\t\tself.color = color\n",
    "\n",
    "Rodger = Dog(\"Pug\", \"brown\")\n",
    "Buzo = Dog(\"Bulldog\", \"black\")\n",
    "\n",
    "print('Rodger details:')\n",
    "print('Rodger is a', Rodger.animal)\n",
    "print('Breed: ', Rodger.breed)\n",
    "print('Color: ', Rodger.color)\n",
    "\n",
    "print('\\nBuzo details:')\n",
    "print('Buzo is a', Buzo.animal)\n",
    "print('Breed: ', Buzo.breed)\n",
    "print('Color: ', Buzo.color)\n",
    "\n",
    "print(\"\\nAccessing class variable using class name\")\n",
    "print(Dog.animal)"
   ]
  },
  {
   "cell_type": "code",
   "execution_count": null,
   "metadata": {
    "vscode": {
     "languageId": "plaintext"
    }
   },
   "outputs": [],
   "source": [
    "class Dog:\t\t\t\t\t\t\t\t\t\t\t\t\t\t\t\t\t\t# class\n",
    "\tanimal = 'dog'\t\t\t\t\t\t\t\t\t\t\t\t\t\t\t\t# class variable\n",
    "\n",
    "\tdef __init__(self, breed):\t\t\t\t\t\t\t\t\t\t\t\t\t# init method or constructor\n",
    "\t\tself.breed = breed \t\t\t\t\t\t\t\t\t\t\t\t\t\t# instance variable\n",
    "\n",
    "\tdef set_color(self, color):\t\t\t\t\t\t\t\t\t\t \t\t\t# add a instance variable\n",
    "\t\tself.color = color \t\t\t\t\t\t\t\t\t\t\t\t\t\t\n",
    "\n",
    "\tdef get_color(self):\t\t\t\t\t\t\t\t\t\t\t\t\t\t# Retriving an instance\n",
    "\t\treturn self.color\n",
    "\n",
    "Rodger = Dog(\"pug\")\n",
    "Rodger.set_color(\"brown\")\n",
    "print(Rodger.get_color())"
   ]
  },
  {
   "cell_type": "code",
   "execution_count": null,
   "metadata": {
    "vscode": {
     "languageId": "plaintext"
    }
   },
   "outputs": [],
   "source": [
    "# Constructors in Python\n",
    "\"\"\"\n",
    "Constructors are generally used for instantiating an object. The task of constructors is to initialize(assign values) to \n",
    "the data members of the class when an object of the class is created. In Python the __init__() method is called the \n",
    "constructor and is always called when an object is created.\n",
    "\n",
    "Syntax of constructor declaration : \n",
    "\n",
    "def __init__(self):\n",
    "    # body of the constructor\n",
    "\n",
    "Types of constructors :\n",
    "default constructor\n",
    "parameterized constructor\n",
    "\"\"\""
   ]
  },
  {
   "cell_type": "code",
   "execution_count": null,
   "metadata": {
    "vscode": {
     "languageId": "plaintext"
    }
   },
   "outputs": [],
   "source": [
    "# Example of default constructor\n",
    "\n",
    "class GeeksforGeeks:\t\t\t\t\t# class\n",
    "\tdef __init__(self):\t\t\t\t\t# default constructor\n",
    "\t\tself.geek = \"GeeksforGeeks\"\t\t\n",
    "\n",
    "\tdef print_geek(self):\t\t\t\t# a method for printing data members\n",
    "\t\tprint(self.geek)\n",
    "\n",
    "obj = GeeksforGeeks()\n",
    "obj.print_geek()"
   ]
  },
  {
   "cell_type": "code",
   "execution_count": null,
   "metadata": {
    "vscode": {
     "languageId": "plaintext"
    }
   },
   "outputs": [],
   "source": [
    "class Addition:\n",
    "\tfirst = 0\n",
    "\tsecond = 0\n",
    "\tanswer = 0\n",
    "\n",
    "\tdef __init__ (self, f, s):\n",
    "\t\tself.first = f\n",
    "\t\tself.second = s\n",
    "\n",
    "\tdef display(self):\n",
    "\t\tprint(\"First number = \" + str(self.first))\n",
    "\t\tprint(\"Second number = \" + str(self.second))\n",
    "\t\tprint(\"Addition of two numbers = \" + str(self.answer))\n",
    "\n",
    "\tdef calculate(self):\n",
    "\t\tself.answer = self.first + self.second\n",
    "\n",
    "obj1 = Addition(1000, 2000)\n",
    "obj2 = Addition(10, 20)\n",
    "obj1.calculate()\n",
    "obj2.calculate()\n",
    "obj1.display()\n",
    "obj2.display()"
   ]
  },
  {
   "cell_type": "code",
   "execution_count": null,
   "metadata": {
    "vscode": {
     "languageId": "plaintext"
    }
   },
   "outputs": [],
   "source": [
    "class myclass:\n",
    "\tdef __init__(self, name=None):\n",
    "\t\tif name is None:\n",
    "\t\t\tprint(\"Default constructor called\")\n",
    "\t\telse:\n",
    "\t\t\tself.name = name\n",
    "\t\t\tprint(\"Parameterized constructor called with name\")\n",
    "\n",
    "\tdef method(self):\n",
    "\t\tif hasattr(self, \"name\"):\n",
    "\t\t\tprint(\"Method called with name \" + self.name)\n",
    "\t\telse:\n",
    "\t\t\tprint(\"Method called without a name\")\n",
    "\n",
    "obj1 = myclass()\n",
    "obj1.method()\n",
    "obj2 = myclass(\"Kumar\")\n",
    "obj2.method()"
   ]
  },
  {
   "cell_type": "code",
   "execution_count": null,
   "metadata": {
    "vscode": {
     "languageId": "plaintext"
    }
   },
   "outputs": [],
   "source": [
    "# Destructors in Python\n",
    "\n",
    "\"\"\"\n",
    "Destructors are called when an object gets destroyed. In Python, destructors are not needed as much \n",
    "as in C++ because Python has a garbage collector that handles memory management automatically. \n",
    "The __del__() method is a known as a destructor method in Python. It is called when all references to the \n",
    "object have been deleted i.e when an object is garbage collected. \n",
    "\n",
    "Syntax of destructor declaration : \n",
    "\n",
    "\n",
    "def __del__(self):\n",
    "    # body of destructor\n",
    "\"\"\""
   ]
  },
  {
   "cell_type": "code",
   "execution_count": null,
   "metadata": {
    "vscode": {
     "languageId": "plaintext"
    }
   },
   "outputs": [],
   "source": [
    "class Employee:\n",
    "\tdef __init__(self):\n",
    "\t\tprint(\"Employee created\")\n",
    "\n",
    "\tdef __del__(self):\n",
    "\t\tprint(\"Destructor called, Employee deleted.\")\n",
    "\n",
    "obj = Employee()\n",
    "del obj"
   ]
  },
  {
   "cell_type": "code",
   "execution_count": null,
   "metadata": {
    "vscode": {
     "languageId": "plaintext"
    }
   },
   "outputs": [],
   "source": [
    "class Employee:\n",
    "\tdef __init__(self):\n",
    "\t\tprint(\"Employee created\")\n",
    "\n",
    "\tdef __del__(self):\n",
    "\t\tprint(\"Destructor Called\")\n",
    "\n",
    "def Create_obj():\n",
    "\tprint(\"Making Object\")\n",
    "\tobj = Employee()\n",
    "\tprint(\"function end...\")\n",
    "\treturn obj\n",
    "\n",
    "print(\"Calling Create_obj() function..\")\n",
    "obj = Create_obj()\n",
    "print(\"Program End..\")\n",
    "del obj"
   ]
  },
  {
   "cell_type": "code",
   "execution_count": null,
   "metadata": {
    "vscode": {
     "languageId": "plaintext"
    }
   },
   "outputs": [],
   "source": [
    "class A:\n",
    "\tdef __init__(self, bb):\n",
    "\t\tself.b = bb\n",
    "\n",
    "class B:\n",
    "\tdef __init__(self):\n",
    "\t\tself.a = A(self)\n",
    "\n",
    "\tdef __del__(self):\n",
    "\t\tprint(\"die\")\n",
    "\n",
    "def fun():\n",
    "\tb = B()\n",
    "\n",
    "fun()"
   ]
  },
  {
   "cell_type": "code",
   "execution_count": null,
   "metadata": {
    "vscode": {
     "languageId": "plaintext"
    }
   },
   "outputs": [],
   "source": [
    "class RecursiveFunction:\n",
    "\tdef __init__(self, n):\n",
    "\t\tself.n = n\n",
    "\t\tprint(\"Recursive function initialized with n = \", n)\n",
    "\n",
    "\tdef run(self, n=None):\n",
    "\t\tif n is None:\n",
    "\t\t\tn = self.n\n",
    "\t\tif n <= 0:\n",
    "\t\t\treturn\n",
    "\t\tprint(\"Running recursive function with n =\", n)\n",
    "\t\tself.run(n-1)\n",
    "\n",
    "\tdef __del__(self):\n",
    "\t\tprint(\"Recursive function object destroyed\")\n",
    "\n",
    "obj = RecursiveFunction(5)\n",
    "obj.run()\n",
    "del obj"
   ]
  },
  {
   "cell_type": "code",
   "execution_count": null,
   "metadata": {
    "vscode": {
     "languageId": "plaintext"
    }
   },
   "outputs": [],
   "source": []
  },
  {
   "cell_type": "code",
   "execution_count": null,
   "metadata": {
    "vscode": {
     "languageId": "plaintext"
    }
   },
   "outputs": [],
   "source": []
  },
  {
   "cell_type": "code",
   "execution_count": null,
   "metadata": {
    "vscode": {
     "languageId": "plaintext"
    }
   },
   "outputs": [],
   "source": []
  },
  {
   "cell_type": "code",
   "execution_count": null,
   "metadata": {
    "vscode": {
     "languageId": "plaintext"
    }
   },
   "outputs": [],
   "source": []
  },
  {
   "cell_type": "code",
   "execution_count": null,
   "metadata": {
    "vscode": {
     "languageId": "plaintext"
    }
   },
   "outputs": [],
   "source": []
  },
  {
   "cell_type": "code",
   "execution_count": null,
   "metadata": {
    "vscode": {
     "languageId": "plaintext"
    }
   },
   "outputs": [],
   "source": []
  },
  {
   "cell_type": "code",
   "execution_count": null,
   "metadata": {
    "vscode": {
     "languageId": "plaintext"
    }
   },
   "outputs": [],
   "source": []
  },
  {
   "cell_type": "code",
   "execution_count": null,
   "metadata": {
    "vscode": {
     "languageId": "plaintext"
    }
   },
   "outputs": [],
   "source": []
  },
  {
   "cell_type": "code",
   "execution_count": null,
   "metadata": {
    "vscode": {
     "languageId": "plaintext"
    }
   },
   "outputs": [],
   "source": []
  },
  {
   "cell_type": "code",
   "execution_count": null,
   "metadata": {
    "vscode": {
     "languageId": "plaintext"
    }
   },
   "outputs": [],
   "source": []
  },
  {
   "cell_type": "code",
   "execution_count": null,
   "metadata": {
    "vscode": {
     "languageId": "plaintext"
    }
   },
   "outputs": [],
   "source": []
  },
  {
   "cell_type": "code",
   "execution_count": null,
   "metadata": {
    "vscode": {
     "languageId": "plaintext"
    }
   },
   "outputs": [],
   "source": []
  }
 ],
 "metadata": {
  "language_info": {
   "name": "python"
  }
 },
 "nbformat": 4,
 "nbformat_minor": 2
}
