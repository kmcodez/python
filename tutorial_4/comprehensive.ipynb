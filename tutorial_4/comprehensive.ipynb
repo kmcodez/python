{
 "cells": [
  {
   "cell_type": "markdown",
   "metadata": {},
   "source": [
    "DICT COMPREHENSIVE"
   ]
  },
  {
   "cell_type": "code",
   "execution_count": null,
   "metadata": {
    "vscode": {
     "languageId": "plaintext"
    }
   },
   "outputs": [],
   "source": [
    "keys = ['a', 'b', 'c', 'd', 'e']\n",
    "values = [1, 2, 3, 4, 5]\n",
    "\n",
    "myDict = { k:v for (k, v) in zip(keys, values)}\n",
    "print(myDict)\n",
    "\n",
    "adict = dict.fromkeys(range(5), True)\n",
    "print(adict)\n",
    "\n",
    "b = {x: x**2 for x in [1,2,3,4,5]}\n",
    "print(b)\n",
    "\n",
    "c = {x.upper(): x*3 for x in 'Kumar'}\n",
    "print(c)\n",
    "\n",
    "d = {x.lower(): x*3 for x in 'Kumar'}\n",
    "print(d)\n",
    "\n",
    "e = {x: x**3 for x in range(10) if x**3 % 4 == 0}\n",
    "print(e)\n",
    "\n",
    "laa =  'GFG'\n",
    "f = {x:{y: x+y for y in laa} for x in laa}\n",
    "print(f)\n",
    "\n",
    "g = {num:num*num for num in range(1, 11)}\n",
    "print(g)\n",
    "\n",
    "h = {num:num*num for num in range(1, 11) if num%2 == 0}\n",
    "print(h)\n",
    "\n",
    "old_price = {'milk': 1.02, 'coffee': 2.5, 'bread': 2.5}\n",
    "\n",
    "doller_to_pound = 0.76\n",
    "new_price = {key: value*doller_to_pound for (key, value) in old_price.items()}\n",
    "print(new_price)\n",
    "\n",
    "original_dict = {'jack': 38, 'michael': 48, 'guido': 57, 'john': 33}\n",
    "even_dict = {k: v for (k, v) in original_dict.items() if v%2 == 0}\n",
    "new_dict = {k: v for (k, v) in original_dict.items() if v%2 !=0 if v < 40}\n",
    "new_dict1 = {k: ('old' if v > 40 else 'young') for (k, v) in original_dict.items()}\n",
    "k = {k1: {k2 : k1*k2 for k2 in range(1, 6)} for k1 in range(2, 5)}\n",
    "\n",
    "print(even_dict)\n",
    "print(new_dict)\n",
    "print(new_dict1)\n",
    "print(k)"
   ]
  },
  {
   "cell_type": "markdown",
   "metadata": {},
   "source": [
    "LIST COMPREHENSIVE"
   ]
  },
  {
   "cell_type": "code",
   "execution_count": null,
   "metadata": {
    "vscode": {
     "languageId": "plaintext"
    }
   },
   "outputs": [],
   "source": [
    "fruits = [\"apple\", \"banana\", \"cherry\", \"kiwi\", \"mango\"]\n",
    "newlist = []\n",
    "\n",
    "for x in fruits:\n",
    "  if \"a\" in x:\n",
    "    newlist.append(x)\n",
    "\n",
    "print(newlist)"
   ]
  },
  {
   "cell_type": "code",
   "execution_count": null,
   "metadata": {
    "vscode": {
     "languageId": "plaintext"
    }
   },
   "outputs": [],
   "source": [
    "fruits = [\"apple\", \"banana\", \"cherry\", \"kiwi\", \"mango\"]\n",
    "\n",
    "newlist1 = [x for x in fruits if \"a\" in x]\n",
    "newlist2 = [x for x in fruits if x != 'apple']\n",
    "print(newlist1)\n",
    "print(newlist2)"
   ]
  },
  {
   "cell_type": "code",
   "execution_count": null,
   "metadata": {
    "vscode": {
     "languageId": "plaintext"
    }
   },
   "outputs": [],
   "source": [
    "fruits = [\"apple\", \"banana\", \"cherry\", \"kiwi\", \"mango\"]\n",
    "newlist = [x for x in range(10)]\n",
    "newlist1 = [x for x in range(10) if x < 5]\n",
    "newlist2 = [x.upper() for x in fruits]\n",
    "newlist3 = [\"hello\" for x in fruits]\n",
    "newlist4 = [x if x != 'banana' else 'orange' for x in fruits]\n",
    "\n",
    "print(newlist)\n",
    "print(newlist1)\n",
    "print(newlist2)\n",
    "print(newlist3)\n",
    "print(newlist4)\n",
    "[print(x) for x in fruits]"
   ]
  },
  {
   "cell_type": "code",
   "execution_count": null,
   "metadata": {
    "vscode": {
     "languageId": "plaintext"
    }
   },
   "outputs": [],
   "source": [
    "def myfunc(n):\n",
    "  return abs(n - 10)\n",
    "\n",
    "thislist = [100, 50, 65, 82, 23]\n",
    "thislist.sort(key = myfunc)\n",
    "print(thislist)"
   ]
  },
  {
   "cell_type": "code",
   "execution_count": null,
   "metadata": {
    "vscode": {
     "languageId": "plaintext"
    }
   },
   "outputs": [],
   "source": [
    "alist = [chracter for chracter in [1,2,3]]\n",
    "print(alist)\n",
    "\n",
    "blist = [i for i in range(11)]\n",
    "print(blist)\n",
    "\n",
    "clist = [i for i in range(11) if i%2 == 0]\n",
    "print(clist)\n",
    "\n",
    "dlist = [[j for j in range(3)] for i in range(3)]\n",
    "print(dlist)\n",
    "\n",
    "elist = []\n",
    "for i in 'geeksforgeeks':\n",
    "  elist.append(i)\n",
    "print(elist)\n",
    "\n",
    "flist = [chracter for chracter in \"geeksforgeeks\"]\n",
    "print(flist)\n",
    "\n",
    "glist = [[j for j in range(5)] for i in range(5)]\n",
    "print(glist)\n",
    "\n",
    "hlist = [i*10 for i in range(1, 6)]\n",
    "print(hlist)\n",
    "\n",
    "ilist = list(map(lambda i: i*10, [i for i in range(1, 6)]))\n",
    "print(ilist)\n",
    "\n",
    "jlist = ['EvenNo' if i % 2 == 0 else 'OddNo' for i in range(10)]\n",
    "print(jlist)\n",
    "\n",
    "klist = [num for num in range(100) if num % 5 == 0 if num % 10 == 0]\n",
    "print(klist)\n",
    "\n",
    "llist = [n**2 for n in range(1, 11)]\n",
    "print(llist)"
   ]
  },
  {
   "cell_type": "code",
   "execution_count": null,
   "metadata": {
    "vscode": {
     "languageId": "plaintext"
    }
   },
   "outputs": [],
   "source": [
    "# Time Analysis in List Comprehensive\n",
    "import time\n",
    "\n",
    "def for_loop(n):\n",
    "  result = []\n",
    "  for i in range(n):\n",
    "    result.append(i**2)\n",
    "  return result\n",
    "\n",
    "def list_comprehensive(n):\n",
    "  return [i**2 for i in range(n)]\n",
    "\n",
    "begin = time.time()\n",
    "for_loop(10**6)\n",
    "end = time.time()\n",
    "\n",
    "print('Time taken for_loop:', round(end-begin, 2))\n",
    "\n",
    "begin = time.time()\n",
    "list_comprehensive(10**6)\n",
    "end = time.time()\n",
    " \n",
    "print('Time taken for list_comprehension:', round(end-begin, 2))"
   ]
  },
  {
   "cell_type": "code",
   "execution_count": null,
   "metadata": {
    "vscode": {
     "languageId": "plaintext"
    }
   },
   "outputs": [],
   "source": []
  },
  {
   "cell_type": "code",
   "execution_count": null,
   "metadata": {
    "vscode": {
     "languageId": "plaintext"
    }
   },
   "outputs": [],
   "source": []
  },
  {
   "cell_type": "code",
   "execution_count": null,
   "metadata": {
    "vscode": {
     "languageId": "plaintext"
    }
   },
   "outputs": [],
   "source": []
  },
  {
   "cell_type": "code",
   "execution_count": null,
   "metadata": {
    "vscode": {
     "languageId": "plaintext"
    }
   },
   "outputs": [],
   "source": []
  },
  {
   "cell_type": "code",
   "execution_count": null,
   "metadata": {
    "vscode": {
     "languageId": "plaintext"
    }
   },
   "outputs": [],
   "source": []
  },
  {
   "cell_type": "code",
   "execution_count": null,
   "metadata": {
    "vscode": {
     "languageId": "plaintext"
    }
   },
   "outputs": [],
   "source": []
  },
  {
   "cell_type": "code",
   "execution_count": null,
   "metadata": {
    "vscode": {
     "languageId": "plaintext"
    }
   },
   "outputs": [],
   "source": []
  },
  {
   "cell_type": "code",
   "execution_count": null,
   "metadata": {
    "vscode": {
     "languageId": "plaintext"
    }
   },
   "outputs": [],
   "source": []
  },
  {
   "cell_type": "code",
   "execution_count": null,
   "metadata": {
    "vscode": {
     "languageId": "plaintext"
    }
   },
   "outputs": [],
   "source": []
  },
  {
   "cell_type": "code",
   "execution_count": null,
   "metadata": {
    "vscode": {
     "languageId": "plaintext"
    }
   },
   "outputs": [],
   "source": []
  },
  {
   "cell_type": "code",
   "execution_count": null,
   "metadata": {
    "vscode": {
     "languageId": "plaintext"
    }
   },
   "outputs": [],
   "source": []
  },
  {
   "cell_type": "code",
   "execution_count": null,
   "metadata": {
    "vscode": {
     "languageId": "plaintext"
    }
   },
   "outputs": [],
   "source": []
  },
  {
   "cell_type": "code",
   "execution_count": null,
   "metadata": {
    "vscode": {
     "languageId": "plaintext"
    }
   },
   "outputs": [],
   "source": []
  },
  {
   "cell_type": "code",
   "execution_count": null,
   "metadata": {
    "vscode": {
     "languageId": "plaintext"
    }
   },
   "outputs": [],
   "source": []
  },
  {
   "cell_type": "code",
   "execution_count": null,
   "metadata": {
    "vscode": {
     "languageId": "plaintext"
    }
   },
   "outputs": [],
   "source": []
  },
  {
   "cell_type": "code",
   "execution_count": null,
   "metadata": {
    "vscode": {
     "languageId": "plaintext"
    }
   },
   "outputs": [],
   "source": []
  },
  {
   "cell_type": "code",
   "execution_count": null,
   "metadata": {
    "vscode": {
     "languageId": "plaintext"
    }
   },
   "outputs": [],
   "source": []
  }
 ],
 "metadata": {
  "language_info": {
   "name": "python"
  }
 },
 "nbformat": 4,
 "nbformat_minor": 2
}
