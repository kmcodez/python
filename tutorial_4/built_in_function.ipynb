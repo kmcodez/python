{
 "cells": [
  {
   "cell_type": "code",
   "execution_count": 19,
   "metadata": {},
   "outputs": [
    {
     "name": "stdout",
     "output_type": "stream",
     "text": [
      "7.25\n",
      "5.830951894845301\n"
     ]
    }
   ],
   "source": [
    "# abs()\n",
    "# The abs() function returns the absolute value of the specified number.\n",
    "\n",
    "\n",
    "x = abs(-7.25)\n",
    "print(x)\n",
    "\n",
    "a = abs(3+5j)\n",
    "print(a)"
   ]
  },
  {
   "cell_type": "code",
   "execution_count": 20,
   "metadata": {},
   "outputs": [
    {
     "name": "stdout",
     "output_type": "stream",
     "text": [
      "True\n",
      "False\n",
      "False\n",
      "False\n",
      "False\n"
     ]
    }
   ],
   "source": [
    "# all()\n",
    "# The all() function returns True if all items in an iterable are true, otherwise it returns False.\n",
    "# If the iterable object is empty, the all() function also returns True.\n",
    "\n",
    "mylist = [True, True, True]\n",
    "x = all(mylist)\n",
    "print(x)\n",
    "\n",
    "mylist1 = [0, 1, 1]\n",
    "b = all(mylist1)\n",
    "print(b)\n",
    "\n",
    "mytuple = (0, True, True)\n",
    "c = all(mytuple)\n",
    "print(c)\n",
    "\n",
    "myset = {0, 1, 0}\n",
    "d = all(myset)\n",
    "print(d)\n",
    "\n",
    "mydict = {0:'Apple', 1:'orange'}\n",
    "e = all(mydict)\n",
    "print(e)"
   ]
  },
  {
   "cell_type": "code",
   "execution_count": 21,
   "metadata": {},
   "outputs": [
    {
     "name": "stdout",
     "output_type": "stream",
     "text": [
      "True\n",
      "True\n",
      "True\n",
      "True\n"
     ]
    }
   ],
   "source": [
    "# any()\n",
    "# The any() function returns True if any item in an iterable are true, otherwise it returns False.\n",
    "# If the iterable object is empty, the any() function will return False.\n",
    "\n",
    "mylist = [False, True, False]\n",
    "a = any(mylist)\n",
    "print(a)\n",
    "\n",
    "mytuple = (0, 1, False)\n",
    "b = any(mytuple)\n",
    "print(b)\n",
    "\n",
    "myset = {0, 1, 0}\n",
    "c = any(myset)\n",
    "print(c)\n",
    "\n",
    "mydict = {0 :'Apple', 1 :'orange'}\n",
    "d = any(mydict)\n",
    "print(d)"
   ]
  },
  {
   "cell_type": "code",
   "execution_count": 22,
   "metadata": {},
   "outputs": [
    {
     "name": "stdout",
     "output_type": "stream",
     "text": [
      "'My name is St\\xe5le'\n"
     ]
    }
   ],
   "source": [
    "# ascii()\n",
    "# The ascii() function returns a readable version of any object (Strings, Tuples, Lists, etc).\n",
    "# The ascii() function will replace any non-ascii characters with escape characters:\n",
    "# å will be replaced with \\xe5.\n",
    "\n",
    "x = ascii(\"My name is Ståle\")\n",
    "print(x)"
   ]
  },
  {
   "cell_type": "code",
   "execution_count": 23,
   "metadata": {},
   "outputs": [
    {
     "name": "stdout",
     "output_type": "stream",
     "text": [
      "0b100100\n"
     ]
    }
   ],
   "source": [
    "# bin()\n",
    "# The bin() function returns the binary version of a specified integer.\n",
    "# The result will always start with the prefix 0b.\n",
    "\n",
    "x = bin(36)\n",
    "print(x)"
   ]
  },
  {
   "cell_type": "code",
   "execution_count": 24,
   "metadata": {},
   "outputs": [
    {
     "name": "stdout",
     "output_type": "stream",
     "text": [
      "True\n"
     ]
    }
   ],
   "source": [
    "# bool()\n",
    "# The bool() function returns the boolean value of a specified object.\n",
    "# The object will always return True, unless:\n",
    "# The object is empty, like [], (), {}\n",
    "# The object is False\n",
    "# The object is 0\n",
    "# The object is None\n",
    "\n",
    "x = bool(1)\n",
    "print(x)"
   ]
  },
  {
   "cell_type": "code",
   "execution_count": 25,
   "metadata": {},
   "outputs": [
    {
     "name": "stdout",
     "output_type": "stream",
     "text": [
      "bytearray(b'\\x00\\x00\\x00\\x00')\n"
     ]
    }
   ],
   "source": [
    "# bytearray()\n",
    "# The bytearray() function returns a bytearray object.\n",
    "# It can convert objects into bytearray objects, or create empty bytearray object of the specified size.\n",
    "# syntex = bytearray(x, encoding, error)\n",
    "\n",
    "x = bytearray(4)\n",
    "print(x)"
   ]
  },
  {
   "cell_type": "code",
   "execution_count": 26,
   "metadata": {},
   "outputs": [
    {
     "name": "stdout",
     "output_type": "stream",
     "text": [
      "bytearray(b'hai')\n"
     ]
    }
   ],
   "source": [
    "a = bytearray(\"hai\", 'utf-8')\n",
    "print(a)"
   ]
  },
  {
   "cell_type": "code",
   "execution_count": 27,
   "metadata": {},
   "outputs": [
    {
     "name": "stdout",
     "output_type": "stream",
     "text": [
      "b'\\x00\\x00\\x00\\x00\\x00\\x00'\n",
      "b'hai'\n"
     ]
    }
   ],
   "source": [
    "# bytes()\n",
    "# The bytes() function returns a bytes object.\n",
    "# It can convert objects into bytes objects, or create empty bytes object of the specified size.\n",
    "# The difference between bytes() and bytearray() is that bytes() returns an object that cannot be modified, \n",
    "# and bytearray() returns an object that can be modified.\n",
    "# syntex = bytes(x, encoding, error)\n",
    "\n",
    "x = bytes(6)\n",
    "print(x)\n",
    "\n",
    "a = bytes(\"hai\", 'utf-8')\n",
    "print(a)"
   ]
  },
  {
   "cell_type": "code",
   "execution_count": 28,
   "metadata": {},
   "outputs": [
    {
     "name": "stdout",
     "output_type": "stream",
     "text": [
      "True\n"
     ]
    }
   ],
   "source": [
    "# callable()\n",
    "# The callable() function returns True if the specified object is callable, otherwise it returns False.\n",
    "\n",
    "def x():\n",
    "\ta = 5\n",
    "print(callable(x))"
   ]
  },
  {
   "cell_type": "code",
   "execution_count": null,
   "metadata": {},
   "outputs": [],
   "source": [
    "# chr()\n",
    "# The chr() function returns the character that represents the specified unicode.\n",
    "\n",
    "x = chr(100)\n",
    "print(x)"
   ]
  },
  {
   "cell_type": "code",
   "execution_count": 29,
   "metadata": {},
   "outputs": [
    {
     "name": "stdout",
     "output_type": "stream",
     "text": [
      "Purchase Course : DSA\n"
     ]
    }
   ],
   "source": [
    "# classmethod()\n",
    "# The classmethod() is an inbuilt function in Python, which returns a class method for a given function.;\n",
    "# syntax = @classmethod\n",
    "#\t\t\t   def fun(cls, arg1, arg2, ...):\n",
    "\n",
    "class geeks:\n",
    "\tcourse = 'DSA'\n",
    "\n",
    "\tdef purchase(obj):\n",
    "\t\tprint(\"Purchase Course : \" + obj.course)\n",
    "\n",
    "geeks.purchase = classmethod(geeks.purchase)\n",
    "geeks.purchase()"
   ]
  },
  {
   "cell_type": "code",
   "execution_count": 30,
   "metadata": {},
   "outputs": [
    {
     "name": "stdout",
     "output_type": "stream",
     "text": [
      "55\n",
      "55\n",
      "88\n"
     ]
    },
    {
     "data": {
      "text/plain": [
       "9"
      ]
     },
     "execution_count": 30,
     "metadata": {},
     "output_type": "execute_result"
    }
   ],
   "source": [
    "# compile()\n",
    "# The compile() function returns the specified source as a code object, ready to be executed.\n",
    "# syntex = compile(source, filename, mode, flag, dont_inherit, optimize)\n",
    "\n",
    "x = compile('print(55)', 'test', 'eval')\n",
    "exec(x)\n",
    "\n",
    "a = compile('print(55)\\nprint(88)', 'test', 'exec')\n",
    "exec(a)\n",
    "\n",
    "b = compile(\"5 + 4\", \"<string>\", \"eval\")\n",
    "eval(b)"
   ]
  },
  {
   "cell_type": "code",
   "execution_count": 31,
   "metadata": {},
   "outputs": [
    {
     "name": "stdout",
     "output_type": "stream",
     "text": [
      "(3+5j)\n",
      "(3+5j)\n"
     ]
    }
   ],
   "source": [
    "# complex()\n",
    "# The complex() function returns a complex number by specifying a real number and an imaginary number.\n",
    "\n",
    "x = complex(3, 5)\n",
    "print(x)\n",
    "\n",
    "a = complex(3+5j)\n",
    "print(a)"
   ]
  },
  {
   "cell_type": "code",
   "execution_count": 32,
   "metadata": {},
   "outputs": [
    {
     "name": "stdout",
     "output_type": "stream",
     "text": [
      "33\n"
     ]
    },
    {
     "ename": "AttributeError",
     "evalue": "type object 'person' has no attribute 'age'",
     "output_type": "error",
     "traceback": [
      "\u001b[1;31m---------------------------------------------------------------------------\u001b[0m",
      "\u001b[1;31mAttributeError\u001b[0m                            Traceback (most recent call last)",
      "Cell \u001b[1;32mIn[32], line 12\u001b[0m\n\u001b[0;32m     10\u001b[0m \u001b[38;5;28mprint\u001b[39m(person\u001b[38;5;241m.\u001b[39mage)\n\u001b[0;32m     11\u001b[0m \u001b[38;5;28mdelattr\u001b[39m(person, \u001b[38;5;124m'\u001b[39m\u001b[38;5;124mage\u001b[39m\u001b[38;5;124m'\u001b[39m)\n\u001b[1;32m---> 12\u001b[0m \u001b[38;5;28mprint\u001b[39m(\u001b[43mperson\u001b[49m\u001b[38;5;241;43m.\u001b[39;49m\u001b[43mage\u001b[49m)\n",
      "\u001b[1;31mAttributeError\u001b[0m: type object 'person' has no attribute 'age'"
     ]
    }
   ],
   "source": [
    "# delattr()\n",
    "# The delattr() function will delete the specified attribute from the specified object.\n",
    "\n",
    "class person:\n",
    "\tname = \"kumar\"\n",
    "\tage = 33\n",
    "\tcountry = \"india\"\n",
    "\n",
    "print(person.age)\n",
    "delattr(person, 'age')\n",
    "print(person.age)"
   ]
  },
  {
   "cell_type": "code",
   "execution_count": 33,
   "metadata": {},
   "outputs": [
    {
     "name": "stdout",
     "output_type": "stream",
     "text": [
      "{'name': 'John', 'age': 36, 'country': 'Norway'}\n"
     ]
    }
   ],
   "source": [
    "# dict()\n",
    "# The dict() function creates a dictionary.\n",
    "# A dictionary is a collection which is unordered, changeable and indexed.\n",
    "\n",
    "x = dict(name = \"John\", age = 36, country = \"Norway\")\n",
    "print(x)"
   ]
  },
  {
   "cell_type": "code",
   "execution_count": 34,
   "metadata": {},
   "outputs": [
    {
     "name": "stdout",
     "output_type": "stream",
     "text": [
      "['__class__', '__delattr__', '__dict__', '__dir__', '__doc__', '__eq__', '__format__', '__ge__', '__getattribute__', '__getstate__', '__gt__', '__hash__', '__init__', '__init_subclass__', '__le__', '__lt__', '__module__', '__ne__', '__new__', '__reduce__', '__reduce_ex__', '__repr__', '__setattr__', '__sizeof__', '__str__', '__subclasshook__', '__weakref__', 'age', 'country', 'name']\n"
     ]
    }
   ],
   "source": [
    "# dir()\n",
    "# The dir() function returns all properties and methods of the specified object, without the values.\n",
    "# This function will return all the properties and methods, even built-in properties which are default for all object.\n",
    "\n",
    "class person:\n",
    "\tname = \"kumar\"\n",
    "\tage = 33\n",
    "\tcountry = \"india\"\n",
    "\n",
    "print(dir(person))"
   ]
  },
  {
   "cell_type": "code",
   "execution_count": 35,
   "metadata": {},
   "outputs": [
    {
     "name": "stdout",
     "output_type": "stream",
     "text": [
      "(29, 51)\n"
     ]
    }
   ],
   "source": [
    "# divmod()\n",
    "# The divmod() function returns a tuple containing the quotient  and the remainder when argument1 (dividend) \n",
    "# is divided by argument2 (divisor).\n",
    "\n",
    "x = divmod(4256, 145)\n",
    "print(x)"
   ]
  },
  {
   "cell_type": "code",
   "execution_count": 36,
   "metadata": {},
   "outputs": [
    {
     "name": "stdout",
     "output_type": "stream",
     "text": [
      "<enumerate object at 0x000001CFFBC4D4E0>\n"
     ]
    }
   ],
   "source": [
    "# enumerate()\n",
    "# The enumerate() function takes a collection (e.g. a tuple) and returns it as an enumerate object.\n",
    "# The enumerate() function adds a counter as the key of the enumerate object.\n",
    "\n",
    "x = ('apple', 'banana', 'cherry')\n",
    "y = enumerate(x)\n",
    "print(y)"
   ]
  },
  {
   "cell_type": "code",
   "execution_count": null,
   "metadata": {},
   "outputs": [],
   "source": [
    "# eval()\n",
    "# The eval() function evaluates the specified expression, if the expression is a legal Python statement, it will be executed.\n",
    "# syntex = eval(expression, globals, locals)\n",
    "\n",
    "x = ('Print(55)')\n",
    "print(x)\n",
    "\n",
    "a = 'a = 45\\nb = 60\\nc = a * b\\nprint(c)'\n",
    "print(eval(a))"
   ]
  },
  {
   "cell_type": "code",
   "execution_count": 37,
   "metadata": {},
   "outputs": [
    {
     "name": "stdout",
     "output_type": "stream",
     "text": [
      "John\n"
     ]
    }
   ],
   "source": [
    "# exec()\n",
    "# The exec() function executes the specified Python code.\n",
    "# The exec() function accepts large blocks of code, unlike the eval() function which only accepts a single expression\n",
    "# syntex = exec(object, globals, locals)\n",
    "\n",
    "x = 'name = \"John\"\\nprint(name)'\n",
    "exec(x)"
   ]
  },
  {
   "cell_type": "code",
   "execution_count": 38,
   "metadata": {},
   "outputs": [
    {
     "name": "stdout",
     "output_type": "stream",
     "text": [
      "18\n",
      "24\n",
      "32\n"
     ]
    }
   ],
   "source": [
    "# filter()\n",
    "# The filter() function returns an iterator where the items are filtered through a function to test if the item is \n",
    "# accepted or not.\n",
    "# syntex = filter(function, iterable)\n",
    "\n",
    "ages = [5, 12, 17, 18, 24, 32]\n",
    "\n",
    "def myFunc(x):\n",
    "    if x < 18:\n",
    "        return False\n",
    "    else:\n",
    "        return True\n",
    "\n",
    "adults = filter(myFunc, ages)\n",
    "\n",
    "for x in adults:\n",
    "    print(x)"
   ]
  },
  {
   "cell_type": "code",
   "execution_count": 39,
   "metadata": {},
   "outputs": [
    {
     "name": "stdout",
     "output_type": "stream",
     "text": [
      "3.0\n",
      "3.5\n"
     ]
    }
   ],
   "source": [
    "# float()\n",
    "# The float() function converts the specified value into a floating point number.\n",
    "\n",
    "x = float(3)\n",
    "print(x)\n",
    "\n",
    "a = float(\"3.500\")\n",
    "print(a)"
   ]
  },
  {
   "cell_type": "code",
   "execution_count": 40,
   "metadata": {},
   "outputs": [
    {
     "name": "stdout",
     "output_type": "stream",
     "text": [
      "5\n",
      "25500.000000%\n"
     ]
    }
   ],
   "source": [
    "# format()\n",
    "# The format() function formats a specified value into a specified format.\n",
    "# syntax = format(value, format)\n",
    "\n",
    "x = format(5, '-')\n",
    "print(x)\n",
    "\n",
    "b = format(255, '%')\n",
    "print(b)"
   ]
  },
  {
   "cell_type": "code",
   "execution_count": 41,
   "metadata": {},
   "outputs": [
    {
     "name": "stdout",
     "output_type": "stream",
     "text": [
      "frozenset({'cherry', 'banana', 'apple'})\n"
     ]
    },
    {
     "ename": "TypeError",
     "evalue": "'frozenset' object does not support item assignment",
     "output_type": "error",
     "traceback": [
      "\u001b[1;31m---------------------------------------------------------------------------\u001b[0m",
      "\u001b[1;31mTypeError\u001b[0m                                 Traceback (most recent call last)",
      "Cell \u001b[1;32mIn[41], line 8\u001b[0m\n\u001b[0;32m      6\u001b[0m x \u001b[38;5;241m=\u001b[39m \u001b[38;5;28mfrozenset\u001b[39m(mylist)\n\u001b[0;32m      7\u001b[0m \u001b[38;5;28mprint\u001b[39m(x)\n\u001b[1;32m----> 8\u001b[0m \u001b[43mx\u001b[49m\u001b[43m[\u001b[49m\u001b[38;5;241;43m1\u001b[39;49m\u001b[43m]\u001b[49m \u001b[38;5;241m=\u001b[39m \u001b[38;5;124m\"\u001b[39m\u001b[38;5;124morange\u001b[39m\u001b[38;5;124m\"\u001b[39m\n\u001b[0;32m      9\u001b[0m \u001b[38;5;28mprint\u001b[39m(x)\n",
      "\u001b[1;31mTypeError\u001b[0m: 'frozenset' object does not support item assignment"
     ]
    }
   ],
   "source": [
    "# frozenset()\n",
    "# The frozenset() function returns an unchangeable frozenset object (which is like a set object, only unchangeable).\n",
    "\n",
    "mylist = ['apple', 'banana', 'cherry']\n",
    "x = frozenset(mylist)\n",
    "print(x)\n",
    "\n",
    "x[1] = \"orange\"\n",
    "print(x)"
   ]
  },
  {
   "cell_type": "code",
   "execution_count": 42,
   "metadata": {},
   "outputs": [
    {
     "name": "stdout",
     "output_type": "stream",
     "text": [
      "33\n",
      "required parameter not in class\n"
     ]
    }
   ],
   "source": [
    "# getattr()\n",
    "# The getattr() function returns the value of the specified attribute from the specified object.\n",
    "# syntax = getattr(object, attribute, default)\n",
    "\n",
    "class person:\n",
    "\tname = \"kumar\"\n",
    "\tage = 33\n",
    "\tcountry = \"india\"\n",
    "\n",
    "\n",
    "x = getattr(person, 'age')\n",
    "b = getattr(person, 'page', 'required parameter not in class')\n",
    "print(person.age)\n",
    "print(b)"
   ]
  },
  {
   "cell_type": "code",
   "execution_count": 43,
   "metadata": {},
   "outputs": [
    {
     "name": "stdout",
     "output_type": "stream",
     "text": [
      "{'__name__': '__main__', '__doc__': 'Automatically created module for IPython interactive environment', '__package__': None, '__loader__': None, '__spec__': None, '__builtin__': <module 'builtins' (built-in)>, '__builtins__': <module 'builtins' (built-in)>, '_ih': ['', '# abs()\\n# The abs() function returns the absolute value of the specified number.\\n\\n\\nx = abs(-7.25)\\nprint(x)\\n\\na = abs(3+5j)\\nprint(a)', '# abs()\\n# The abs() function returns the absolute value of the specified number.\\n\\n\\nx = abs(-7.25)\\nprint(x)\\n\\na = abs(3+5j)\\nprint(a)', '# abs()\\n# The abs() function returns the absolute value of the specified number.\\n\\n\\nx = abs(-7.25)\\nprint(x)', 'a = abs(3+5j)\\nprint(a)', '# all()\\n# The all() function returns True if all items in an iterable are true, otherwise it returns False.\\n# If the iterable object is empty, the all() function also returns True.', 'mylist = [True, True, True]\\nx = all(mylist)\\nprint(x)', 'mytuple = (0, True, True)\\nc = all(mytuple)\\nprint(c)', 'mytuple = (0, True, True)\\nc = all(mytuple)\\nprint(c)', 'mytuple = (0, True, True)\\nc = all(mytuple)\\nprint(c)', 'myset = {0, 1, 0}\\nd = all(myset)\\nprint(d)', '# abs()\\n# The abs() function returns the absolute value of the specified number.\\n\\n\\nx = abs(-7.25)\\nprint(x)', 'a = abs(3+5j)\\nprint(a)', '# all()\\n# The all() function returns True if all items in an iterable are true, otherwise it returns False.\\n# If the iterable object is empty, the all() function also returns True.', 'mylist = [True, True, True]\\nx = all(mylist)\\nprint(x)', 'mylist1 = [0, 1, 1]\\nb = all(mylist1)\\nprint(b)', 'mytuple = (0, True, True)\\nc = all(mytuple)\\nprint(c)', '# bytes()\\n# The bytes() function returns a bytes object.\\n# It can convert objects into bytes objects, or create empty bytes object of the specified size.\\n# The difference between bytes() and bytearray() is that bytes() returns an object that cannot be modified, \\n# and bytearray() returns an object that can be modified.\\n# syntex = bytes(x, encoding, error)', '# callable()\\n# The callable() function returns True if the specified object is callable, otherwise it returns False.\\n\\ndef x():\\n\\ta = 5\\nprint(callable(x))', '# abs()\\n# The abs() function returns the absolute value of the specified number.\\n\\n\\nx = abs(-7.25)\\nprint(x)\\n\\na = abs(3+5j)\\nprint(a)', \"# all()\\n# The all() function returns True if all items in an iterable are true, otherwise it returns False.\\n# If the iterable object is empty, the all() function also returns True.\\n\\nmylist = [True, True, True]\\nx = all(mylist)\\nprint(x)\\n\\nmylist1 = [0, 1, 1]\\nb = all(mylist1)\\nprint(b)\\n\\nmytuple = (0, True, True)\\nc = all(mytuple)\\nprint(c)\\n\\nmyset = {0, 1, 0}\\nd = all(myset)\\nprint(d)\\n\\nmydict = {0:'Apple', 1:'orange'}\\ne = all(mydict)\\nprint(e)\", \"# any()\\n# The any() function returns True if any item in an iterable are true, otherwise it returns False.\\n# If the iterable object is empty, the any() function will return False.\\n\\nmylist = [False, True, False]\\na = any(mylist)\\nprint(a)\\n\\nmytuple = (0, 1, False)\\nb = any(mytuple)\\nprint(b)\\n\\nmyset = {0, 1, 0}\\nc = any(myset)\\nprint(c)\\n\\nmydict = {0 :'Apple', 1 :'orange'}\\nd = any(mydict)\\nprint(d)\", '# ascii()\\n# The ascii() function returns a readable version of any object (Strings, Tuples, Lists, etc).\\n# The ascii() function will replace any non-ascii characters with escape characters:\\n# å will be replaced with \\\\xe5.\\n\\nx = ascii(\"My name is Ståle\")\\nprint(x)', '# bin()\\n# The bin() function returns the binary version of a specified integer.\\n# The result will always start with the prefix 0b.\\n\\nx = bin(36)\\nprint(x)', '# bool()\\n# The bool() function returns the boolean value of a specified object.\\n# The object will always return True, unless:\\n# The object is empty, like [], (), {}\\n# The object is False\\n# The object is 0\\n# The object is None\\n\\nx = bool(1)\\nprint(x)', '# bytearray()\\n# The bytearray() function returns a bytearray object.\\n# It can convert objects into bytearray objects, or create empty bytearray object of the specified size.\\n# syntex = bytearray(x, encoding, error)\\n\\nx = bytearray(4)\\nprint(x)', 'a = bytearray(\"hai\", \\'utf-8\\')\\nprint(a)', '# bytes()\\n# The bytes() function returns a bytes object.\\n# It can convert objects into bytes objects, or create empty bytes object of the specified size.\\n# The difference between bytes() and bytearray() is that bytes() returns an object that cannot be modified, \\n# and bytearray() returns an object that can be modified.\\n# syntex = bytes(x, encoding, error)\\n\\nx = bytes(6)\\nprint(x)\\n\\na = bytes(\"hai\", \\'utf-8\\')\\nprint(a)', '# callable()\\n# The callable() function returns True if the specified object is callable, otherwise it returns False.\\n\\ndef x():\\n\\ta = 5\\nprint(callable(x))', '# classmethod()\\n# The classmethod() is an inbuilt function in Python, which returns a class method for a given function.;\\n# syntax = @classmethod\\n#\\t\\t\\t   def fun(cls, arg1, arg2, ...):\\n\\n\\nclass geeks:\\n\\tcourse = \\'DSA\\'\\n\\n\\tdef purchase(obj):\\n\\t\\tprint(\"Purchase Course : \" + obj.course)\\n\\ngeeks.purchase = classmethod(geeks.purchase)\\ngeeks.purchase()', '# compile()\\n# The compile() function returns the specified source as a code object, ready to be executed.\\n# syntex = compile(source, filename, mode, flag, dont_inherit, optimize)\\n\\nx = compile(\\'print(55)\\', \\'test\\', \\'eval\\')\\nexec(x)\\n\\na = compile(\\'print(55)\\\\nprint(88)\\', \\'test\\', \\'exec\\')\\nexec(a)\\n\\nb = compile(\"5 + 4\", \"<string>\", \"eval\")\\neval(b)', '# complex()\\n# The complex() function returns a complex number by specifying a real number and an imaginary number.\\n\\n\\nx = complex(3, 5)\\nprint(x)\\n\\na = complex(3+5j)\\nprint(a)', '# delattr()\\n# The delattr() function will delete the specified attribute from the specified object.\\n\\n\\nclass person:\\n\\tname = \"kumar\"\\n\\tage = 33\\n\\tcountry = \"india\"\\n\\nprint(person.age)\\ndelattr(person, \\'age\\')\\nprint(person.age)', '# dict()\\n# The dict() function creates a dictionary.\\n# A dictionary is a collection which is unordered, changeable and indexed.\\n\\nx = dict(name = \"John\", age = 36, country = \"Norway\")\\nprint(x)', '# dir()\\n# The dir() function returns all properties and methods of the specified object, without the values.\\n# This function will return all the properties and methods, even built-in properties which are default for all object.\\n\\nclass person:\\n\\tname = \"kumar\"\\n\\tage = 33\\n\\tcountry = \"india\"\\n\\nprint(dir(person))', '# divmod()\\n# The divmod() function returns a tuple containing the quotient  and the remainder when argument1 (dividend) \\n# is divided by argument2 (divisor).\\n\\nx = divmod(4256, 145)\\nprint(x)', \"# enumerate()\\n# The enumerate() function takes a collection (e.g. a tuple) and returns it as an enumerate object.\\n# The enumerate() function adds a counter as the key of the enumerate object.\\n\\nx = ('apple', 'banana', 'cherry')\\ny = enumerate(x)\\nprint(y)\", '# exec()\\n# The exec() function executes the specified Python code.\\n# The exec() function accepts large blocks of code, unlike the eval() function which only accepts a single expression\\n# syntex = exec(object, globals, locals)\\n\\nx = \\'name = \"John\"\\\\nprint(name)\\'\\nexec(x)', '# filter()\\n# The filter() function returns an iterator where the items are filtered through a function to test if the item is \\n# accepted or not.\\n# syntex = filter(function, iterable)\\n\\nages = [5, 12, 17, 18, 24, 32]\\n\\ndef myFunc(x):\\n    if x < 18:\\n        return False\\n    else:\\n        return True\\n\\nadults = filter(myFunc, ages)\\n\\nfor x in adults:\\n    print(x)', '# float()\\n# The float() function converts the specified value into a floating point number.\\n\\nx = float(3)\\nprint(x)\\n\\na = float(\"3.500\")\\nprint(a)', \"# format()\\n# The format() function formats a specified value into a specified format.\\n# syntax = format(value, format)\\n\\nx = format(5, '-')\\nprint(x)\\n\\nb = format(255, '%')\\nprint(b)\", '# frozenset()\\n# The frozenset() function returns an unchangeable frozenset object (which is like a set object, only unchangeable).\\n\\n\\nmylist = [\\'apple\\', \\'banana\\', \\'cherry\\']\\nx = frozenset(mylist)\\nprint(x)\\nx[1] = \"orange\"\\nprint(x)', '# getattr()\\n# The getattr() function returns the value of the specified attribute from the specified object.\\n# syntax = getattr(object, attribute, default)\\n\\nclass person:\\n\\tname = \"kumar\"\\n\\tage = 33\\n\\tcountry = \"india\"\\n\\n\\nx = getattr(person, \\'age\\')\\nb = getattr(person, \\'page\\', \\'required parameter not in class\\')\\nprint(person.age)\\nprint(b)', '# globals()\\n# The globals() function returns the global symbol table as a dictionary.\\n# A symbol table contains necessary information about the current program\\n\\nx = globals()\\nprint(x)\\n\\nx = globals()\\nprint(x[\"__file__\"])'], '_oh': {30: 9}, '_dh': [WindowsPath('c:/Users/STRATAZON/Downloads/learning codez/codez/Learning/Stratazon_Assignment')], 'In': ['', '# abs()\\n# The abs() function returns the absolute value of the specified number.\\n\\n\\nx = abs(-7.25)\\nprint(x)\\n\\na = abs(3+5j)\\nprint(a)', '# abs()\\n# The abs() function returns the absolute value of the specified number.\\n\\n\\nx = abs(-7.25)\\nprint(x)\\n\\na = abs(3+5j)\\nprint(a)', '# abs()\\n# The abs() function returns the absolute value of the specified number.\\n\\n\\nx = abs(-7.25)\\nprint(x)', 'a = abs(3+5j)\\nprint(a)', '# all()\\n# The all() function returns True if all items in an iterable are true, otherwise it returns False.\\n# If the iterable object is empty, the all() function also returns True.', 'mylist = [True, True, True]\\nx = all(mylist)\\nprint(x)', 'mytuple = (0, True, True)\\nc = all(mytuple)\\nprint(c)', 'mytuple = (0, True, True)\\nc = all(mytuple)\\nprint(c)', 'mytuple = (0, True, True)\\nc = all(mytuple)\\nprint(c)', 'myset = {0, 1, 0}\\nd = all(myset)\\nprint(d)', '# abs()\\n# The abs() function returns the absolute value of the specified number.\\n\\n\\nx = abs(-7.25)\\nprint(x)', 'a = abs(3+5j)\\nprint(a)', '# all()\\n# The all() function returns True if all items in an iterable are true, otherwise it returns False.\\n# If the iterable object is empty, the all() function also returns True.', 'mylist = [True, True, True]\\nx = all(mylist)\\nprint(x)', 'mylist1 = [0, 1, 1]\\nb = all(mylist1)\\nprint(b)', 'mytuple = (0, True, True)\\nc = all(mytuple)\\nprint(c)', '# bytes()\\n# The bytes() function returns a bytes object.\\n# It can convert objects into bytes objects, or create empty bytes object of the specified size.\\n# The difference between bytes() and bytearray() is that bytes() returns an object that cannot be modified, \\n# and bytearray() returns an object that can be modified.\\n# syntex = bytes(x, encoding, error)', '# callable()\\n# The callable() function returns True if the specified object is callable, otherwise it returns False.\\n\\ndef x():\\n\\ta = 5\\nprint(callable(x))', '# abs()\\n# The abs() function returns the absolute value of the specified number.\\n\\n\\nx = abs(-7.25)\\nprint(x)\\n\\na = abs(3+5j)\\nprint(a)', \"# all()\\n# The all() function returns True if all items in an iterable are true, otherwise it returns False.\\n# If the iterable object is empty, the all() function also returns True.\\n\\nmylist = [True, True, True]\\nx = all(mylist)\\nprint(x)\\n\\nmylist1 = [0, 1, 1]\\nb = all(mylist1)\\nprint(b)\\n\\nmytuple = (0, True, True)\\nc = all(mytuple)\\nprint(c)\\n\\nmyset = {0, 1, 0}\\nd = all(myset)\\nprint(d)\\n\\nmydict = {0:'Apple', 1:'orange'}\\ne = all(mydict)\\nprint(e)\", \"# any()\\n# The any() function returns True if any item in an iterable are true, otherwise it returns False.\\n# If the iterable object is empty, the any() function will return False.\\n\\nmylist = [False, True, False]\\na = any(mylist)\\nprint(a)\\n\\nmytuple = (0, 1, False)\\nb = any(mytuple)\\nprint(b)\\n\\nmyset = {0, 1, 0}\\nc = any(myset)\\nprint(c)\\n\\nmydict = {0 :'Apple', 1 :'orange'}\\nd = any(mydict)\\nprint(d)\", '# ascii()\\n# The ascii() function returns a readable version of any object (Strings, Tuples, Lists, etc).\\n# The ascii() function will replace any non-ascii characters with escape characters:\\n# å will be replaced with \\\\xe5.\\n\\nx = ascii(\"My name is Ståle\")\\nprint(x)', '# bin()\\n# The bin() function returns the binary version of a specified integer.\\n# The result will always start with the prefix 0b.\\n\\nx = bin(36)\\nprint(x)', '# bool()\\n# The bool() function returns the boolean value of a specified object.\\n# The object will always return True, unless:\\n# The object is empty, like [], (), {}\\n# The object is False\\n# The object is 0\\n# The object is None\\n\\nx = bool(1)\\nprint(x)', '# bytearray()\\n# The bytearray() function returns a bytearray object.\\n# It can convert objects into bytearray objects, or create empty bytearray object of the specified size.\\n# syntex = bytearray(x, encoding, error)\\n\\nx = bytearray(4)\\nprint(x)', 'a = bytearray(\"hai\", \\'utf-8\\')\\nprint(a)', '# bytes()\\n# The bytes() function returns a bytes object.\\n# It can convert objects into bytes objects, or create empty bytes object of the specified size.\\n# The difference between bytes() and bytearray() is that bytes() returns an object that cannot be modified, \\n# and bytearray() returns an object that can be modified.\\n# syntex = bytes(x, encoding, error)\\n\\nx = bytes(6)\\nprint(x)\\n\\na = bytes(\"hai\", \\'utf-8\\')\\nprint(a)', '# callable()\\n# The callable() function returns True if the specified object is callable, otherwise it returns False.\\n\\ndef x():\\n\\ta = 5\\nprint(callable(x))', '# classmethod()\\n# The classmethod() is an inbuilt function in Python, which returns a class method for a given function.;\\n# syntax = @classmethod\\n#\\t\\t\\t   def fun(cls, arg1, arg2, ...):\\n\\n\\nclass geeks:\\n\\tcourse = \\'DSA\\'\\n\\n\\tdef purchase(obj):\\n\\t\\tprint(\"Purchase Course : \" + obj.course)\\n\\ngeeks.purchase = classmethod(geeks.purchase)\\ngeeks.purchase()', '# compile()\\n# The compile() function returns the specified source as a code object, ready to be executed.\\n# syntex = compile(source, filename, mode, flag, dont_inherit, optimize)\\n\\nx = compile(\\'print(55)\\', \\'test\\', \\'eval\\')\\nexec(x)\\n\\na = compile(\\'print(55)\\\\nprint(88)\\', \\'test\\', \\'exec\\')\\nexec(a)\\n\\nb = compile(\"5 + 4\", \"<string>\", \"eval\")\\neval(b)', '# complex()\\n# The complex() function returns a complex number by specifying a real number and an imaginary number.\\n\\n\\nx = complex(3, 5)\\nprint(x)\\n\\na = complex(3+5j)\\nprint(a)', '# delattr()\\n# The delattr() function will delete the specified attribute from the specified object.\\n\\n\\nclass person:\\n\\tname = \"kumar\"\\n\\tage = 33\\n\\tcountry = \"india\"\\n\\nprint(person.age)\\ndelattr(person, \\'age\\')\\nprint(person.age)', '# dict()\\n# The dict() function creates a dictionary.\\n# A dictionary is a collection which is unordered, changeable and indexed.\\n\\nx = dict(name = \"John\", age = 36, country = \"Norway\")\\nprint(x)', '# dir()\\n# The dir() function returns all properties and methods of the specified object, without the values.\\n# This function will return all the properties and methods, even built-in properties which are default for all object.\\n\\nclass person:\\n\\tname = \"kumar\"\\n\\tage = 33\\n\\tcountry = \"india\"\\n\\nprint(dir(person))', '# divmod()\\n# The divmod() function returns a tuple containing the quotient  and the remainder when argument1 (dividend) \\n# is divided by argument2 (divisor).\\n\\nx = divmod(4256, 145)\\nprint(x)', \"# enumerate()\\n# The enumerate() function takes a collection (e.g. a tuple) and returns it as an enumerate object.\\n# The enumerate() function adds a counter as the key of the enumerate object.\\n\\nx = ('apple', 'banana', 'cherry')\\ny = enumerate(x)\\nprint(y)\", '# exec()\\n# The exec() function executes the specified Python code.\\n# The exec() function accepts large blocks of code, unlike the eval() function which only accepts a single expression\\n# syntex = exec(object, globals, locals)\\n\\nx = \\'name = \"John\"\\\\nprint(name)\\'\\nexec(x)', '# filter()\\n# The filter() function returns an iterator where the items are filtered through a function to test if the item is \\n# accepted or not.\\n# syntex = filter(function, iterable)\\n\\nages = [5, 12, 17, 18, 24, 32]\\n\\ndef myFunc(x):\\n    if x < 18:\\n        return False\\n    else:\\n        return True\\n\\nadults = filter(myFunc, ages)\\n\\nfor x in adults:\\n    print(x)', '# float()\\n# The float() function converts the specified value into a floating point number.\\n\\nx = float(3)\\nprint(x)\\n\\na = float(\"3.500\")\\nprint(a)', \"# format()\\n# The format() function formats a specified value into a specified format.\\n# syntax = format(value, format)\\n\\nx = format(5, '-')\\nprint(x)\\n\\nb = format(255, '%')\\nprint(b)\", '# frozenset()\\n# The frozenset() function returns an unchangeable frozenset object (which is like a set object, only unchangeable).\\n\\n\\nmylist = [\\'apple\\', \\'banana\\', \\'cherry\\']\\nx = frozenset(mylist)\\nprint(x)\\nx[1] = \"orange\"\\nprint(x)', '# getattr()\\n# The getattr() function returns the value of the specified attribute from the specified object.\\n# syntax = getattr(object, attribute, default)\\n\\nclass person:\\n\\tname = \"kumar\"\\n\\tage = 33\\n\\tcountry = \"india\"\\n\\n\\nx = getattr(person, \\'age\\')\\nb = getattr(person, \\'page\\', \\'required parameter not in class\\')\\nprint(person.age)\\nprint(b)', '# globals()\\n# The globals() function returns the global symbol table as a dictionary.\\n# A symbol table contains necessary information about the current program\\n\\nx = globals()\\nprint(x)\\n\\nx = globals()\\nprint(x[\"__file__\"])'], 'Out': {30: 9}, 'get_ipython': <bound method InteractiveShell.get_ipython of <ipykernel.zmqshell.ZMQInteractiveShell object at 0x000001CFF9F93350>>, 'exit': <IPython.core.autocall.ZMQExitAutocall object at 0x000001CFF9FB7110>, 'quit': <IPython.core.autocall.ZMQExitAutocall object at 0x000001CFF9FB7110>, 'open': <function open at 0x000001CFF7C26A20>, '_': 9, '__': '', '___': '', '__vsc_ipynb_file__': 'c:\\\\Users\\\\STRATAZON\\\\Downloads\\\\learning codez\\\\codez\\\\Learning\\\\Stratazon_Assignment\\\\built_in_function.ipynb', '_i': '# getattr()\\n# The getattr() function returns the value of the specified attribute from the specified object.\\n# syntax = getattr(object, attribute, default)\\n\\nclass person:\\n\\tname = \"kumar\"\\n\\tage = 33\\n\\tcountry = \"india\"\\n\\n\\nx = getattr(person, \\'age\\')\\nb = getattr(person, \\'page\\', \\'required parameter not in class\\')\\nprint(person.age)\\nprint(b)', '_ii': '# frozenset()\\n# The frozenset() function returns an unchangeable frozenset object (which is like a set object, only unchangeable).\\n\\n\\nmylist = [\\'apple\\', \\'banana\\', \\'cherry\\']\\nx = frozenset(mylist)\\nprint(x)\\nx[1] = \"orange\"\\nprint(x)', '_iii': \"# format()\\n# The format() function formats a specified value into a specified format.\\n# syntax = format(value, format)\\n\\nx = format(5, '-')\\nprint(x)\\n\\nb = format(255, '%')\\nprint(b)\", '_i1': '# abs()\\n# The abs() function returns the absolute value of the specified number.\\n\\n\\nx = abs(-7.25)\\nprint(x)\\n\\na = abs(3+5j)\\nprint(a)', 'x': {...}, 'a': 3.5, 'builtins': <module 'builtins' (built-in)>, 'ipykernel': <module 'ipykernel' from 'c:\\\\Users\\\\STRATAZON\\\\AppData\\\\Local\\\\Programs\\\\Python\\\\Python311\\\\Lib\\\\site-packages\\\\ipykernel\\\\__init__.py'>, 'debugpy': <module 'debugpy' from 'c:\\\\Users\\\\STRATAZON\\\\AppData\\\\Local\\\\Programs\\\\Python\\\\Python311\\\\Lib\\\\site-packages\\\\debugpy\\\\__init__.py'>, '_i2': '# abs()\\n# The abs() function returns the absolute value of the specified number.\\n\\n\\nx = abs(-7.25)\\nprint(x)\\n\\na = abs(3+5j)\\nprint(a)', 'file': 'C:\\\\Users\\\\STRATAZON\\\\AppData\\\\Local\\\\Temp\\\\ipykernel_12536\\\\1003451630.py', '_i3': '# abs()\\n# The abs() function returns the absolute value of the specified number.\\n\\n\\nx = abs(-7.25)\\nprint(x)', '_i4': 'a = abs(3+5j)\\nprint(a)', '_i5': '# all()\\n# The all() function returns True if all items in an iterable are true, otherwise it returns False.\\n# If the iterable object is empty, the all() function also returns True.', '_i6': 'mylist = [True, True, True]\\nx = all(mylist)\\nprint(x)', 'mylist': ['apple', 'banana', 'cherry'], '_i7': 'mytuple = (0, True, True)\\nc = all(mytuple)\\nprint(c)', 'mytuple': (0, 1, False), 'c': True, '_i8': 'mytuple = (0, True, True)\\nc = all(mytuple)\\nprint(c)', '_i9': 'mytuple = (0, True, True)\\nc = all(mytuple)\\nprint(c)', '_i10': 'myset = {0, 1, 0}\\nd = all(myset)\\nprint(d)', 'myset': {0, 1}, 'd': True, '_i11': '# abs()\\n# The abs() function returns the absolute value of the specified number.\\n\\n\\nx = abs(-7.25)\\nprint(x)', '_i12': 'a = abs(3+5j)\\nprint(a)', '_i13': '# all()\\n# The all() function returns True if all items in an iterable are true, otherwise it returns False.\\n# If the iterable object is empty, the all() function also returns True.', '_i14': 'mylist = [True, True, True]\\nx = all(mylist)\\nprint(x)', '_i15': 'mylist1 = [0, 1, 1]\\nb = all(mylist1)\\nprint(b)', 'mylist1': [0, 1, 1], 'b': 'required parameter not in class', '_i16': 'mytuple = (0, True, True)\\nc = all(mytuple)\\nprint(c)', '_i17': '# bytes()\\n# The bytes() function returns a bytes object.\\n# It can convert objects into bytes objects, or create empty bytes object of the specified size.\\n# The difference between bytes() and bytearray() is that bytes() returns an object that cannot be modified, \\n# and bytearray() returns an object that can be modified.\\n# syntex = bytes(x, encoding, error)', '_i18': '# callable()\\n# The callable() function returns True if the specified object is callable, otherwise it returns False.\\n\\ndef x():\\n\\ta = 5\\nprint(callable(x))', '_i19': '# abs()\\n# The abs() function returns the absolute value of the specified number.\\n\\n\\nx = abs(-7.25)\\nprint(x)\\n\\na = abs(3+5j)\\nprint(a)', '_i20': \"# all()\\n# The all() function returns True if all items in an iterable are true, otherwise it returns False.\\n# If the iterable object is empty, the all() function also returns True.\\n\\nmylist = [True, True, True]\\nx = all(mylist)\\nprint(x)\\n\\nmylist1 = [0, 1, 1]\\nb = all(mylist1)\\nprint(b)\\n\\nmytuple = (0, True, True)\\nc = all(mytuple)\\nprint(c)\\n\\nmyset = {0, 1, 0}\\nd = all(myset)\\nprint(d)\\n\\nmydict = {0:'Apple', 1:'orange'}\\ne = all(mydict)\\nprint(e)\", 'mydict': {0: 'Apple', 1: 'orange'}, 'e': False, '_i21': \"# any()\\n# The any() function returns True if any item in an iterable are true, otherwise it returns False.\\n# If the iterable object is empty, the any() function will return False.\\n\\nmylist = [False, True, False]\\na = any(mylist)\\nprint(a)\\n\\nmytuple = (0, 1, False)\\nb = any(mytuple)\\nprint(b)\\n\\nmyset = {0, 1, 0}\\nc = any(myset)\\nprint(c)\\n\\nmydict = {0 :'Apple', 1 :'orange'}\\nd = any(mydict)\\nprint(d)\", '_i22': '# ascii()\\n# The ascii() function returns a readable version of any object (Strings, Tuples, Lists, etc).\\n# The ascii() function will replace any non-ascii characters with escape characters:\\n# å will be replaced with \\\\xe5.\\n\\nx = ascii(\"My name is Ståle\")\\nprint(x)', '_i23': '# bin()\\n# The bin() function returns the binary version of a specified integer.\\n# The result will always start with the prefix 0b.\\n\\nx = bin(36)\\nprint(x)', '_i24': '# bool()\\n# The bool() function returns the boolean value of a specified object.\\n# The object will always return True, unless:\\n# The object is empty, like [], (), {}\\n# The object is False\\n# The object is 0\\n# The object is None\\n\\nx = bool(1)\\nprint(x)', '_i25': '# bytearray()\\n# The bytearray() function returns a bytearray object.\\n# It can convert objects into bytearray objects, or create empty bytearray object of the specified size.\\n# syntex = bytearray(x, encoding, error)\\n\\nx = bytearray(4)\\nprint(x)', '_i26': 'a = bytearray(\"hai\", \\'utf-8\\')\\nprint(a)', '_i27': '# bytes()\\n# The bytes() function returns a bytes object.\\n# It can convert objects into bytes objects, or create empty bytes object of the specified size.\\n# The difference between bytes() and bytearray() is that bytes() returns an object that cannot be modified, \\n# and bytearray() returns an object that can be modified.\\n# syntex = bytes(x, encoding, error)\\n\\nx = bytes(6)\\nprint(x)\\n\\na = bytes(\"hai\", \\'utf-8\\')\\nprint(a)', '_i28': '# callable()\\n# The callable() function returns True if the specified object is callable, otherwise it returns False.\\n\\ndef x():\\n\\ta = 5\\nprint(callable(x))', '_i29': '# classmethod()\\n# The classmethod() is an inbuilt function in Python, which returns a class method for a given function.;\\n# syntax = @classmethod\\n#\\t\\t\\t   def fun(cls, arg1, arg2, ...):\\n\\n\\nclass geeks:\\n\\tcourse = \\'DSA\\'\\n\\n\\tdef purchase(obj):\\n\\t\\tprint(\"Purchase Course : \" + obj.course)\\n\\ngeeks.purchase = classmethod(geeks.purchase)\\ngeeks.purchase()', 'geeks': <class '__main__.geeks'>, '_i30': '# compile()\\n# The compile() function returns the specified source as a code object, ready to be executed.\\n# syntex = compile(source, filename, mode, flag, dont_inherit, optimize)\\n\\nx = compile(\\'print(55)\\', \\'test\\', \\'eval\\')\\nexec(x)\\n\\na = compile(\\'print(55)\\\\nprint(88)\\', \\'test\\', \\'exec\\')\\nexec(a)\\n\\nb = compile(\"5 + 4\", \"<string>\", \"eval\")\\neval(b)', '_30': 9, '_i31': '# complex()\\n# The complex() function returns a complex number by specifying a real number and an imaginary number.\\n\\n\\nx = complex(3, 5)\\nprint(x)\\n\\na = complex(3+5j)\\nprint(a)', '_i32': '# delattr()\\n# The delattr() function will delete the specified attribute from the specified object.\\n\\n\\nclass person:\\n\\tname = \"kumar\"\\n\\tage = 33\\n\\tcountry = \"india\"\\n\\nprint(person.age)\\ndelattr(person, \\'age\\')\\nprint(person.age)', 'person': <class '__main__.person'>, '_i33': '# dict()\\n# The dict() function creates a dictionary.\\n# A dictionary is a collection which is unordered, changeable and indexed.\\n\\nx = dict(name = \"John\", age = 36, country = \"Norway\")\\nprint(x)', '_i34': '# dir()\\n# The dir() function returns all properties and methods of the specified object, without the values.\\n# This function will return all the properties and methods, even built-in properties which are default for all object.\\n\\nclass person:\\n\\tname = \"kumar\"\\n\\tage = 33\\n\\tcountry = \"india\"\\n\\nprint(dir(person))', '_i35': '# divmod()\\n# The divmod() function returns a tuple containing the quotient  and the remainder when argument1 (dividend) \\n# is divided by argument2 (divisor).\\n\\nx = divmod(4256, 145)\\nprint(x)', '_i36': \"# enumerate()\\n# The enumerate() function takes a collection (e.g. a tuple) and returns it as an enumerate object.\\n# The enumerate() function adds a counter as the key of the enumerate object.\\n\\nx = ('apple', 'banana', 'cherry')\\ny = enumerate(x)\\nprint(y)\", 'y': <enumerate object at 0x000001CFFBC4D4E0>, '_i37': '# exec()\\n# The exec() function executes the specified Python code.\\n# The exec() function accepts large blocks of code, unlike the eval() function which only accepts a single expression\\n# syntex = exec(object, globals, locals)\\n\\nx = \\'name = \"John\"\\\\nprint(name)\\'\\nexec(x)', 'name': 'John', '_i38': '# filter()\\n# The filter() function returns an iterator where the items are filtered through a function to test if the item is \\n# accepted or not.\\n# syntex = filter(function, iterable)\\n\\nages = [5, 12, 17, 18, 24, 32]\\n\\ndef myFunc(x):\\n    if x < 18:\\n        return False\\n    else:\\n        return True\\n\\nadults = filter(myFunc, ages)\\n\\nfor x in adults:\\n    print(x)', 'ages': [5, 12, 17, 18, 24, 32], 'myFunc': <function myFunc at 0x000001CFFBC5CEA0>, 'adults': <filter object at 0x000001CFFBBF52D0>, '_i39': '# float()\\n# The float() function converts the specified value into a floating point number.\\n\\nx = float(3)\\nprint(x)\\n\\na = float(\"3.500\")\\nprint(a)', '_i40': \"# format()\\n# The format() function formats a specified value into a specified format.\\n# syntax = format(value, format)\\n\\nx = format(5, '-')\\nprint(x)\\n\\nb = format(255, '%')\\nprint(b)\", '_i41': '# frozenset()\\n# The frozenset() function returns an unchangeable frozenset object (which is like a set object, only unchangeable).\\n\\n\\nmylist = [\\'apple\\', \\'banana\\', \\'cherry\\']\\nx = frozenset(mylist)\\nprint(x)\\nx[1] = \"orange\"\\nprint(x)', '_i42': '# getattr()\\n# The getattr() function returns the value of the specified attribute from the specified object.\\n# syntax = getattr(object, attribute, default)\\n\\nclass person:\\n\\tname = \"kumar\"\\n\\tage = 33\\n\\tcountry = \"india\"\\n\\n\\nx = getattr(person, \\'age\\')\\nb = getattr(person, \\'page\\', \\'required parameter not in class\\')\\nprint(person.age)\\nprint(b)', '_i43': '# globals()\\n# The globals() function returns the global symbol table as a dictionary.\\n# A symbol table contains necessary information about the current program\\n\\nx = globals()\\nprint(x)\\n\\nx = globals()\\nprint(x[\"__file__\"])'}\n"
     ]
    },
    {
     "ename": "KeyError",
     "evalue": "'__file__'",
     "output_type": "error",
     "traceback": [
      "\u001b[1;31m---------------------------------------------------------------------------\u001b[0m",
      "\u001b[1;31mKeyError\u001b[0m                                  Traceback (most recent call last)",
      "Cell \u001b[1;32mIn[43], line 9\u001b[0m\n\u001b[0;32m      6\u001b[0m \u001b[38;5;28mprint\u001b[39m(x)\n\u001b[0;32m      8\u001b[0m x \u001b[38;5;241m=\u001b[39m \u001b[38;5;28mglobals\u001b[39m()\n\u001b[1;32m----> 9\u001b[0m \u001b[38;5;28mprint\u001b[39m(\u001b[43mx\u001b[49m\u001b[43m[\u001b[49m\u001b[38;5;124;43m\"\u001b[39;49m\u001b[38;5;124;43m__file__\u001b[39;49m\u001b[38;5;124;43m\"\u001b[39;49m\u001b[43m]\u001b[49m)\n",
      "\u001b[1;31mKeyError\u001b[0m: '__file__'"
     ]
    }
   ],
   "source": [
    "# globals()\n",
    "# The globals() function returns the global symbol table as a dictionary.\n",
    "# A symbol table contains necessary information about the current program\n",
    "\n",
    "x = globals()\n",
    "print(x)\n",
    "\n",
    "x = globals()\n",
    "print(x[\"__file__\"])"
   ]
  },
  {
   "cell_type": "code",
   "execution_count": 44,
   "metadata": {},
   "outputs": [
    {
     "name": "stdout",
     "output_type": "stream",
     "text": [
      "True\n"
     ]
    }
   ],
   "source": [
    "# hasattr()\n",
    "# The hasattr() function returns True if the specified object has the specified attribute, otherwise False.\n",
    "# syntax = hasattr(object, attribute)\n",
    "\n",
    "class Person:\n",
    "    name = \"John\"\n",
    "    age = 36\n",
    "    country = \"Norway\"\n",
    "\n",
    "x = hasattr(Person, 'age')\n",
    "print(x)"
   ]
  },
  {
   "cell_type": "code",
   "execution_count": null,
   "metadata": {},
   "outputs": [],
   "source": [
    "# help()\n",
    "# The Python help function is used to display the documentation of modules, functions, classes, keywords, etc. \n",
    "\n",
    "\"\"\"\n",
    "help(print)\n",
    "\n",
    "class Helper:\n",
    "\tdef __init__(self):\n",
    "\t\t'''the helper class is initialized'''\n",
    "\n",
    "\tdef print_help(self):\n",
    "\t\t'''Returns the help description'''\n",
    "\t\tprint('helper description')\n",
    "\n",
    "help(Helper)\n",
    "help(Helper.print_help)\n",
    "\"\"\""
   ]
  },
  {
   "cell_type": "code",
   "execution_count": null,
   "metadata": {},
   "outputs": [],
   "source": [
    "# hex()\n",
    "# The hex() function converts the specified number into a hexadecimal value.\n",
    "# The returned string always starts with the prefix 0x.\n",
    "\n",
    "\n",
    "x = hex(255)\n",
    "print(x)"
   ]
  },
  {
   "cell_type": "code",
   "execution_count": null,
   "metadata": {},
   "outputs": [],
   "source": [
    "# id()\n",
    "# The id() function returns a unique id for the specified object.\n",
    "# All objects in Python has its own unique id.\n",
    "# The id is assigned to the object when it is created.\n",
    "# The id is the object's memory address, and will be different for each time you run the program. \n",
    "# (except for some object that has a constant unique id, like integers from -5 to 256)\n",
    "\n",
    "\n",
    "x = ('apple', 'banana', 'cherry')\n",
    "y = id(x)\n",
    "print(y)\n",
    "\n",
    "print(id(5))\n",
    "print(id(5))\n",
    "print(id(27))"
   ]
  },
  {
   "cell_type": "code",
   "execution_count": null,
   "metadata": {},
   "outputs": [],
   "source": [
    "# input()\n",
    "# The input() function allows user input.\n",
    "\n",
    "\n",
    "print('Enter your name:')\n",
    "x = input()\n",
    "print('Hello, ' + x)\n",
    "\n",
    "x = input('Enter your name:')\n",
    "print('Hello, ' + x)"
   ]
  },
  {
   "cell_type": "code",
   "execution_count": null,
   "metadata": {},
   "outputs": [],
   "source": [
    "# int()\n",
    "# The int() function converts the specified value into an integer number.\n",
    "\n",
    "\n",
    "x = int(3.5)\n",
    "print(x)\n",
    "\n",
    "a = int(\"12\")\n",
    "print(a)"
   ]
  },
  {
   "cell_type": "code",
   "execution_count": null,
   "metadata": {},
   "outputs": [],
   "source": [
    "# isinstance()\n",
    "# The isinstance() function returns True if the specified object is of the specified type, otherwise False.\n",
    "# If the type parameter is a tuple, this function will return True if the object is one of the types in the tuple.\n",
    "# syntax = isinstance(object, type)\n",
    "\n",
    "\n",
    "x = isinstance(5, int)\n",
    "print(x)\n",
    "\n",
    "a = isinstance(\"Hello\", (float, int, str, list, dict, tuple))\n",
    "print(a)\n",
    "\n",
    "class myObj:\n",
    "  name = \"John\"\n",
    "\n",
    "y = myObj()\n",
    "\n",
    "x = isinstance(y, myObj)\n",
    "print(x)"
   ]
  },
  {
   "cell_type": "code",
   "execution_count": null,
   "metadata": {},
   "outputs": [],
   "source": [
    "# issubclass()\n",
    "# The issubclass() function returns True if the specified object is a subclass of the specified object, otherwise False.\n",
    "# syntax = issubclass(object, subclass)\n",
    "\n",
    "\n",
    "class myAge:\n",
    "  age = 36\n",
    "\n",
    "class myObj(myAge):\n",
    "  name = \"John\"\n",
    "  age = myAge\n",
    "\n",
    "x = issubclass(myObj, myAge)\n",
    "print(x)"
   ]
  },
  {
   "cell_type": "code",
   "execution_count": null,
   "metadata": {},
   "outputs": [],
   "source": [
    "# iter()\n",
    "# The iter() function returns an iterator object\n",
    "# syntax = iter(object, sentinel)\n",
    "\n",
    "\n",
    "x = iter([\"apple\", \"banana\", \"cherry\"])\n",
    "print(next(x))\n",
    "print(next(x))\n",
    "print(next(x))"
   ]
  },
  {
   "cell_type": "code",
   "execution_count": null,
   "metadata": {},
   "outputs": [],
   "source": [
    "# len()\n",
    "# The len() function returns the number of items in an object.\n",
    "# When the object is a string, the len() function returns the number of characters in the string.\n",
    "\n",
    "\n",
    "mylist = [\"apple\", \"banana\", \"cherry\"]\n",
    "x = len(mylist)\n",
    "print(x)\n",
    "\n",
    "mylist = \"Hello\"\n",
    "y = len(mylist)\n",
    "print(y)"
   ]
  },
  {
   "cell_type": "code",
   "execution_count": null,
   "metadata": {},
   "outputs": [],
   "source": [
    "# list()\n",
    "# The list() function creates a list object.\n",
    "# A list object is a collection which is ordered and changeable.\n",
    "\n",
    "\n",
    "x = list(('apple', 'banana', 'cherry'))\n",
    "print(x)"
   ]
  },
  {
   "cell_type": "code",
   "execution_count": null,
   "metadata": {},
   "outputs": [],
   "source": [
    "# locals()\n",
    "# The locals() function returns the local symbol table as a dictionary.\n",
    "# A symbol table contains necessary information about the current program\n",
    "\n",
    "\n",
    "x = locals()\n",
    "print(x)\n",
    "\n",
    "x = locals()\n",
    "print(x[\"__file__\"])"
   ]
  },
  {
   "cell_type": "code",
   "execution_count": 45,
   "metadata": {},
   "outputs": [
    {
     "name": "stdout",
     "output_type": "stream",
     "text": [
      "<map object at 0x000001CFFBC384C0>\n",
      "<map object at 0x000001CFFBC39B10>\n"
     ]
    }
   ],
   "source": [
    "# map()\n",
    "# The map() function executes a specified function for each item in an iterable. The item is sent to \n",
    "# the function as a parameter.\n",
    "# syntax = map(function, iterables)\n",
    "\n",
    "\n",
    "def myfunc(n):\n",
    "    return len(n)\n",
    "\n",
    "x = map(myfunc, ('apple', 'banana', 'cherry'))\n",
    "print(x)\n",
    "\n",
    "def myfunc(a, b):\n",
    "    return a + b\n",
    "\n",
    "y = map(myfunc, ('apple', 'banana', 'cherry'), ('orange', 'lemon', 'pineapple'))\n",
    "print(y)\n",
    "\n",
    "# Return double of n\n",
    "def addition(n):\n",
    "    return n + n\n",
    " \n",
    "# We double all numbers using map()\n",
    "numbers = (1, 2, 3, 4)\n",
    "result = map(addition, numbers)\n",
    "print(list(result))"
   ]
  },
  {
   "cell_type": "code",
   "execution_count": null,
   "metadata": {},
   "outputs": [],
   "source": [
    "# max()\n",
    "# The max() function returns the item with the highest value, or the item with the highest value in an iterable.\n",
    "# If the values are strings, an alphabetically comparison is done.\n",
    "\n",
    "\n",
    "x = max(5, 10)\n",
    "print(x)\n",
    "\n",
    "y = max(\"Mike\", \"John\", \"Vicky\")\n",
    "print(y)\n",
    "\n",
    "a = (1, 5, 3, 9)\n",
    "z = max(a)\n",
    "print(z)"
   ]
  },
  {
   "cell_type": "code",
   "execution_count": null,
   "metadata": {},
   "outputs": [],
   "source": [
    "# memoryview()\n",
    "# The memoryview() function returns a memory view object from a specified object.\n",
    "\n",
    "\n",
    "x = memoryview(b\"Hello\")\n",
    "print(x)\n",
    "\n",
    "#return the Unicode of the first character\n",
    "print(x[0])\n",
    "\n",
    "#return the Unicode of the second character\n",
    "print(x[1])"
   ]
  },
  {
   "cell_type": "code",
   "execution_count": null,
   "metadata": {},
   "outputs": [],
   "source": [
    "# min()\n",
    "# The min() function returns the item with the lowest value, or the item with the lowest value in an iterable.\n",
    "# If the values are strings, an alphabetically comparison is done.\n",
    "\n",
    "\n",
    "x = min(5, 10)\n",
    "print(x)\n",
    "\n",
    "y = min(\"Mike\", \"John\", \"Vicky\")\n",
    "print(y)\n",
    "\n",
    "a = (1, 5, 3, 9)\n",
    "z = min(a)\n",
    "print(z)"
   ]
  },
  {
   "cell_type": "code",
   "execution_count": null,
   "metadata": {},
   "outputs": [],
   "source": [
    "# next()\n",
    "# The next() function returns the next item in an iterator.\n",
    "# You can add a default return value, to return if the iterable has reached to its end.\n",
    "\n",
    "\n",
    "mylist = iter([\"apple\", \"banana\", \"cherry\"])\n",
    "x = next(mylist)\n",
    "print(x)\n",
    "x = next(mylist)\n",
    "print(x)\n",
    "x = next(mylist)\n",
    "print(x)\n",
    "\n",
    "mylist = iter([\"apple\", \"banana\", \"cherry\"])\n",
    "z = next(mylist, \"orange\")\n",
    "print(z)\n",
    "z = next(mylist, \"orange\")\n",
    "print(z)\n",
    "z = next(mylist, \"orange\")\n",
    "print(z)\n",
    "z = next(mylist, \"orange\")\n",
    "print(z)"
   ]
  },
  {
   "cell_type": "code",
   "execution_count": null,
   "metadata": {},
   "outputs": [],
   "source": [
    "# object()\n",
    "# The object() function returns an empty object.\n",
    "# You cannot add new properties or methods to this object.\n",
    "# This object is the base for all classes, it holds the built-in properties and methods which are default for all classes.\n",
    "\n",
    "\n",
    "x = object()\n",
    "print(x)"
   ]
  },
  {
   "cell_type": "code",
   "execution_count": null,
   "metadata": {},
   "outputs": [],
   "source": [
    "# oct()\n",
    "# The oct() function converts an integer into an octal string.\n",
    "# Octal strings in Python are prefixed with 0o.\n",
    "\n",
    "\n",
    "x = oct(12)\n",
    "print(x)"
   ]
  },
  {
   "cell_type": "code",
   "execution_count": null,
   "metadata": {},
   "outputs": [],
   "source": [
    "# open()\n",
    "# The open() function opens a file, and returns it as a file object.\n",
    "# syntax = \topen(file, mode) \"r\" - Read, \"a\" - Append, \"w\" - write, \"x\" - Create, \"t\" - text, \"b\" - binary\n",
    "\n",
    "\n",
    "f = open(\"filename.txt\", 'r')\n",
    "print(f.read())"
   ]
  },
  {
   "cell_type": "code",
   "execution_count": null,
   "metadata": {},
   "outputs": [],
   "source": [
    "# ord()\n",
    "# The ord() function returns the number representing the unicode code of a specified character.\n",
    "\n",
    "\n",
    "x = ord(\"a\")\n",
    "print(x)"
   ]
  },
  {
   "cell_type": "code",
   "execution_count": null,
   "metadata": {},
   "outputs": [],
   "source": [
    "# pow()\n",
    "# The pow() function returns the value of x to the power of y (xy).\n",
    "# syntax = pow(x, y, z), here x = base, y = exponent, z = modulus\n",
    "\n",
    "\n",
    "x = pow(4, 3)\n",
    "print(x)\n",
    "\n",
    "z = pow(4, 3, 5)\n",
    "print(z)"
   ]
  },
  {
   "cell_type": "code",
   "execution_count": null,
   "metadata": {},
   "outputs": [],
   "source": [
    "# print()\n",
    "# The print() function prints the specified message to the screen, or other standard output device.\n",
    "# The message can be a string, or any other object, the object will be converted into a string before written to the screen.\n",
    "\n",
    "\n",
    "print(\"Hello World\")"
   ]
  },
  {
   "cell_type": "code",
   "execution_count": null,
   "metadata": {},
   "outputs": [],
   "source": [
    "# property()\n",
    "# Python property() function returns the object of the property class and it is used to create property of a class. \n",
    "# Syntax = property(fget, fset, fdel, doc)\n",
    "\n",
    "\n",
    "# Python program to explain property() function\n",
    "# Alphabet class\n",
    "\n",
    "class Alphabet:\n",
    "    def __init__(self, value):\n",
    "        self._value = value\n",
    "\n",
    "    # getting the values\n",
    "    def getValue(self):\n",
    "        print('Getting value')\n",
    "        return self._value\n",
    "\n",
    "    # setting the values\n",
    "    def setValue(self, value):\n",
    "        print('Setting value to ' + value)\n",
    "        self._value = value\n",
    "\n",
    "    # deleting the values\n",
    "    def delValue(self):\n",
    "        print('Deleting value')\n",
    "        del self._value\n",
    "\n",
    "    value = property(getValue, setValue, delValue, )\n",
    "\n",
    "# passing the value\n",
    "x = Alphabet('GeeksforGeeks')\n",
    "print(x.value)\n",
    "\n",
    "x.value = 'GfG'\n",
    "\n",
    "del x.value"
   ]
  },
  {
   "cell_type": "code",
   "execution_count": null,
   "metadata": {},
   "outputs": [],
   "source": [
    "# reversed()\n",
    "# The reversed() function returns a reversed iterator object.\n",
    "\n",
    "\n",
    "alph = [\"a\", \"b\", \"c\", \"d\"]\n",
    "ralph = reversed(alph)\n",
    "\n",
    "for x in ralph:\n",
    "    print(x)"
   ]
  },
  {
   "cell_type": "code",
   "execution_count": null,
   "metadata": {},
   "outputs": [],
   "source": [
    "# round()\n",
    "# The round() function returns a floating point number that is a rounded version of the specified number, with the specified number of decimals.\n",
    "# The default number of decimals is 0, meaning that the function will return the nearest integer.\n",
    "# syntax = round(number, digits)\n",
    "\n",
    "\n",
    "x = round(5.76543, 2)\n",
    "print(x)\n",
    "\n",
    "y = round(5.76543)\n",
    "print(y)"
   ]
  },
  {
   "cell_type": "code",
   "execution_count": null,
   "metadata": {},
   "outputs": [],
   "source": [
    "# set()\n",
    "# The set() function creates a set object.\n",
    "# The items in a set list are unordered, so it will appear in random order.\n",
    "\n",
    "\n",
    "x = set(('orange', 'apple', 'banana', 'cherry'))\n",
    "print(x)\n",
    "\n",
    "a = [8, 5, 13, 1, 4, 1, 4, 13, 16, 88, 75, 16]\n",
    "b = reversed(list(set(a)))\n",
    "reverse = []\n",
    "for i in b:\n",
    "\treverse.append(i)\n",
    "print(reverse)"
   ]
  },
  {
   "cell_type": "code",
   "execution_count": null,
   "metadata": {},
   "outputs": [],
   "source": [
    "# setattr()\n",
    "# The setattr() function sets the value of the specified attribute of the specified object.\n",
    "# syntax = setattr(object, attribute, value)\n",
    "\n",
    "\n",
    "class Person:\n",
    "    name = \"John\"\n",
    "    age = 36\n",
    "    country = \"Norway\"\n",
    "\n",
    "setattr(Person, 'age', 40)\n",
    "print(Person.age)"
   ]
  },
  {
   "cell_type": "code",
   "execution_count": null,
   "metadata": {},
   "outputs": [],
   "source": [
    "# slice()\n",
    "# The slice() function returns a slice object.\n",
    "# A slice object is used to specify how to slice a sequence. You can specify where to start the slicing, and where to end. \n",
    "# You can also specify the step, which allows you to e.g. slice only every other item.\n",
    "# syntax = slice(start, end, step)\n",
    "\n",
    "\n",
    "a = (\"a\", \"b\", \"c\", \"d\", \"e\", \"f\", \"g\", \"h\")\n",
    "x = slice(2)\n",
    "print(a[x])\n",
    "\n",
    "a = (\"a\", \"b\", \"c\", \"d\", \"e\", \"f\", \"g\", \"h\")\n",
    "x = slice(1, 5)\n",
    "print(a[x])\n",
    "\n",
    "a = (\"a\", \"b\", \"c\", \"d\", \"e\", \"f\", \"g\", \"h\")\n",
    "x = slice(0, 8, 3)\n",
    "print(a[x])\n",
    "\n",
    "# this is also slicing\n",
    "x = \"hello world\"\n",
    "s = x[0:3]\n",
    "print(s)\n",
    "\n",
    "s = x[:3]\n",
    "print(s)\n",
    "\n",
    "x = \"Nancy\"\n",
    "print(x)"
   ]
  },
  {
   "cell_type": "code",
   "execution_count": null,
   "metadata": {},
   "outputs": [],
   "source": [
    "# sorted()\n",
    "# The sorted() function returns a sorted list of the specified iterable object.\n",
    "# You can specify ascending or descending order. Strings are sorted alphabetically, and numbers are sorted numerically.\n",
    "# syntax = sorted(iterable, key=key, reverse=reverse)\n",
    "\n",
    "\n",
    "a = (\"b\", \"g\", \"a\", \"d\", \"f\", \"c\", \"h\", \"e\")\n",
    "x = sorted(a)\n",
    "print(x)\n",
    "\n",
    "a = (1, 11, 2)\n",
    "y = sorted(a)\n",
    "print(y)\n",
    "\n",
    "a = (\"h\", \"b\", \"a\", \"c\", \"f\", \"d\", \"e\", \"g\")\n",
    "z = sorted(a)\n",
    "print(z)\n",
    "\n",
    "a = (\"h\", \"b\", \"a\", \"c\", \"f\", \"d\", \"e\", \"g\")\n",
    "a = sorted(a, reverse=True)\n",
    "print(a)"
   ]
  },
  {
   "cell_type": "code",
   "execution_count": null,
   "metadata": {},
   "outputs": [],
   "source": [
    "# staticmethod()\n",
    "\n",
    "\n",
    "class Person: \n",
    "    def __init__(self, name, age): \n",
    "        self.name = name \n",
    "        self.age = age \n",
    "        \n",
    "    # a static method to check if a Person is adult or not. \n",
    "    @staticmethod\n",
    "    def isAdult(age): \n",
    "        return age > 18\n",
    "\n",
    "# Driver's code\n",
    "if __name__ == \"__main__\":\n",
    "    res = Person.isAdult(12)\n",
    "    print('Is person adult:', res)\n",
    "\n",
    "    res = Person.isAdult(22)\n",
    "    print('\\nIs person adult:', res)"
   ]
  },
  {
   "cell_type": "code",
   "execution_count": null,
   "metadata": {},
   "outputs": [],
   "source": [
    "# str()\n",
    "# The str() function converts the specified value into a string.\n",
    "# syntax = str(object, encoding=encoding, errors=errors)\n",
    "\n",
    "\n",
    "x = str(3.5)\n",
    "print(x)\n",
    "\n",
    "y = str(12)\n",
    "print(y)"
   ]
  },
  {
   "cell_type": "code",
   "execution_count": null,
   "metadata": {},
   "outputs": [],
   "source": [
    "# sum()\n",
    "# The sum() function returns a number, the sum of all items in an iterable.\n",
    "# syntax = sum(iterable, start)\n",
    "\n",
    "\n",
    "a = (1, 2, 3, 4, 5)\n",
    "x = sum(a)\n",
    "print(x)\n",
    "\n",
    "a = (1, 2, 3, 4, 5)\n",
    "y = sum(a, 7)\n",
    "print(y)"
   ]
  },
  {
   "cell_type": "code",
   "execution_count": null,
   "metadata": {},
   "outputs": [],
   "source": [
    "# super()\n",
    "# The super() function is used to give access to methods and properties of a parent or sibling class.\n",
    "# The super() function returns an object that represents the parent class.\n",
    "\n",
    "\n",
    "class Parent:\n",
    "\tdef __init__(self, txt):\n",
    "\t\tself.message = txt\n",
    "\n",
    "\tdef printmessage(self):\n",
    "\t\tprint(self.message)\n",
    "\n",
    "class Child(Parent):\n",
    "\tdef __init__(self, txt):\n",
    "\t\tsuper().__init__(txt)\n",
    "\n",
    "x = Child(\"Hello, and Welcome\")\n",
    "\n",
    "x.printmessage()"
   ]
  },
  {
   "cell_type": "code",
   "execution_count": null,
   "metadata": {},
   "outputs": [],
   "source": [
    "# tuple()\n",
    "# The tuple() function creates a tuple object.\n",
    "\n",
    "\n",
    "x = tuple(('apple', 'banana', 'cherry'))\n",
    "print(x)"
   ]
  },
  {
   "cell_type": "code",
   "execution_count": null,
   "metadata": {},
   "outputs": [],
   "source": [
    "# type()\n",
    "# The type() function returns the type of the specified object\n",
    "# syntax = type(object, bases, dict)\n",
    "\n",
    "\n",
    "a = ('apple', 'banana', 'cherry')\n",
    "b = \"Hello World\"\n",
    "c = 33\n",
    "\n",
    "x = type(a)\n",
    "y = type(b)\n",
    "z = type(c)\n",
    "print(x, y, z)"
   ]
  },
  {
   "cell_type": "code",
   "execution_count": null,
   "metadata": {},
   "outputs": [],
   "source": [
    "# vars()\n",
    "# The vars() function returns the __dict__ attribute of an object.\n",
    "# The __dict__ attribute is a dictionary containing the object's changeable attributes.\n",
    "\n",
    "\n",
    "class Person:\n",
    "    name = \"John\"\n",
    "    age = 36\n",
    "    country = \"norway\"\n",
    "\n",
    "x = vars(Person)\n",
    "print(x)"
   ]
  },
  {
   "cell_type": "code",
   "execution_count": null,
   "metadata": {},
   "outputs": [],
   "source": [
    "# zip()\n",
    "# The zip() function returns a zip object, which is an iterator of tuples where the first item in each passed iterator \n",
    "# is paired together, and then the second item in each passed iterator are paired together etc.\n",
    "\n",
    "# If the passed iterators have different lengths, the iterator with the least items decides the length of the new iterator.\n",
    "# syntax = zip(iterator1, iterator2, iterator3 ...)\n",
    "\n",
    "\n",
    "a = (\"John\", \"Charles\", \"Mike\")\n",
    "b = (\"Jenny\", \"Christy\", \"Monica\")\n",
    "\n",
    "x = zip(a, b)\n",
    "print(x)\n",
    "\n",
    "a = (\"John\", \"Charles\", \"Mike\")\n",
    "b = (\"Jenny\", \"Christy\", \"Monica\", \"Vicky\")\n",
    "\n",
    "y = zip(a, b)\n",
    "print(y)"
   ]
  },
  {
   "cell_type": "code",
   "execution_count": null,
   "metadata": {},
   "outputs": [],
   "source": [
    "# format printing\n",
    "\n",
    "# Combine numbers and text\n",
    "s = \"My lucky number is %d, what is yours?\" % 7\n",
    "print(s)\n",
    "\n",
    "# alternative method of combining numbers and text\n",
    "s = \"My lucky number is \" + str(7) + \", what is yours?\"\n",
    "print(s)\n",
    "\n",
    "# print character by index\n",
    "print(x[0])\n",
    "\n",
    "# print piece of string\n",
    "print(x[0:3])"
   ]
  },
  {
   "cell_type": "code",
   "execution_count": null,
   "metadata": {},
   "outputs": [],
   "source": []
  }
 ],
 "metadata": {
  "kernelspec": {
   "display_name": "Python 3",
   "language": "python",
   "name": "python3"
  },
  "language_info": {
   "codemirror_mode": {
    "name": "ipython",
    "version": 3
   },
   "file_extension": ".py",
   "mimetype": "text/x-python",
   "name": "python",
   "nbconvert_exporter": "python",
   "pygments_lexer": "ipython3",
   "version": "3.11.4"
  }
 },
 "nbformat": 4,
 "nbformat_minor": 2
}
