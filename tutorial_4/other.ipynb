{
 "cells": [
  {
   "cell_type": "code",
   "execution_count": 4,
   "metadata": {},
   "outputs": [
    {
     "name": "stdout",
     "output_type": "stream",
     "text": [
      "Hello Universe Universe Universe\n",
      "21\n",
      "query found\n"
     ]
    }
   ],
   "source": [
    "s = \"Hello World World World\"\n",
    "s = s.replace(\"World\",\"Universe\", 1)\n",
    "print(s)\n",
    "\n",
    "s = \"That I ever did see. Dusty as the handle on the door\"\n",
    "\n",
    "index = s.find(\"Dusty\")\n",
    "print(index)\n",
    "\n",
    "s = \"That I ever did see. Dusty as the handle on the door\"\n",
    "\n",
    "if \"Dusty\" in s:\n",
    "    print(\"query found\")"
   ]
  },
  {
   "cell_type": "code",
   "execution_count": null,
   "metadata": {},
   "outputs": [],
   "source": [
    "# define strings                                                         \n",
    "firstname = \"Bugs\"\n",
    "lastname = \"Bunny\""
   ]
  },
  {
   "cell_type": "code",
   "execution_count": null,
   "metadata": {},
   "outputs": [],
   "source": [
    "# define our sequence                                                    \n",
    "sequence = (firstname,lastname)\n",
    "print(sequence)"
   ]
  },
  {
   "cell_type": "code",
   "execution_count": null,
   "metadata": {},
   "outputs": [],
   "source": [
    "# join into new string                                                   \n",
    "name = \" \".join(sequence)\n",
    "print(name)"
   ]
  },
  {
   "cell_type": "code",
   "execution_count": null,
   "metadata": {},
   "outputs": [],
   "source": [
    "words = [\"How\",\"are\",\"you\",\"doing\",\"?\"]\n",
    "sentence = ' '.join(words)\n",
    "print(sentence)"
   ]
  },
  {
   "cell_type": "code",
   "execution_count": null,
   "metadata": {},
   "outputs": [],
   "source": [
    "s = \"Its to easy\"\n",
    "words = s.split()\n",
    "print(words)\n",
    "print(len(words))\n",
    "print(len(s))\n",
    "\n",
    "word = \"Easy\"\n",
    "x = list(word)\n",
    "print(x)"
   ]
  },
  {
   "cell_type": "code",
   "execution_count": null,
   "metadata": {},
   "outputs": [],
   "source": [
    "import random\n",
    "\n",
    "# Create a random floating point number and print it.\n",
    "print(random.random())\n",
    "\n",
    "# pick a random whole number between 0 and 10.\n",
    "print(random.randrange(0,10))\n",
    "\n",
    "# pick a random floating point number between 0 and 10.\n",
    "print(random.uniform(0,10))"
   ]
  },
  {
   "cell_type": "code",
   "execution_count": null,
   "metadata": {},
   "outputs": [],
   "source": [
    "name = input('What is your name? ')\n",
    "print('Hello ' + name)\n",
    "\n",
    "job = input('What is your job? ')\n",
    "print('Your job is ' + job)\n",
    "\n",
    "num = input('Give me a number? ')\n",
    "print('You said: ' + str(num))"
   ]
  },
  {
   "cell_type": "code",
   "execution_count": null,
   "metadata": {},
   "outputs": [],
   "source": [
    "city = ['Tokyo','New York','Toronto','Hong Kong']\n",
    "print('Cities loop:')\n",
    "for x in city:\n",
    "    print('City: ' + x)\n",
    "\n",
    "print('\\n')  # newline\n",
    "\n",
    "num = [1,2,3,4,5,6,7,8,9]\n",
    "print('x^2 loop:')\n",
    "for x in num:\n",
    "    y = x * x\n",
    "    print(str(x) + '*' + str(x) + '=' + str(y))"
   ]
  },
  {
   "cell_type": "code",
   "execution_count": null,
   "metadata": {},
   "outputs": [],
   "source": [
    "x = 3                              \n",
    "while x < 10:\n",
    "    print(x)\n",
    "    x = x + 1\n",
    "\n",
    "x = [3,4,5]\n",
    "x.append(6)\n",
    "print(x)\n",
    "x.append(7)\n",
    "print(x)\n",
    "x.pop()\n",
    "print(x)\n",
    "\n",
    "x = [3,6,21,1,5,98,4,23,1,6]\n",
    "x.sort()\n",
    "print(x)\n",
    "x = list(set(x))\n",
    "x.sort()\n",
    "print(x)\n",
    "\n",
    "words = [\"Be\",\"Car\",\"Always\",\"Door\",\"Eat\" ]\n",
    "words.sort()\n",
    "print(words)\n",
    "\n",
    "x = [3,6,21,1,5,98,4,23,1,6]\n",
    "x.sort()\n",
    "print(x)\n",
    "print(x[::-1])\n",
    "x = list(reversed(x))\n",
    "print(x)\n",
    "\n",
    "x = list(range(0,100,2))\n",
    "print(x)"
   ]
  },
  {
   "cell_type": "code",
   "execution_count": null,
   "metadata": {},
   "outputs": [],
   "source": [
    "filename = 'myfile.txt'\n",
    "\n",
    "with open(filename) as f:\n",
    "    content = f.readlines()\n",
    "\n",
    "print(content)\n",
    "\n",
    "f = open(filename, 'a')\n",
    "\n",
    "f.write(\"Hey i am here \\n\")\n",
    "f.write(\"vakvbka ibvj jkabvj ajbai bireb ijaeb\\n\")\n",
    "f.close()\n"
   ]
  },
  {
   "cell_type": "code",
   "execution_count": null,
   "metadata": {},
   "outputs": [],
   "source": [
    "import time\n",
    "timenow = time.localtime(time.time())\n",
    "print(timenow)\n",
    "year,month,day,hour,minute = timenow[0:5]\n",
    "print(year,month,day,hour,minute)\n",
    "print(time.time())\n",
    "print(time.gmtime())\n",
    "print(time.asctime())\n",
    "print(time.ctime())"
   ]
  },
  {
   "cell_type": "code",
   "execution_count": null,
   "metadata": {},
   "outputs": [],
   "source": [
    "class NoMoneyException(Exception):\n",
    "    pass\n",
    "\n",
    "class OutOfBudget(Exception):\n",
    "    pass\n",
    "\n",
    "while True:\n",
    "    balance = int(input(\"Enter a balance: \"))\n",
    "    if balance < 1000:\n",
    "        raise NoMoneyException\n",
    "    elif balance > 10000:\n",
    "        raise OutOfBudget"
   ]
  },
  {
   "cell_type": "code",
   "execution_count": null,
   "metadata": {},
   "outputs": [],
   "source": [
    "for line in reversed(list(open(\"filename.txt\"))):\n",
    "\tprint(line.rstrip())\n",
    "\n",
    "demo_list = [5,4,4,6,8,12,12,1,5]\n",
    "a = list(set(demo_list))\n",
    "print(a)"
   ]
  },
  {
   "cell_type": "code",
   "execution_count": null,
   "metadata": {},
   "outputs": [],
   "source": [
    "import random\n",
    "def read_random(fname):\n",
    "\tlines = open(fname).read().splitlines()\n",
    "\treturn random.choice(lines)\n",
    "print(read_random(\"filename.txt\"))"
   ]
  },
  {
   "cell_type": "code",
   "execution_count": null,
   "metadata": {},
   "outputs": [],
   "source": [
    "def file_count(fname):\n",
    "\twith open(fname) as f:\n",
    "\t\tfor i, j in enumerate(f):\n",
    "\t\t\tpass\n",
    "\t\t\treturn i + 1\n",
    "\n",
    "print(\"Total number of lines in the text file: \", file_count(\"filename.txt\"))"
   ]
  },
  {
   "cell_type": "code",
   "execution_count": null,
   "metadata": {},
   "outputs": [],
   "source": [
    "list1 = [2, 33, 222, 14, 25]\n",
    "print(list1[-2])"
   ]
  },
  {
   "cell_type": "code",
   "execution_count": null,
   "metadata": {},
   "outputs": [],
   "source": [
    "import array as arr\n",
    "x=arr.array('d', [11.1 , 2.1 ,3.1] )\n",
    "x.append(10.1)\n",
    "print(x)\n",
    "x.extend([8.3,1.3,5.3])\n",
    "print(x)\n",
    "x.insert(2,6.2)\n",
    "print(x)\n",
    "\n",
    "x=arr.array('d', [8.1, 2.4, 6.8, 1.1, 7.7, 1.2, 3.6])\n",
    "print(x.pop())\n",
    "print(x.pop(3))\n",
    "x.remove(8.1)\n",
    "print(x)\n",
    "\n",
    "list = [\"2\", \"5\", \"7\", \"8\", \"1\"]\n",
    "list = [int(i) for i in list]\n",
    "list.sort()\n",
    "print(list)\n",
    "\n",
    "with open(\"filename.txt\") as countletter:\n",
    "\tcount = 0\n",
    "\ttext = countletter.read()\n",
    "\tfor character in text:\n",
    "\t\tif character.isupper():\n",
    "\t\t\tcount += 1\n",
    "\n",
    "print(count)\n",
    "\n",
    "my_list = [45, 54, 25, 36, 75, 95, 25, 41, 11]\n",
    "my_list.reverse()\n",
    "print(my_list)\n",
    "\n",
    "my_list = [45, 54, 25, 36, 75, 95, 25, 41, 11]\n",
    "my_list.pop()\n",
    "print(my_list)"
   ]
  },
  {
   "cell_type": "code",
   "execution_count": null,
   "metadata": {},
   "outputs": [],
   "source": [
    "import random\n",
    "\n",
    "a = random.random()\n",
    "print(a)\n",
    "\n",
    "demo_string='ROSES'\n",
    "a = demo_string.lower()\n",
    "print(a)"
   ]
  },
  {
   "cell_type": "code",
   "execution_count": null,
   "metadata": {},
   "outputs": [],
   "source": [
    "import numpy as np\n",
    "\n",
    "ar = np.array([1, 3, 2, 4, 5, 6])\n",
    "\n",
    "print(ar.argsort()[-3:][::-1])\n",
    "\n",
    "a = np.array([1,2,3,4,5,6,7])\n",
    "p = np.percentile(a, 50)  #Returns the 50th percentile which is also the median\n",
    "print(p)"
   ]
  },
  {
   "cell_type": "code",
   "execution_count": null,
   "metadata": {},
   "outputs": [],
   "source": [
    "def fun(string):\n",
    "\ts1 = string\n",
    "\ts = string[::-1]\n",
    "\tif(s1 == s):\n",
    "\t\treturn True\n",
    "\telse:\n",
    "\t\treturn False\n",
    "print(fun(\"sis\"))"
   ]
  },
  {
   "cell_type": "code",
   "execution_count": null,
   "metadata": {},
   "outputs": [],
   "source": [
    "def sum(num):\n",
    "\tif len(num) == 1:\n",
    "\t\treturn num[0]               #with only one element in the list, the sum result will be equal to the element.\n",
    "\telse:\n",
    "\t\treturn num[0] + sum(num[1:])\n",
    "print(sum([2, 4, 5, 6, 7]))"
   ]
  },
  {
   "cell_type": "code",
   "execution_count": 1,
   "metadata": {},
   "outputs": [
    {
     "name": "stdout",
     "output_type": "stream",
     "text": [
      "        *\n",
      "       ***\n",
      "      *****\n",
      "     *******\n",
      "    *********\n",
      "   ***********\n",
      "  *************\n",
      " ***************\n",
      "*****************\n"
     ]
    }
   ],
   "source": [
    "def Star_triangle(n):\n",
    "\tfor x in range(n):\n",
    "\t\tprint(' '*(n-x-1)+'*'*(2*x+1))\n",
    "Star_triangle(9)"
   ]
  },
  {
   "cell_type": "code",
   "execution_count": null,
   "metadata": {},
   "outputs": [],
   "source": [
    "n = int(input(\"number of terms? \"))\n",
    "n1, n2 = 0, 1\n",
    "count = 0\n",
    "\n",
    "if num > 1:\n",
    "\tfor i in range(2, int(num/2)+1):\n",
    "\t\tif (num % i) == 0:\n",
    "\t\t\tprint(num, \"is not a prime number\")\n",
    "\t\t\tbreak\n",
    "\t\telse:\n",
    "\t\t\tprint(num, \"is a prime number\")\n",
    "\n",
    "else:\n",
    "\tprint(num, \"is not a prime number\")"
   ]
  },
  {
   "cell_type": "code",
   "execution_count": null,
   "metadata": {},
   "outputs": [],
   "source": [
    "x= 'a'\n",
    "\n",
    "# print the ASCII value of assigned character stored in x\n",
    "\n",
    "print(\" ASCII value of '\" + x + \"' is\", ord(x))"
   ]
  },
  {
   "cell_type": "code",
   "execution_count": null,
   "metadata": {},
   "outputs": [],
   "source": [
    "numbers = [1, 2, 3, 4, 5, 6, 7, 8, 9, 10]\n",
    "print(numbers[1 : : 2])  #output : [2, 4, 6, 8, 10]"
   ]
  },
  {
   "cell_type": "code",
   "execution_count": null,
   "metadata": {},
   "outputs": [],
   "source": [
    "def multiply(a, b, *argv):\n",
    "    mul = a * b\n",
    "    for num in argv:\n",
    "        mul *= num\n",
    "    return mul\n",
    "print(multiply(1, 2, 3, 4, 5, 6, 7, 8, 9, 10))"
   ]
  },
  {
   "cell_type": "code",
   "execution_count": null,
   "metadata": {},
   "outputs": [],
   "source": [
    "def tellArguments(**kwargs):\n",
    "    for key, value in kwargs.items():\n",
    "        print(key + \": \" + value)\n",
    "tellArguments(arg1 = \"argument 1\", arg2 = \"argument 2\", arg3 = \"argument 3\")"
   ]
  },
  {
   "cell_type": "code",
   "execution_count": null,
   "metadata": {},
   "outputs": [],
   "source": [
    "import random\n",
    "\n",
    "a = random.random()\n",
    "print(a)\n",
    "\n",
    "b = random.randrange(0, 5)\n",
    "print(b)\n",
    "\n",
    "\n",
    "c = random.uniform(1, 10)\n",
    "print(c)"
   ]
  },
  {
   "cell_type": "code",
   "execution_count": null,
   "metadata": {},
   "outputs": [],
   "source": [
    "a = 5\n",
    "c = 4\n",
    "b = a not c\n",
    "print(b)"
   ]
  },
  {
   "cell_type": "code",
   "execution_count": null,
   "metadata": {},
   "outputs": [],
   "source": [
    "def pyfunc(r):\n",
    "    for x in range(r):\n",
    "        print(' '*(r-x-1)+'*'*(2*x+1))    \n",
    "pyfunc(9)"
   ]
  },
  {
   "cell_type": "code",
   "execution_count": null,
   "metadata": {},
   "outputs": [],
   "source": [
    "fib = []\n",
    "n = 8\n",
    "count = 0\n",
    "n1, n2 = 0, 1\n",
    "if n <= 0:\n",
    "\tprint(\"Please enter a positive integer\")\n",
    "elif n == 1:\n",
    "\tprint(\"Fibonacci sequence upto\",nterms,\":\")\n",
    "\tprint(n1)\n",
    "else:\n",
    "\tprint(\"Fibonacci sequence:\")\n",
    "while count < n:\n",
    "\tfib.append(n1)\n",
    "\tnth = n1 + n2\n",
    "\tn1 = n2\n",
    "\tn2 = nth\n",
    "\tcount += 1\n",
    "\n",
    "print(fib)"
   ]
  },
  {
   "cell_type": "code",
   "execution_count": null,
   "metadata": {},
   "outputs": [],
   "source": [
    "import datetime\n",
    "\n",
    "list1 = ['abcd_jan_1_10', 'abcd_jan_11_20', 'abcd_jan_21_end',\n",
    "\t\t\t'abcd_feb_1_10', 'abcd_feb_11_20', 'abcd_feb_21_end',\n",
    "\t\t\t'abcd_mar_1_10', 'abcd_mar_11_20', 'abcd_mar_21_end',\n",
    "\t\t\t'abcd_apr_1_10', 'abcd_apr_11_20', 'abcd_apr_21_end']\n",
    "\n",
    "list2 = '2018-03-13'\n",
    "\n",
    "date = datetime.datetime.strptime(list2, \"%Y-%m-%d\").date()\n",
    "str_month = date.strftime(\"%b\").lower()\n",
    "int_date = int(date.strftime(\"%d\"))\n",
    "# print(str_month)\n",
    "\n",
    "for i in list1:\n",
    "\tsplit = i.split(\"_\")\n",
    "\tif str_month == split[1]:\n",
    "\t\tif int(split[2]) <= int_date and split[3] == 'end':\n",
    "\t\t\tprint(list1.index(i))\n",
    "\t\telif int(split[2]) <= int_date <= int(split[3]):\n",
    "\t\t\tprint(list1.index(i))"
   ]
  },
  {
   "cell_type": "code",
   "execution_count": null,
   "metadata": {},
   "outputs": [],
   "source": [
    "fruits = [\"apple\", \"banana\", \"cherry\", \"kiwi\", \"mango\"]\n",
    "newlist = [x for x in range(10)]\n",
    "newlist1 = [x for x in range(10) if x < 5]\n",
    "newlist2 = [x.upper() for x in fruits]\n",
    "newlist3 = [\"hello\" for x in fruits]\n",
    "newlist4 = [x if x != 'banana' else 'orange' for x in fruits]\n",
    "\n",
    "print(newlist)\n",
    "print(newlist1)\n",
    "print(newlist2)\n",
    "print(newlist3)\n",
    "print(newlist4)\n",
    "[print(x) for x in fruits]"
   ]
  },
  {
   "cell_type": "code",
   "execution_count": 2,
   "metadata": {},
   "outputs": [],
   "source": [
    "import requests\n",
    "from requests.exceptions import HTTPError\n",
    "import datetime, time\n",
    "\n",
    "for url in ['https://api.github.com', 'https:/api.github.com/invalid']:\n",
    "\ttry:\n",
    "\t\tresponse = requests.get(url)\n",
    "\t\tresponse.raise_for_status()\n",
    "\texcept HTTPError as http_err:\n",
    "\t\tprint(f'HTTP error occured: {http_err}')\n",
    "\texcept Exception as err:\n",
    "\t\tprint(f'Other error occured: {err}')\n",
    "\telse:\n",
    "\t\tprint('Success')\n",
    "\n",
    "\ttime.sleep(5)"
   ]
  },
  {
   "cell_type": "code",
   "execution_count": null,
   "metadata": {},
   "outputs": [],
   "source": [
    "response = requests.get('https://api.github.com')\n",
    "\n",
    "if response.status_code == 200:\n",
    "\tprint(\"Success\")\n",
    "elif response.status_code == 404:\n",
    "\tprint(\"Not Found\")\n",
    "\n",
    "if response:\n",
    "\tprint('Success')\n",
    "else:\n",
    "\tprint('An Error has Occured.')\n",
    "\n",
    "print(response)\n",
    "print(response.status_code, \"\\n\")\n",
    "print(response.content, \"\\n\")\n",
    "print(response.text, \"\\n\")\n",
    "print(response.encoding, \"\\n\")\n",
    "print(response.json(), \"\\n\")\n",
    "print(response.headers, \"\\n\")\n",
    "print(response.headers['Content-type'], \"\\n\")"
   ]
  },
  {
   "cell_type": "code",
   "execution_count": null,
   "metadata": {},
   "outputs": [],
   "source": [
    "response = requests.get('https://api.github.com/search/repositories', params={'q': 'requests+language:python'})\n",
    "json_response = response.json()\n",
    "print(json_response)\n",
    "repository = json_response['items'][0]\n",
    "print(f'Repository Name: {repository[\"name\"]}')\n",
    "print(f'Repository Description: {repository[\"description\"]}')"
   ]
  },
  {
   "cell_type": "code",
   "execution_count": null,
   "metadata": {},
   "outputs": [],
   "source": [
    "response = requests.get('https://api.github.com/search/repositories', params={'q': 'requests+language:python'}, \n",
    "\t\t\t\t\theaders={'Accept': 'application/vnd.github.v3.text-match+json'})\n",
    "json_response = response.json()\n",
    "print(json_response)\n",
    "repository = json_response[\"items\"][0]\n",
    "print(f'Text matches: {repository[\"text_matches\"]}')"
   ]
  },
  {
   "cell_type": "code",
   "execution_count": null,
   "metadata": {},
   "outputs": [],
   "source": [
    "r = requests.post('https://httpbin.org/post', data={'key':'value'})\n",
    "print(\"post\", r)\n",
    "\n",
    "a = requests.put('https://httpbin.org/put', data={'key':'value'})\n",
    "print(\"put\",r)\n",
    "\n",
    "b = requests.delete('https://httpbin.org/post')\n",
    "print(\"delete\", b)\n",
    "\n",
    "c = requests.head('https://httpbin.org/get')\n",
    "print(\"head\",c)\n",
    "\n",
    "d = requests.patch('https://httpbin.org/patch', data={'key':'value'})\n",
    "print(\"patch\", d)\n",
    "\n",
    "e = requests.options('https://httpbin.org/get')\n",
    "print(\"options\", e)"
   ]
  },
  {
   "cell_type": "code",
   "execution_count": null,
   "metadata": {},
   "outputs": [],
   "source": [
    "response = requests.head('https://httpbin.org/get')\n",
    "print(response)\n",
    "print(response.headers)\n",
    "print(response.headers['Content-type'])\n",
    "\n",
    "response = requests.delete('https://httpbin.org/delete')\n",
    "json_response = response.json()\n",
    "print(response)\n",
    "print(response.headers)\n",
    "print(response.headers['Content-type'])\n",
    "print(json_response['args'])"
   ]
  },
  {
   "cell_type": "code",
   "execution_count": null,
   "metadata": {},
   "outputs": [],
   "source": [
    "response = requests.post('https://httpbin.org/post', json={'key':'value'})\n",
    "json_response = response.json()\n",
    "print(response)\n",
    "print(response.text)\n",
    "print(response.request.url)\n",
    "print(response.request.body)\n",
    "print(json_response)\n",
    "print(json_response['data'])\n",
    "print(json_response['headers']['Content-Type'])"
   ]
  },
  {
   "cell_type": "code",
   "execution_count": null,
   "metadata": {},
   "outputs": [],
   "source": [
    "response = requests.get('https://github.com/session', auth=('mkrkmpi@gmail.com', 'KkKiru@181210'))\n",
    "print(response)\n",
    "print(response.text)"
   ]
  },
  {
   "cell_type": "code",
   "execution_count": null,
   "metadata": {},
   "outputs": [],
   "source": [
    "from requests.auth import HTTPBasicAuth\n",
    "auth = HTTPBasicAuth('mkrkmpi@gmail.com', 'KkKiru@181210')\n",
    "response = requests.get('https://github.com/session', auth=auth)\n",
    "print(response.text)"
   ]
  },
  {
   "cell_type": "code",
   "execution_count": null,
   "metadata": {},
   "outputs": [],
   "source": [
    "response1 = requests.get('https://github.com/session', auth=('mkrkmpi@gmail.com', 'KkKiru@181210'))\n",
    "print(response1.text)"
   ]
  },
  {
   "cell_type": "code",
   "execution_count": null,
   "metadata": {},
   "outputs": [],
   "source": [
    "# Making a Request\n",
    "# Syntax – requests.get(url, params={key: value}, args)\n",
    "\n",
    "# Making a GET request\n",
    "r = requests.get('https://api.github.com/users/naveenkrnl')\n",
    "\n",
    "# check status code for response received\n",
    "# success code - 200\n",
    "print(r)\n",
    "\n",
    "# print content of request\n",
    "print(r.content)"
   ]
  },
  {
   "cell_type": "code",
   "execution_count": null,
   "metadata": {},
   "outputs": [],
   "source": [
    "# Response object\n",
    "\n",
    "# import requests module\n",
    "import requests\n",
    "\n",
    "# Making a get request\n",
    "response = requests.get('https://api.github.com/')\n",
    "\n",
    "# print request object\n",
    "print(response.url)\n",
    "\n",
    "# print status code\n",
    "print(response.status_code)\n"
   ]
  },
  {
   "cell_type": "code",
   "execution_count": null,
   "metadata": {},
   "outputs": [],
   "source": [
    "# Authentication using Python Requests\n",
    "# import requests module\n",
    "import requests\n",
    "from requests.auth import HTTPBasicAuth\n",
    "  \n",
    "# Making a get request\n",
    "response = requests.get('https://api.github.com/user', auth = HTTPBasicAuth('mkrkmpi@gmail.com', 'KkKiru@181210'))\n",
    "  \n",
    "# print request object\n",
    "print(response)"
   ]
  },
  {
   "cell_type": "code",
   "execution_count": null,
   "metadata": {},
   "outputs": [],
   "source": [
    "# SSL Certificate Verification\n",
    "\n",
    "# import requests module\n",
    "import requests\n",
    "  \n",
    "# Making a get request\n",
    "response = requests.get('https://expired.badssl.com/')\n",
    "  \n",
    "# print request object\n",
    "print(response)"
   ]
  },
  {
   "cell_type": "code",
   "execution_count": null,
   "metadata": {},
   "outputs": [],
   "source": [
    "# import requests module\n",
    "import requests\n",
    "\n",
    "# Making a get request\n",
    "response = requests.get('https://github.com', verify ='/path/to/certfile') # path is correct it ok, else path is wrong\n",
    "\n",
    "# print request object\n",
    "print(response)"
   ]
  },
  {
   "cell_type": "code",
   "execution_count": null,
   "metadata": {},
   "outputs": [],
   "source": [
    "# Session Objects\n",
    "# import requests module\n",
    "import requests\n",
    "\n",
    "# create a session object\n",
    "s = requests.Session()\n",
    "\n",
    "# make a get request\n",
    "s.get('https://httpbin.org/cookies/set/sessioncookie/123456789')\n",
    "\n",
    "# again make a get request\n",
    "r = s.get('https://httpbin.org/cookies')\n",
    "\n",
    "# check if cookie is still set\n",
    "print(r.text)"
   ]
  },
  {
   "cell_type": "code",
   "execution_count": null,
   "metadata": {},
   "outputs": [],
   "source": [
    "\n",
    "# Making a Get request\n",
    "\n",
    "# importing the requests library\n",
    "import requests\n",
    "  \n",
    "# api-endpoint\n",
    "URL = \"http://maps.googleapis.com/maps/api/geocode/json\"\n",
    "  \n",
    "# location given here\n",
    "location = \"delhi technological university\"\n",
    "  \n",
    "# defining a params dict for the parameters to be sent to the API\n",
    "PARAMS = {'address':location}\n",
    "  \n",
    "# sending get request and saving the response as response object\n",
    "r = requests.get(url = URL, params = PARAMS)\n",
    "print(r.url)\n",
    "# extracting data in json format\n",
    "data = r.json()\n",
    "  \n",
    "  \n",
    "# extracting latitude, longitude and formatted address \n",
    "# of the first matching location\n",
    "latitude = data['results'][0]['geometry']['location']['lat']\n",
    "longitude = data['results'][0]['geometry']['location']['lng']\n",
    "formatted_address = data['results'][0]['formatted_address']\n",
    "  \n",
    "# printing the output\n",
    "print(\"Latitude:%s\\nLongitude:%s\\nFormatted Address:%s\"\n",
    "      %(latitude, longitude,formatted_address))"
   ]
  },
  {
   "cell_type": "code",
   "execution_count": null,
   "metadata": {},
   "outputs": [],
   "source": [
    "# Making a POST request\n",
    "\n",
    "# importing the requests library\n",
    "import requests\n",
    "\n",
    "# defining the api-endpoint \n",
    "API_ENDPOINT = \"http://pastebin.com/api/api_post.php\"\n",
    "\n",
    "# your API key here\n",
    "API_KEY = \"XXXXXXXXXXXXXXXXX\"\n",
    "\n",
    "# your source code here\n",
    "source_code = \"\"\"\n",
    "print(\"Hello, world!\")\n",
    "a = 1\n",
    "b = 2\n",
    "print(a + b)\n",
    "\"\"\"\n",
    "\n",
    "# data to be sent to api\n",
    "data = {'api_dev_key':API_KEY,\n",
    "        'api_option':'paste',\n",
    "        'api_paste_code':source_code,\n",
    "        'api_paste_format':'python'}\n",
    "\n",
    "# sending post request and saving response as response object\n",
    "r = requests.post(url = API_ENDPOINT, data = data)\n",
    "\n",
    "# extracting response text \n",
    "pastebin_url = r.text\n",
    "print(\"The pastebin URL is:%s\"%pastebin_url)"
   ]
  },
  {
   "cell_type": "code",
   "execution_count": null,
   "metadata": {},
   "outputs": [],
   "source": [
    "import requests\n",
    "\n",
    "# Making a POST request\n",
    "r = requests.post('https://httpbin.org/post', data ={'key':'value'})\n",
    "\n",
    "# check status code for response received\n",
    "# success code - 200\n",
    "print(r)\n",
    "\n",
    "# print content of request\n",
    "print(r.json())"
   ]
  },
  {
   "cell_type": "code",
   "execution_count": null,
   "metadata": {},
   "outputs": [],
   "source": []
  },
  {
   "cell_type": "code",
   "execution_count": null,
   "metadata": {},
   "outputs": [],
   "source": []
  },
  {
   "cell_type": "code",
   "execution_count": null,
   "metadata": {},
   "outputs": [],
   "source": []
  },
  {
   "cell_type": "code",
   "execution_count": null,
   "metadata": {},
   "outputs": [],
   "source": []
  },
  {
   "cell_type": "code",
   "execution_count": null,
   "metadata": {},
   "outputs": [],
   "source": []
  },
  {
   "cell_type": "code",
   "execution_count": null,
   "metadata": {},
   "outputs": [],
   "source": []
  },
  {
   "cell_type": "code",
   "execution_count": null,
   "metadata": {},
   "outputs": [],
   "source": []
  },
  {
   "cell_type": "code",
   "execution_count": null,
   "metadata": {},
   "outputs": [],
   "source": []
  },
  {
   "cell_type": "code",
   "execution_count": null,
   "metadata": {},
   "outputs": [],
   "source": []
  },
  {
   "cell_type": "code",
   "execution_count": null,
   "metadata": {},
   "outputs": [],
   "source": []
  },
  {
   "cell_type": "code",
   "execution_count": null,
   "metadata": {},
   "outputs": [],
   "source": [
    "# class definition\n",
    "class Student:\n",
    "    def __init__(self, fname, lname, age, section):\n",
    "        self.firstname = fname\n",
    "        self.lastname = lname\n",
    "        self.age = age\n",
    "        self.section = section\n",
    "\n",
    "# creating a new object\n",
    "stu1 = Student(\"Sara\", \"Ansh\", 22, \"A2\")"
   ]
  },
  {
   "cell_type": "code",
   "execution_count": null,
   "metadata": {},
   "outputs": [],
   "source": [
    "# Parent class\n",
    "class ParentClass:\n",
    "    def par_func(self):\n",
    "        print(\"I am parent class function\")\n",
    "\n",
    "# Child class\n",
    "class ChildClass(ParentClass):\n",
    "    def child_func(self):\n",
    "        print(\"I am child class function\")\n",
    "\n",
    "# Driver code\n",
    "obj1 = ChildClass()\n",
    "obj1.par_func()\n",
    "obj1.child_func()"
   ]
  },
  {
   "cell_type": "code",
   "execution_count": null,
   "metadata": {},
   "outputs": [],
   "source": [
    "class employee:\n",
    "\tdef __init__ (self, name):\n",
    "\t\tself.name = name\n",
    "e1 = employee(\"kumar\")\n",
    "print(e1.name)"
   ]
  },
  {
   "cell_type": "code",
   "execution_count": null,
   "metadata": {},
   "outputs": [],
   "source": []
  },
  {
   "cell_type": "code",
   "execution_count": null,
   "metadata": {},
   "outputs": [],
   "source": []
  },
  {
   "cell_type": "code",
   "execution_count": null,
   "metadata": {},
   "outputs": [],
   "source": []
  },
  {
   "cell_type": "code",
   "execution_count": null,
   "metadata": {},
   "outputs": [],
   "source": []
  },
  {
   "cell_type": "code",
   "execution_count": null,
   "metadata": {},
   "outputs": [],
   "source": [
    "import pandas as pd\n",
    "\n",
    "stocks = ['AAPL', 'MSFT', 'FB', 'GOOG', 'AMZN', 'AAPL', 'MSFT', 'FB', 'GOOG', 'AMZN']\n",
    "\n",
    "volumes = [20, 30, 40, 50, 60, 70, 80, 90, 100, 110]\n",
    "\n",
    "prices = [100, 200, 300, 400, 500, 600, 700, 800, 900, 1000]\n",
    "\n",
    "df = pd.DataFrame()\n",
    "df['stocks'] = stocks\n",
    "df['volumes'] = volumes\n",
    "df['prices'] = prices\n",
    "\n",
    "df['stocks'] = df['stocks'].replace(['AAPL'], 'APPLE')\n",
    "print(df)\n",
    "\n",
    "# df = df[df['volumes'] > 80]\n",
    "\n",
    "df = df.set_index('stocks')\n",
    "print(df)\n",
    "\n",
    "df = df['volumes'].groupby('stocks').sum()\n",
    "print(df)"
   ]
  },
  {
   "cell_type": "code",
   "execution_count": null,
   "metadata": {},
   "outputs": [],
   "source": [
    "# import datetime\n",
    "from datetime import datetime, timedelta\n",
    "\n",
    "def update_time(time, by, value):\n",
    "\ttime = datetime.strptime(time, '%H:%M:%S')\n",
    "\tdelta = time + timedelta(seconds=value)\n",
    "\tchn_time = delta.time()\n",
    "\tprint(chn_time)\n",
    "\n",
    "update_time('13:09:59', by='secs', value=10)"
   ]
  },
  {
   "cell_type": "code",
   "execution_count": null,
   "metadata": {},
   "outputs": [],
   "source": [
    "import requests\n",
    "\n",
    "names = ['nick', 'Ram', 'Tiki', 'Jochen', 'maki']\n",
    "\n",
    "dic = {}\n",
    "for name in names:\n",
    "\turl = f'https://api.nationalize.io/?name={name}'\n",
    "\n",
    "\tr = requests.get(url)\n",
    "\tjson_res = r.json()\n",
    "\tcountry = json_res['country']\n",
    "\tcountry_id = country[0]\n",
    "\n",
    "\tprint(country_id)"
   ]
  },
  {
   "cell_type": "code",
   "execution_count": null,
   "metadata": {},
   "outputs": [],
   "source": []
  },
  {
   "cell_type": "code",
   "execution_count": null,
   "metadata": {},
   "outputs": [],
   "source": []
  },
  {
   "cell_type": "code",
   "execution_count": null,
   "metadata": {},
   "outputs": [],
   "source": []
  },
  {
   "cell_type": "code",
   "execution_count": null,
   "metadata": {},
   "outputs": [],
   "source": []
  },
  {
   "cell_type": "code",
   "execution_count": null,
   "metadata": {},
   "outputs": [],
   "source": []
  },
  {
   "cell_type": "code",
   "execution_count": null,
   "metadata": {},
   "outputs": [],
   "source": []
  }
 ],
 "metadata": {
  "kernelspec": {
   "display_name": "Python 3",
   "language": "python",
   "name": "python3"
  },
  "language_info": {
   "codemirror_mode": {
    "name": "ipython",
    "version": 3
   },
   "file_extension": ".py",
   "mimetype": "text/x-python",
   "name": "python",
   "nbconvert_exporter": "python",
   "pygments_lexer": "ipython3",
   "version": "3.11.4"
  }
 },
 "nbformat": 4,
 "nbformat_minor": 2
}
