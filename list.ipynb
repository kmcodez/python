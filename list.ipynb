{
 "cells": [
  {
   "cell_type": "code",
   "execution_count": 1,
   "metadata": {},
   "outputs": [
    {
     "name": "stdout",
     "output_type": "stream",
     "text": [
      "[10, 25, 35, 45]\n",
      "[]\n"
     ]
    }
   ],
   "source": [
    "# Lists\n",
    "\n",
    "# Sequence Type\n",
    "# Mutable"
   ]
  },
  {
   "cell_type": "code",
   "execution_count": null,
   "metadata": {},
   "outputs": [],
   "source": [
    "# Clear the whole list\n",
    "a = [10, 25, 35, 45]\n",
    "print(a)\n",
    "a.clear()\n",
    "print(a)"
   ]
  },
  {
   "cell_type": "code",
   "execution_count": 3,
   "metadata": {},
   "outputs": [
    {
     "name": "stdout",
     "output_type": "stream",
     "text": [
      "[11, 22, 33, 44, 55, 66, 77, 88, 99]\n",
      "[11, 22, 33, 44, 55, 66, 77, 88, 99]\n",
      "[11, 22, 33, 105, 55, 66, 77, 88, 99]\n"
     ]
    }
   ],
   "source": [
    "# call the copy function from a to b\n",
    "a = [11, 22, 33, 44, 55, 66, 77, 88, 99]\n",
    "b = a.copy()\n",
    "print(b)\n",
    "b[3] = 105\n",
    "print(a)\n",
    "print(b)"
   ]
  },
  {
   "cell_type": "code",
   "execution_count": 5,
   "metadata": {},
   "outputs": [
    {
     "name": "stdout",
     "output_type": "stream",
     "text": [
      "4\n",
      "1\n",
      "9\n",
      "55\n",
      "10\n",
      "[25, 35, 25, 45, 25, 35, 55, 25]\n"
     ]
    }
   ],
   "source": [
    "a = [10, 25, 35, 25, 45, 25, 35, 55, 25]\n",
    "\n",
    "# Count the Elements the particular value\n",
    "print(a.count(25))\n",
    "\n",
    "# This is the particular value where to be places\n",
    "print(a.index(25))\n",
    "# Total length of particular list\n",
    "print(len(a))\n",
    "\n",
    "# Find the maximize value\n",
    "print(max(a))\n",
    "\n",
    "# Find the Minimum Value\n",
    "print(min(a))\n",
    "\n",
    "# Remove Element using index\n",
    "a.pop(0)\n",
    "\n",
    "print(a)"
   ]
  },
  {
   "cell_type": "code",
   "execution_count": 6,
   "metadata": {},
   "outputs": [
    {
     "name": "stdout",
     "output_type": "stream",
     "text": [
      "[10, 35, 25, 45, 25, 35, 55, 25]\n"
     ]
    }
   ],
   "source": [
    "a = [10, 25, 35, 25, 45, 25, 35, 55, 25]\n",
    "\n",
    "# remove the value, which value comes first\n",
    "a.remove(25)\n",
    "print(a)"
   ]
  },
  {
   "cell_type": "code",
   "execution_count": 7,
   "metadata": {},
   "outputs": [
    {
     "name": "stdout",
     "output_type": "stream",
     "text": [
      "['Ram']\n",
      "['Ram', 'Kumar', 'Kavi', 'Kiruthik']\n"
     ]
    }
   ],
   "source": [
    "names = [\"Ram\"]\n",
    "print(names)\n",
    "\n",
    "# Those below add one by one in list\n",
    "names.append(\"Kumar\")\n",
    "names.append(\"Kavi\")\n",
    "names.append(\"Kiruthik\")\n",
    "print(names)"
   ]
  },
  {
   "cell_type": "code",
   "execution_count": 9,
   "metadata": {},
   "outputs": [
    {
     "name": "stdout",
     "output_type": "stream",
     "text": [
      "['Ram', 'Kumar', 'Kavi', 'Kiruthik', 'sara', 'Anitha']\n",
      "['Murugesan', 'Ram', 'Kumar', 'Kavi', 'Kiruthik', 'sara', 'Anitha']\n"
     ]
    }
   ],
   "source": [
    "names = ['Ram', 'Kumar', 'Kavi', 'Kiruthik']\n",
    "name2 = [\"sara\", \"Anitha\"]\n",
    "\n",
    "# This is add extend of created one\n",
    "names.extend(name2)\n",
    "print(names)\n",
    "\n",
    "# insert the name where to be indexed\n",
    "names.insert(0, \"Murugesan\")\n",
    "print(names)"
   ]
  },
  {
   "cell_type": "code",
   "execution_count": 10,
   "metadata": {},
   "outputs": [
    {
     "name": "stdout",
     "output_type": "stream",
     "text": [
      "[0, 1, 2, 3, 4]\n"
     ]
    }
   ],
   "source": [
    "print(list(range(5)))"
   ]
  },
  {
   "cell_type": "code",
   "execution_count": 11,
   "metadata": {},
   "outputs": [
    {
     "name": "stdout",
     "output_type": "stream",
     "text": [
      "['K', 'i', 'r', 'u', 't', 'h', 'i', 'k', 'V', 'a', 'r', 's', 'h', 'a', 'n']\n"
     ]
    }
   ],
   "source": [
    "print(list(\"KiruthikVarshan\"))"
   ]
  },
  {
   "cell_type": "code",
   "execution_count": null,
   "metadata": {},
   "outputs": [],
   "source": [
    "a = [10, 50, 100, 25, 85]\n",
    "print(a)\n",
    "a.sort()  # sort small to big\n",
    "print(a)\n",
    "a.sort(reverse=True)  # Sort big to small\n",
    "print(a)"
   ]
  },
  {
   "cell_type": "code",
   "execution_count": null,
   "metadata": {},
   "outputs": [],
   "source": [
    "a = [\"Orange\", \"Apple\", \"Zebra\"]  # sort ascending order\n",
    "a.sort()\n",
    "print(a)\n",
    "a.sort(reverse=True)  # sort decending order\n",
    "print(a)"
   ]
  },
  {
   "cell_type": "code",
   "execution_count": null,
   "metadata": {},
   "outputs": [],
   "source": [
    "a = [\"Orange\", \"Apple\", \"Zebra\"]\n",
    "a.sort(key=len)\n",
    "print(a)"
   ]
  },
  {
   "cell_type": "code",
   "execution_count": null,
   "metadata": {},
   "outputs": [],
   "source": [
    "a = [1, 2, 3, 4, 5]\n",
    "print(a)\n",
    "print(type(a))\n",
    "\n",
    "# Change a particular list\n",
    "a[0] = 100\n",
    "print(a)\n",
    "print(a[1])\n",
    "print(a[-1])\n",
    "print(a[0:3])\n",
    "print(a[2:])\n",
    "print(a[:3])"
   ]
  },
  {
   "cell_type": "code",
   "execution_count": null,
   "metadata": {},
   "outputs": [],
   "source": [
    "a = [1, True, \"Kavi\", 2.5, [15, 78, 42, 63]]\n",
    "print(a)\n",
    "print(type(a))\n",
    "\n",
    "print(a[0], \", The Class Type is : \", type(a[0]))\n",
    "print(a[1], \", The Class Type is : \", type(a[1]))\n",
    "print(a[2], \", The Class Type is : \", type(a[2]))\n",
    "print(a[3], \", The Class Type is : \", type(a[3]))\n",
    "print(a[4], \", The Class Type is : \", type(a[4]))\n",
    "print(a[4][3])"
   ]
  },
  {
   "cell_type": "code",
   "execution_count": null,
   "metadata": {},
   "outputs": [],
   "source": []
  },
  {
   "cell_type": "code",
   "execution_count": null,
   "metadata": {},
   "outputs": [],
   "source": []
  }
 ],
 "metadata": {
  "kernelspec": {
   "display_name": "Python 3",
   "language": "python",
   "name": "python3"
  },
  "language_info": {
   "codemirror_mode": {
    "name": "ipython",
    "version": 3
   },
   "file_extension": ".py",
   "mimetype": "text/x-python",
   "name": "python",
   "nbconvert_exporter": "python",
   "pygments_lexer": "ipython3",
   "version": "3.11.4"
  }
 },
 "nbformat": 4,
 "nbformat_minor": 2
}
