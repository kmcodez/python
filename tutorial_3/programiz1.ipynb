{
 "cells": [
  {
   "cell_type": "markdown",
   "id": "30598c17",
   "metadata": {},
   "source": [
    "# STRING LITERALS\n",
    "Single Line Literals"
   ]
  },
  {
   "cell_type": "code",
   "execution_count": 1,
   "id": "8fb3b0c5",
   "metadata": {},
   "outputs": [
    {
     "name": "stdout",
     "output_type": "stream",
     "text": [
      "Kiruthik Varshan Kumar Kavitha\n"
     ]
    }
   ],
   "source": [
    "name1 = \"Kiruthik Varshan\"\n",
    "name2 = 'Kumar'\n",
    "name3 = \"Kavitha\"\n",
    "print(name1, name2, name3)"
   ]
  },
  {
   "cell_type": "markdown",
   "id": "e23022ba",
   "metadata": {},
   "source": [
    "# Multiline Literals"
   ]
  },
  {
   "cell_type": "code",
   "execution_count": 4,
   "id": "d252cca6",
   "metadata": {},
   "outputs": [
    {
     "name": "stdout",
     "output_type": "stream",
     "text": [
      "Father Name: Kumar\n",
      "Mother Name: Kavitha\n",
      "Son Name: Kiruthik Varshan\n"
     ]
    }
   ],
   "source": [
    "parah = \"\"\"Father Name: Kumar\n",
    "Mother Name: Kavitha\n",
    "Son Name: Kiruthik Varshan\"\"\"\n",
    "print(parah)"
   ]
  },
  {
   "cell_type": "code",
   "execution_count": null,
   "id": "2807962f",
   "metadata": {},
   "outputs": [],
   "source": [
    "Boolean Literals\n",
    "True or False\n",
    "a = True # true is a variable not a literals\n",
    "a = 'True' # here True is a string"
   ]
  },
  {
   "cell_type": "markdown",
   "id": "1def4aeb",
   "metadata": {},
   "source": [
    "# BOOLEAN LITERALS"
   ]
  },
  {
   "cell_type": "markdown",
   "id": "a7d304a0",
   "metadata": {},
   "source": [
    "# SPECIAL LITERALS"
   ]
  },
  {
   "cell_type": "code",
   "execution_count": 11,
   "id": "a257fbe6",
   "metadata": {},
   "outputs": [
    {
     "name": "stdout",
     "output_type": "stream",
     "text": [
      "Available\n",
      "None\n"
     ]
    }
   ],
   "source": [
    "drink = \"Available\"\n",
    "food = None\n",
    "\n",
    "def menu(x):\n",
    "    if x == drink:\n",
    "        print(drink)\n",
    "    else:\n",
    "        print(food)\n",
    "\n",
    "menu(drink)\n",
    "menu(food)"
   ]
  },
  {
   "cell_type": "markdown",
   "id": "8f4e012d",
   "metadata": {},
   "source": [
    "# Literal Collections\n",
    "There are four different literal collections List literals, Tuple literals, Dict literals, and Set literals."
   ]
  },
  {
   "cell_type": "code",
   "execution_count": 12,
   "id": "2da00bcc",
   "metadata": {},
   "outputs": [
    {
     "name": "stdout",
     "output_type": "stream",
     "text": [
      "['apple', 'mango', 'orange']\n",
      "(1, 2, 3)\n",
      "{'a': 'apple', 'b': 'ball', 'c': 'cat'}\n",
      "{'i', 'e', 'a', 'o', 'u'}\n"
     ]
    }
   ],
   "source": [
    "fruits = [\"apple\", \"mango\", \"orange\"] #list\n",
    "numbers = (1, 2, 3) #tuple\n",
    "alphabets = {'a':'apple', 'b':'ball', 'c':'cat'} #dictionary\n",
    "vowels = {'a', 'e', 'i' , 'o', 'u'} #set\n",
    "\n",
    "print(fruits)\n",
    "print(numbers)\n",
    "print(alphabets)\n",
    "print(vowels)"
   ]
  },
  {
   "cell_type": "markdown",
   "id": "a982709b",
   "metadata": {},
   "source": [
    "# PYTHON INPUT AND OUTPUT\n",
    "\n",
    "PRINT()"
   ]
  },
  {
   "cell_type": "code",
   "execution_count": 6,
   "id": "9a6cbbde",
   "metadata": {},
   "outputs": [
    {
     "name": "stdout",
     "output_type": "stream",
     "text": [
      "I am Kumar\n"
     ]
    }
   ],
   "source": [
    "print(\"I am Kumar\")"
   ]
  },
  {
   "cell_type": "markdown",
   "id": "706b1c3a",
   "metadata": {},
   "source": [
    "# PRINT VARIABLES"
   ]
  },
  {
   "cell_type": "code",
   "execution_count": 9,
   "id": "fb479f35",
   "metadata": {},
   "outputs": [
    {
     "name": "stdout",
     "output_type": "stream",
     "text": [
      "5\n",
      "Hello\n",
      "5 Hello\n"
     ]
    }
   ],
   "source": [
    "a = 5\n",
    "b = \"Hello\"\n",
    "print(a)\n",
    "print(b)\n",
    "print(a,b)"
   ]
  },
  {
   "cell_type": "code",
   "execution_count": 10,
   "id": "06aa586c",
   "metadata": {},
   "outputs": [
    {
     "name": "stdout",
     "output_type": "stream",
     "text": [
      "Age is : 25\n",
      "Name is: Kumar\n"
     ]
    }
   ],
   "source": [
    "age = 25\n",
    "name = \"Kumar\"\n",
    "\n",
    "print(\"Age is :\", age)\n",
    "print(\"Name is:\",name)"
   ]
  },
  {
   "cell_type": "code",
   "execution_count": 11,
   "id": "3928e753",
   "metadata": {},
   "outputs": [
    {
     "name": "stdout",
     "output_type": "stream",
     "text": [
      "First line \n",
      "\n",
      "\n",
      "Second line\n"
     ]
    }
   ],
   "source": [
    "print(\"First line \\n\\n\") # \\n reprents end of line and start a new line\n",
    "print(\"Second line\")"
   ]
  },
  {
   "cell_type": "markdown",
   "id": "ea76bcff",
   "metadata": {},
   "source": [
    "# INPUT VARIABLES"
   ]
  },
  {
   "cell_type": "code",
   "execution_count": 13,
   "id": "e9c73ef9",
   "metadata": {},
   "outputs": [
    {
     "name": "stdout",
     "output_type": "stream",
     "text": [
      "Enter Name :kumar\n",
      "Hello kumar\n"
     ]
    }
   ],
   "source": [
    "name = input(\"Enter Name :\")\n",
    "print(\"Hello\", name)"
   ]
  },
  {
   "cell_type": "code",
   "execution_count": 14,
   "id": "ba4b96dd",
   "metadata": {},
   "outputs": [
    {
     "name": "stdout",
     "output_type": "stream",
     "text": [
      "Enter Something: ff\n",
      "ff\n"
     ]
    }
   ],
   "source": [
    "a = input(\"Enter Something: \")\n",
    "print(a)"
   ]
  },
  {
   "cell_type": "markdown",
   "id": "f159d09d",
   "metadata": {},
   "source": [
    "# PYHTON TYPE CONVERSION\n",
    "1) IMPLICIT TYPE CONVERSION , \n",
    "2) EXPLICIT TYPE CONVERSION"
   ]
  },
  {
   "cell_type": "markdown",
   "id": "030cf326",
   "metadata": {},
   "source": [
    "# IMPLICIT TYPE CONVERSION"
   ]
  },
  {
   "cell_type": "code",
   "execution_count": 16,
   "id": "d2a9570b",
   "metadata": {},
   "outputs": [
    {
     "name": "stdout",
     "output_type": "stream",
     "text": [
      "124.23\n",
      "Datatype of sum:  <class 'float'>\n"
     ]
    }
   ],
   "source": [
    "number_integer = 123\n",
    "number_float = 1.23\n",
    "\n",
    "sum = number_integer + number_float\n",
    "print(sum)\n",
    "print(\"Datatype of sum: \",type(sum))"
   ]
  },
  {
   "cell_type": "code",
   "execution_count": 16,
   "id": "f535e58e",
   "metadata": {},
   "outputs": [
    {
     "name": "stdout",
     "output_type": "stream",
     "text": [
      "5 is of type <class 'int'>\n",
      "2.0 is of type <class 'float'>\n",
      "(1+2j) is complex number? True\n"
     ]
    }
   ],
   "source": [
    "a = 5\n",
    "print(a, \"is of type\", type(a))\n",
    "\n",
    "a = 2.0\n",
    "print(a, \"is of type\", type(a))\n",
    "\n",
    "a = 1+2j\n",
    "print(a, \"is complex number?\", isinstance(1+2j,complex))"
   ]
  },
  {
   "cell_type": "code",
   "execution_count": 17,
   "id": "c63cbf3a",
   "metadata": {},
   "outputs": [
    {
     "name": "stdout",
     "output_type": "stream",
     "text": [
      "<class 'str'>\n"
     ]
    }
   ],
   "source": [
    "a = '555'\n",
    "print(type(a))"
   ]
  },
  {
   "cell_type": "markdown",
   "id": "167404c3",
   "metadata": {},
   "source": [
    "# EXPLICIT TYPE CONVERSION"
   ]
  },
  {
   "cell_type": "code",
   "execution_count": 18,
   "id": "06a96197",
   "metadata": {},
   "outputs": [
    {
     "name": "stdout",
     "output_type": "stream",
     "text": [
      "1\n",
      "<class 'int'>\n"
     ]
    }
   ],
   "source": [
    "float_number = 1.734 # conver float to integer\n",
    "integer_number = int(float_number)\n",
    "\n",
    "print(integer_number)\n",
    "print(type(integer_number))"
   ]
  },
  {
   "cell_type": "code",
   "execution_count": 20,
   "id": "5d6a3d4e",
   "metadata": {},
   "outputs": [
    {
     "name": "stdout",
     "output_type": "stream",
     "text": [
      "55\n",
      "<class 'int'>\n",
      "55.0\n",
      "<class 'float'>\n"
     ]
    }
   ],
   "source": [
    "a = '55' # it is string\n",
    "\n",
    "integer_number = int(a) # convert string to int\n",
    "float_number = float(a) # convert string to float\n",
    "\n",
    "print(integer_number)\n",
    "print(type(integer_number))\n",
    "print(float_number)\n",
    "print(type(float_number))"
   ]
  },
  {
   "cell_type": "code",
   "execution_count": 21,
   "id": "d44f3f71",
   "metadata": {},
   "outputs": [
    {
     "ename": "ValueError",
     "evalue": "invalid literal for int() with base 10: 'Hello'",
     "output_type": "error",
     "traceback": [
      "\u001b[1;31m---------------------------------------------------------------------------\u001b[0m",
      "\u001b[1;31mValueError\u001b[0m                                Traceback (most recent call last)",
      "\u001b[1;32mC:\\Users\\KKKFIN~1\\AppData\\Local\\Temp/ipykernel_11512/950741968.py\u001b[0m in \u001b[0;36m<module>\u001b[1;34m\u001b[0m\n\u001b[0;32m      1\u001b[0m \u001b[0ma\u001b[0m \u001b[1;33m=\u001b[0m \u001b[1;34m\"Hello\"\u001b[0m \u001b[1;31m# string letter cannot convert a intger\u001b[0m\u001b[1;33m\u001b[0m\u001b[1;33m\u001b[0m\u001b[0m\n\u001b[0;32m      2\u001b[0m \u001b[1;33m\u001b[0m\u001b[0m\n\u001b[1;32m----> 3\u001b[1;33m \u001b[0minteger_number\u001b[0m \u001b[1;33m=\u001b[0m \u001b[0mint\u001b[0m\u001b[1;33m(\u001b[0m\u001b[0ma\u001b[0m\u001b[1;33m)\u001b[0m\u001b[1;33m\u001b[0m\u001b[1;33m\u001b[0m\u001b[0m\n\u001b[0m",
      "\u001b[1;31mValueError\u001b[0m: invalid literal for int() with base 10: 'Hello'"
     ]
    }
   ],
   "source": [
    "a = \"Hello\" # string letter cannot convert a intger\n",
    "\n",
    "integer_number = int(a) # it is get a error"
   ]
  },
  {
   "cell_type": "markdown",
   "id": "4685a081",
   "metadata": {},
   "source": [
    "# Python List\n",
    "List is an ordered sequence of items. It is one of the most used datatype in Python and is very flexible. All the items in a list do not need to be of the same type."
   ]
  },
  {
   "cell_type": "code",
   "execution_count": 17,
   "id": "5a860d0a",
   "metadata": {},
   "outputs": [
    {
     "name": "stdout",
     "output_type": "stream",
     "text": [
      "a[2] =  15\n",
      "a[0:3] =  [5, 10, 15]\n",
      "a[5:] =  [30, 35, 40]\n"
     ]
    }
   ],
   "source": [
    "a = [5,10,15,20,25,30,35,40]\n",
    "\n",
    "# a[2] = 15\n",
    "print(\"a[2] = \", a[2])\n",
    "\n",
    "# a[0:3] = [5, 10, 15]\n",
    "print(\"a[0:3] = \", a[0:3])\n",
    "\n",
    "# a[5:] = [30, 35, 40]\n",
    "print(\"a[5:] = \", a[5:])"
   ]
  },
  {
   "cell_type": "markdown",
   "id": "7fc86ce6",
   "metadata": {},
   "source": [
    "# ARITHMATIC OPERATORS\n",
    "+, -, *, /"
   ]
  },
  {
   "cell_type": "code",
   "execution_count": 18,
   "id": "abc9ac51",
   "metadata": {},
   "outputs": [
    {
     "name": "stdout",
     "output_type": "stream",
     "text": [
      "[1, 2, 4]\n"
     ]
    }
   ],
   "source": [
    "#Lists are mutable, meaning, the value of elements of a list can be altered\n",
    "a = [1, 2, 3]\n",
    "a[2] = 4\n",
    "print(a)"
   ]
  },
  {
   "cell_type": "code",
   "execution_count": 5,
   "id": "9ac2fbf7",
   "metadata": {},
   "outputs": [
    {
     "name": "stdout",
     "output_type": "stream",
     "text": [
      "6.0\n"
     ]
    }
   ],
   "source": [
    "# + operators\n",
    "a = 1\n",
    "b = 2\n",
    "c = 3.0\n",
    "result = a + b + c  \n",
    "print(result)"
   ]
  },
  {
   "cell_type": "code",
   "execution_count": 7,
   "id": "ef59a954",
   "metadata": {},
   "outputs": [
    {
     "name": "stdout",
     "output_type": "stream",
     "text": [
      "Kiruthik Varshan\n",
      "Name : Kiruthik Varshan\n"
     ]
    }
   ],
   "source": [
    "# Concatenate of Two Strings\n",
    "first_name = \"Kiruthik\"\n",
    "second_name = \"Varshan\"\n",
    "\n",
    "name = first_name + ' ' + second_name\n",
    "print(name)\n",
    "print(\"Name :\", name)"
   ]
  },
  {
   "cell_type": "code",
   "execution_count": 8,
   "id": "cc8572ba",
   "metadata": {},
   "outputs": [
    {
     "name": "stdout",
     "output_type": "stream",
     "text": [
      "3\n"
     ]
    }
   ],
   "source": [
    "# - operators\n",
    "\n",
    "a = 12\n",
    "b = 9\n",
    "\n",
    "result = a - b\n",
    "print(result)"
   ]
  },
  {
   "cell_type": "code",
   "execution_count": 9,
   "id": "b1ff587b",
   "metadata": {},
   "outputs": [
    {
     "name": "stdout",
     "output_type": "stream",
     "text": [
      "3.0\n"
     ]
    }
   ],
   "source": [
    "a = 12.0\n",
    "b = 9\n",
    "\n",
    "result = a - b\n",
    "print(result)"
   ]
  },
  {
   "cell_type": "code",
   "execution_count": 10,
   "id": "38800b1c",
   "metadata": {},
   "outputs": [
    {
     "name": "stdout",
     "output_type": "stream",
     "text": [
      "70\n"
     ]
    }
   ],
   "source": [
    "# * operators\n",
    "\n",
    "a = 5\n",
    "b = 14\n",
    "\n",
    "result = a * b\n",
    "print(result)"
   ]
  },
  {
   "cell_type": "code",
   "execution_count": 11,
   "id": "733941b7",
   "metadata": {},
   "outputs": [
    {
     "name": "stdout",
     "output_type": "stream",
     "text": [
      "7.0\n"
     ]
    }
   ],
   "source": [
    "result = 1.4 * 5\n",
    "print(result)"
   ]
  },
  {
   "cell_type": "code",
   "execution_count": 12,
   "id": "559d2407",
   "metadata": {},
   "outputs": [
    {
     "name": "stdout",
     "output_type": "stream",
     "text": [
      "foofoofoo\n"
     ]
    }
   ],
   "source": [
    "# multiply string\n",
    "\n",
    "a = \"foo\"\n",
    "b = a * 3\n",
    "print(b)"
   ]
  },
  {
   "cell_type": "code",
   "execution_count": 13,
   "id": "bde870de",
   "metadata": {},
   "outputs": [
    {
     "name": "stdout",
     "output_type": "stream",
     "text": [
      "4.666666666666667\n"
     ]
    }
   ],
   "source": [
    "# / operators\n",
    "\n",
    "a = 14\n",
    "b = 3\n",
    "\n",
    "result = a / b\n",
    "print(result)"
   ]
  },
  {
   "cell_type": "code",
   "execution_count": 15,
   "id": "c3895aad",
   "metadata": {},
   "outputs": [
    {
     "name": "stdout",
     "output_type": "stream",
     "text": [
      "2.9\n"
     ]
    }
   ],
   "source": [
    "result = 14.5 / 5\n",
    "print(result)"
   ]
  },
  {
   "cell_type": "code",
   "execution_count": 14,
   "id": "175fe9a9",
   "metadata": {},
   "outputs": [
    {
     "name": "stdout",
     "output_type": "stream",
     "text": [
      "4\n"
     ]
    }
   ],
   "source": [
    "# // operators  ( see the difference this and above)\n",
    "\n",
    "a = 14\n",
    "b = 3\n",
    "\n",
    "result = a // b\n",
    "print(result)"
   ]
  },
  {
   "cell_type": "code",
   "execution_count": 16,
   "id": "f56d779a",
   "metadata": {},
   "outputs": [
    {
     "name": "stdout",
     "output_type": "stream",
     "text": [
      "2.0\n"
     ]
    }
   ],
   "source": [
    "result = 14.5 // 5\n",
    "print(result)"
   ]
  },
  {
   "cell_type": "code",
   "execution_count": 17,
   "id": "83d8e2b7",
   "metadata": {},
   "outputs": [
    {
     "name": "stdout",
     "output_type": "stream",
     "text": [
      "3\n"
     ]
    }
   ],
   "source": [
    "# % operators\n",
    "\n",
    "a = 13\n",
    "b = 5\n",
    "\n",
    "result = a % b\n",
    "print(result)"
   ]
  },
  {
   "cell_type": "code",
   "execution_count": 18,
   "id": "0b8be857",
   "metadata": {},
   "outputs": [
    {
     "name": "stdout",
     "output_type": "stream",
     "text": [
      "0.5\n"
     ]
    }
   ],
   "source": [
    "a = 8\n",
    "b = 2.5\n",
    "\n",
    "result = a % b\n",
    "print(result)"
   ]
  },
  {
   "cell_type": "code",
   "execution_count": 19,
   "id": "83cf644e",
   "metadata": {},
   "outputs": [
    {
     "name": "stdout",
     "output_type": "stream",
     "text": [
      "32\n"
     ]
    }
   ],
   "source": [
    "# ** operators\n",
    "\n",
    "a = 2\n",
    "b = 5\n",
    "\n",
    "result = a ** b\n",
    "print(result)"
   ]
  },
  {
   "cell_type": "code",
   "execution_count": 20,
   "id": "83ec18f0",
   "metadata": {},
   "outputs": [
    {
     "name": "stdout",
     "output_type": "stream",
     "text": [
      "458.78668896944134\n"
     ]
    }
   ],
   "source": [
    "base = 2.5546\n",
    "power = 6.5344\n",
    "result = base ** power\n",
    "print(result)"
   ]
  },
  {
   "cell_type": "markdown",
   "id": "2b61f472",
   "metadata": {},
   "source": [
    "# ASSIGNMENT OPEARTORS"
   ]
  },
  {
   "cell_type": "code",
   "execution_count": 21,
   "id": "e3a55d2c",
   "metadata": {},
   "outputs": [
    {
     "name": "stdout",
     "output_type": "stream",
     "text": [
      "kumarkumarkumarkumarkumar\n"
     ]
    }
   ],
   "source": [
    "a = 5\n",
    "name = \"kumar\"\n",
    "print(a * name)"
   ]
  },
  {
   "cell_type": "code",
   "execution_count": 22,
   "id": "ff57d3f4",
   "metadata": {},
   "outputs": [
    {
     "name": "stdout",
     "output_type": "stream",
     "text": [
      "105\n"
     ]
    }
   ],
   "source": [
    "# = operators\n",
    "\n",
    "x = 100\n",
    "x = x + 5\n",
    "\n",
    "print(x)"
   ]
  },
  {
   "cell_type": "code",
   "execution_count": 23,
   "id": "9c001237",
   "metadata": {},
   "outputs": [
    {
     "name": "stdout",
     "output_type": "stream",
     "text": [
      "5\n",
      "3.2\n",
      "hello\n"
     ]
    }
   ],
   "source": [
    "a,b,c = 5,3.2,'hello'\n",
    "print(a)\n",
    "print(b)\n",
    "print(c)"
   ]
  },
  {
   "cell_type": "code",
   "execution_count": 24,
   "id": "16a6b44b",
   "metadata": {},
   "outputs": [
    {
     "name": "stdout",
     "output_type": "stream",
     "text": [
      "kumar\n",
      "kumar\n",
      "kumar\n"
     ]
    }
   ],
   "source": [
    "x = y = z = \"kumar\"\n",
    "print(x)\n",
    "print(y)\n",
    "print(z)"
   ]
  },
  {
   "cell_type": "markdown",
   "id": "f7f68680",
   "metadata": {},
   "source": [
    "# MORE ASSIGNMENT OPEARTORS\n",
    "operator   example      equivalent to\n",
    "   +=        x += 5        x = x+5\n",
    "   -=        x -= 5        x = x-5\n",
    "   *=        x *= 5        x = x*5\n",
    "   /=        x /= 5        x = x/5\n",
    "   %=        x %= 5        x = x%5\n",
    "  //=        x //=5        x = x//5\n",
    "  **=        x **=5        x = x**5"
   ]
  },
  {
   "cell_type": "code",
   "execution_count": 26,
   "id": "93343e45",
   "metadata": {},
   "outputs": [
    {
     "name": "stdout",
     "output_type": "stream",
     "text": [
      "15\n"
     ]
    }
   ],
   "source": [
    "x = 10\n",
    "x += 5  # X = X+5\n",
    "print(x)"
   ]
  },
  {
   "cell_type": "code",
   "execution_count": 27,
   "id": "dce88d07",
   "metadata": {},
   "outputs": [
    {
     "name": "stdout",
     "output_type": "stream",
     "text": [
      "2\n"
     ]
    }
   ],
   "source": [
    "x = 10\n",
    "x //= 4  # X = X//4\n",
    "print(x)"
   ]
  },
  {
   "cell_type": "markdown",
   "id": "6289e25e",
   "metadata": {},
   "source": [
    "# OPERATOR PRECEDENCE"
   ]
  },
  {
   "cell_type": "code",
   "execution_count": 28,
   "id": "88ec05aa",
   "metadata": {},
   "outputs": [
    {
     "name": "stdout",
     "output_type": "stream",
     "text": [
      "2\n"
     ]
    }
   ],
   "source": [
    "print(10 - 4 * 2)"
   ]
  },
  {
   "cell_type": "code",
   "execution_count": 29,
   "id": "e79f8774",
   "metadata": {},
   "outputs": [
    {
     "name": "stdout",
     "output_type": "stream",
     "text": [
      "12\n"
     ]
    }
   ],
   "source": [
    "print((10 - 4) * 2)"
   ]
  },
  {
   "cell_type": "code",
   "execution_count": null,
   "id": "4cc22d2c",
   "metadata": {},
   "outputs": [],
   "source": [
    "# OPERATOR PRECEDENCE LIST\n",
    "# HERE HOW WORK THIS LIST\n",
    "# TOP TO BOTTOM\n",
    "\n",
    "1. ()\n",
    "2. **\n",
    "3. +X, -X\n",
    "4. +, /, //, %\n",
    "5. +, -"
   ]
  },
  {
   "cell_type": "markdown",
   "id": "cb20fa64",
   "metadata": {},
   "source": [
    "# BOOLEAN EXPRESSION"
   ]
  },
  {
   "cell_type": "code",
   "execution_count": null,
   "id": "47ab5cf2",
   "metadata": {},
   "outputs": [],
   "source": [
    "# this is True or False statement\n",
    "    True # here true not function # first letter must be a capital letter\n",
    "    False # here false not function # first letter must be a capital letter"
   ]
  },
  {
   "cell_type": "code",
   "execution_count": null,
   "id": "f137a071",
   "metadata": {},
   "outputs": [],
   "source": [
    "# COMAPRISON OPERATORS\n",
    "# > Greater then\n",
    "# < Leaa then\n",
    "# == Equal to\n",
    "# != Not equal to\n",
    "# >= Greater then or equal to\n",
    "# <= Less then or equal to"
   ]
  },
  {
   "cell_type": "code",
   "execution_count": 30,
   "id": "113c52ed",
   "metadata": {},
   "outputs": [
    {
     "name": "stdout",
     "output_type": "stream",
     "text": [
      "False\n",
      "True\n",
      "False\n",
      "True\n",
      "True\n",
      "False\n",
      "True\n",
      "False\n",
      "True\n",
      "True\n"
     ]
    }
   ],
   "source": [
    "x = 10\n",
    "y = 12\n",
    "\n",
    "print(x > y)       # False\n",
    "print(x < y)       # True\n",
    "\n",
    "print(x == y)      # False\n",
    "print(x == 10)     # True\n",
    "\n",
    "print(x != y)      # True\n",
    "print(x != 10)     # False\n",
    "\n",
    "print(x >= 10)     # True\n",
    "print(x >= 20)     # False\n",
    "\n",
    "print(x <= y)      # True\n",
    "print(x <= 10)     # True"
   ]
  },
  {
   "cell_type": "code",
   "execution_count": null,
   "id": "8b2edb33",
   "metadata": {},
   "outputs": [],
   "source": [
    "# LOGICAL OPERATORS\n",
    "and # both the operands are true\n",
    "or  # either one of the operands is true\n",
    "not # both the operands are false"
   ]
  },
  {
   "cell_type": "code",
   "execution_count": 31,
   "id": "57325546",
   "metadata": {},
   "outputs": [
    {
     "name": "stdout",
     "output_type": "stream",
     "text": [
      "True\n",
      "False\n",
      "False\n"
     ]
    }
   ],
   "source": [
    "# and operators\n",
    "\n",
    "# examples\n",
    "print(True and True)      # True\n",
    "print(False and True)     # False\n",
    "print(False and False)    # False"
   ]
  },
  {
   "cell_type": "code",
   "execution_count": 33,
   "id": "864eafac",
   "metadata": {},
   "outputs": [
    {
     "name": "stdout",
     "output_type": "stream",
     "text": [
      "True\n",
      "False\n"
     ]
    }
   ],
   "source": [
    "a, b, c = 1, 2, 3\n",
    "print(b>a and c>a)    # True\n",
    "print(c>a and c<0)    # False"
   ]
  },
  {
   "cell_type": "code",
   "execution_count": 38,
   "id": "0e4da83c",
   "metadata": {},
   "outputs": [
    {
     "name": "stdout",
     "output_type": "stream",
     "text": [
      "True\n",
      "True\n",
      "False\n"
     ]
    }
   ],
   "source": [
    "# or operators\n",
    "\n",
    "# examples\n",
    "print(True or True)      # True\n",
    "print(False or True)     # True\n",
    "print(False or False)    # False"
   ]
  },
  {
   "cell_type": "code",
   "execution_count": 37,
   "id": "0a4f6f86",
   "metadata": {},
   "outputs": [
    {
     "name": "stdout",
     "output_type": "stream",
     "text": [
      "True\n",
      "True\n",
      "False\n"
     ]
    }
   ],
   "source": [
    "a = 1\n",
    "b = 2\n",
    "c = 3\n",
    "\n",
    "print(b>a or c>a)      # True\n",
    "print(c<0 or c>a)      # True\n",
    "print(c==4 or b!=2)    # False"
   ]
  },
  {
   "cell_type": "code",
   "execution_count": 40,
   "id": "5eb6da0b",
   "metadata": {},
   "outputs": [
    {
     "name": "stdout",
     "output_type": "stream",
     "text": [
      "False\n",
      "True\n"
     ]
    }
   ],
   "source": [
    "# not operators\n",
    "\n",
    "# examples\n",
    "print(not True)      # False\n",
    "print(not False)     # True"
   ]
  },
  {
   "cell_type": "code",
   "execution_count": null,
   "id": "03d7756a",
   "metadata": {},
   "outputs": [],
   "source": [
    "x = 5\n",
    "print(not (x != 5))  # True"
   ]
  },
  {
   "cell_type": "code",
   "execution_count": null,
   "id": "95a0c19b",
   "metadata": {},
   "outputs": [],
   "source": []
  }
 ],
 "metadata": {
  "kernelspec": {
   "display_name": "Python 3 (ipykernel)",
   "language": "python",
   "name": "python3"
  },
  "language_info": {
   "codemirror_mode": {
    "name": "ipython",
    "version": 3
   },
   "file_extension": ".py",
   "mimetype": "text/x-python",
   "name": "python",
   "nbconvert_exporter": "python",
   "pygments_lexer": "ipython3",
   "version": "3.9.7"
  }
 },
 "nbformat": 4,
 "nbformat_minor": 5
}
