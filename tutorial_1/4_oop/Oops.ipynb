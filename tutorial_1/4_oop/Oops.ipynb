{
 "cells": [
  {
   "cell_type": "markdown",
   "id": "1baa17cb",
   "metadata": {},
   "source": [
    "# Oops"
   ]
  },
  {
   "cell_type": "code",
   "execution_count": 2,
   "id": "382d4757",
   "metadata": {},
   "outputs": [],
   "source": [
    "# 1. Classes and Objects\n",
    "# 2. Classes in Python\n",
    "# 3. OOPS concepts in Python"
   ]
  },
  {
   "cell_type": "markdown",
   "id": "70c476c4",
   "metadata": {},
   "source": [
    "## Classes and objects "
   ]
  },
  {
   "cell_type": "code",
   "execution_count": 3,
   "id": "dc3197c5",
   "metadata": {},
   "outputs": [],
   "source": [
    "# A class is the blueprint from which specific objects are created\n",
    "# Class ariable\n",
    "# Instance Variable\n",
    "# Data member"
   ]
  },
  {
   "cell_type": "code",
   "execution_count": 4,
   "id": "775a1be2",
   "metadata": {},
   "outputs": [
    {
     "name": "stdout",
     "output_type": "stream",
     "text": [
      "10000000\n"
     ]
    }
   ],
   "source": [
    "class Car():\n",
    "    pass\n",
    "\n",
    "honda = Car()\n",
    "tata = Car()\n",
    "\n",
    "honda.modelname = 'City'\n",
    "honda.yearm = 2017\n",
    "honda.price = 10000000\n",
    "\n",
    "tata.modelname = 'Bold'\n",
    "tata.yearm = 2016\n",
    "tata.price = 600000\n",
    "\n",
    "print(honda.price)"
   ]
  },
  {
   "cell_type": "code",
   "execution_count": 8,
   "id": "3f8e311a",
   "metadata": {},
   "outputs": [
    {
     "name": "stdout",
     "output_type": "stream",
     "text": [
      "1000000\n",
      "{'modelname': 'City', 'yearm': 2017, 'price': 1000000, 'cc': 1500}\n",
      "{'modelname': 'Bold', 'yearm': 2016, 'price': 600000}\n"
     ]
    }
   ],
   "source": [
    "class Car():\n",
    "    def __init__(self,modelname,yearm,price):\n",
    "        self.modelname = modelname\n",
    "        self.yearm = yearm\n",
    "        self.price = price\n",
    "\n",
    "honda = Car(\"City\",2017,1000000)\n",
    "tata = Car(\"Bold\",2016,600000)\n",
    "\n",
    "honda.cc = 1500\n",
    "\n",
    "print(honda.price)\n",
    "print(honda.__dict__)\n",
    "print(tata.__dict__)"
   ]
  },
  {
   "cell_type": "code",
   "execution_count": 10,
   "id": "8af80d7e",
   "metadata": {},
   "outputs": [
    {
     "name": "stdout",
     "output_type": "stream",
     "text": [
      "1000000\n",
      "1150000\n"
     ]
    }
   ],
   "source": [
    "class Car():\n",
    "    def __init__(self,modelname,yearm,price):\n",
    "        self.modelname = modelname\n",
    "        self.yearm = yearm\n",
    "        self.price = price\n",
    "\n",
    "    def price_inc(self):\n",
    "        self.price = int(self.price*1.15)\n",
    "\n",
    "honda = Car(\"City\",2017,1000000)\n",
    "tata = Car(\"Bold\",2016,600000)\n",
    "\n",
    "honda.cc = 1500\n",
    "\n",
    "print(honda.price)\n",
    "honda.price_inc()\n",
    "print(honda.price)"
   ]
  },
  {
   "cell_type": "code",
   "execution_count": 11,
   "id": "72bee0c9",
   "metadata": {},
   "outputs": [],
   "source": [
    "# Oops concepts in python\n",
    "# inheritence\n",
    "# Encapsulation\n",
    "# Abstraction"
   ]
  },
  {
   "cell_type": "code",
   "execution_count": 1,
   "id": "d47fc79e",
   "metadata": {},
   "outputs": [
    {
     "ename": "TypeError",
     "evalue": "descriptor '__init__' requires a 'super' object but received a 'str'",
     "output_type": "error",
     "traceback": [
      "\u001b[1;31m---------------------------------------------------------------------------\u001b[0m",
      "\u001b[1;31mTypeError\u001b[0m                                 Traceback (most recent call last)",
      "\u001b[1;32mC:\\Users\\KKKFIN~1\\AppData\\Local\\Temp/ipykernel_1188/3148592938.py\u001b[0m in \u001b[0;36m<module>\u001b[1;34m\u001b[0m\n\u001b[0;32m     12\u001b[0m         \u001b[0mself\u001b[0m\u001b[1;33m.\u001b[0m\u001b[0mcc\u001b[0m\u001b[1;33m=\u001b[0m\u001b[0mcc\u001b[0m\u001b[1;33m\u001b[0m\u001b[1;33m\u001b[0m\u001b[0m\n\u001b[0;32m     13\u001b[0m \u001b[1;33m\u001b[0m\u001b[0m\n\u001b[1;32m---> 14\u001b[1;33m \u001b[0mhonda\u001b[0m \u001b[1;33m=\u001b[0m \u001b[0mSuperCar\u001b[0m\u001b[1;33m(\u001b[0m\u001b[1;34m'City'\u001b[0m\u001b[1;33m,\u001b[0m\u001b[1;36m2017\u001b[0m\u001b[1;33m,\u001b[0m\u001b[1;36m1000000\u001b[0m\u001b[1;33m)\u001b[0m\u001b[1;33m\u001b[0m\u001b[1;33m\u001b[0m\u001b[0m\n\u001b[0m\u001b[0;32m     15\u001b[0m \u001b[0mtata\u001b[0m \u001b[1;33m=\u001b[0m \u001b[0mCar\u001b[0m\u001b[1;33m(\u001b[0m\u001b[1;34m'Bolt'\u001b[0m\u001b[1;33m,\u001b[0m\u001b[1;36m2016\u001b[0m\u001b[1;33m,\u001b[0m\u001b[1;36m600000\u001b[0m\u001b[1;33m)\u001b[0m\u001b[1;33m\u001b[0m\u001b[1;33m\u001b[0m\u001b[0m\n\u001b[0;32m     16\u001b[0m \u001b[1;33m\u001b[0m\u001b[0m\n",
      "\u001b[1;32mC:\\Users\\KKKFIN~1\\AppData\\Local\\Temp/ipykernel_1188/3148592938.py\u001b[0m in \u001b[0;36m__init__\u001b[1;34m(self, modelname, yearm, price)\u001b[0m\n\u001b[0;32m      9\u001b[0m \u001b[1;32mclass\u001b[0m \u001b[0mSuperCar\u001b[0m\u001b[1;33m(\u001b[0m\u001b[0mCar\u001b[0m\u001b[1;33m)\u001b[0m\u001b[1;33m:\u001b[0m\u001b[1;33m\u001b[0m\u001b[1;33m\u001b[0m\u001b[0m\n\u001b[0;32m     10\u001b[0m     \u001b[1;32mdef\u001b[0m \u001b[0m__init__\u001b[0m\u001b[1;33m(\u001b[0m\u001b[0mself\u001b[0m\u001b[1;33m,\u001b[0m\u001b[0mmodelname\u001b[0m\u001b[1;33m,\u001b[0m\u001b[0myearm\u001b[0m\u001b[1;33m,\u001b[0m\u001b[0mprice\u001b[0m\u001b[1;33m)\u001b[0m\u001b[1;33m:\u001b[0m\u001b[1;33m\u001b[0m\u001b[1;33m\u001b[0m\u001b[0m\n\u001b[1;32m---> 11\u001b[1;33m         \u001b[0msuper\u001b[0m\u001b[1;33m.\u001b[0m\u001b[0m__init__\u001b[0m\u001b[1;33m(\u001b[0m\u001b[0mmodelname\u001b[0m\u001b[1;33m,\u001b[0m\u001b[0myearm\u001b[0m\u001b[1;33m,\u001b[0m\u001b[0mprice\u001b[0m\u001b[1;33m)\u001b[0m\u001b[1;33m\u001b[0m\u001b[1;33m\u001b[0m\u001b[0m\n\u001b[0m\u001b[0;32m     12\u001b[0m         \u001b[0mself\u001b[0m\u001b[1;33m.\u001b[0m\u001b[0mcc\u001b[0m\u001b[1;33m=\u001b[0m\u001b[0mcc\u001b[0m\u001b[1;33m\u001b[0m\u001b[1;33m\u001b[0m\u001b[0m\n\u001b[0;32m     13\u001b[0m \u001b[1;33m\u001b[0m\u001b[0m\n",
      "\u001b[1;31mTypeError\u001b[0m: descriptor '__init__' requires a 'super' object but received a 'str'"
     ]
    }
   ],
   "source": [
    "class Car():\n",
    "    def __init__(self,modelname,yearm,price):\n",
    "        self.modelname = modelname\n",
    "        self.yearm = yearm\n",
    "        self.price = price\n",
    "    def price_inc(self):\n",
    "        self.price = int(self.price*1.15)\n",
    "        \n",
    "class SuperCar(Car):\n",
    "    def __init__(self,modelname,yearm,price):\n",
    "        super.__init__(modelname,yearm,price)\n",
    "        self.cc=cc\n",
    "\n",
    "honda = SuperCar('City',2017,1000000)\n",
    "tata = Car('Bolt',2016,600000)\n",
    "\n",
    "honda.cc = 1500\n",
    "#print(help(honda))\n",
    "#print(honda.yearm)\n",
    "honda.price_inc()\n",
    "print(honda.price)"
   ]
  },
  {
   "cell_type": "code",
   "execution_count": 2,
   "id": "fc6dc095",
   "metadata": {},
   "outputs": [
    {
     "ename": "SyntaxError",
     "evalue": "invalid syntax (Temp/ipykernel_1188/1775350872.py, line 1)",
     "output_type": "error",
     "traceback": [
      "\u001b[1;36m  File \u001b[1;32m\"C:\\Users\\KKKFIN~1\\AppData\\Local\\Temp/ipykernel_1188/1775350872.py\"\u001b[1;36m, line \u001b[1;32m1\u001b[0m\n\u001b[1;33m    for abc import ABC, abstractmethod\u001b[0m\n\u001b[1;37m            ^\u001b[0m\n\u001b[1;31mSyntaxError\u001b[0m\u001b[1;31m:\u001b[0m invalid syntax\n"
     ]
    }
   ],
   "source": [
    "for abc import ABC, abstractmethod\n",
    "\n",
    "class Car(ABC):\n",
    "    @abstractmethod\n",
    "    def price_inc(self):\n",
    "        pass\n",
    "\n",
    "class SuperCar(Car):\n",
    "    def __init__(self,modelname,yearm,price):\n",
    "        super.__init__(modelname,yearm,price)\n",
    "        self.cc=cc\n",
    "    def price_inc(self):\n",
    "        self.price = int(self.price*2)\n",
    "\n",
    "honda = SuperCar('Bolt',2017,1000000)\n",
    "tata = Car('Bolt',2016,600000)\n",
    "\n",
    "honda.cc = 1500\n",
    "#print(help(honda))\n",
    "#print(honda.yearm)\n",
    "honda.price_inc()\n",
    "print(honda.price)       "
   ]
  },
  {
   "cell_type": "code",
   "execution_count": 3,
   "id": "0d29e399",
   "metadata": {},
   "outputs": [],
   "source": [
    "# inheritance function\n",
    "# __init__() Function"
   ]
  },
  {
   "cell_type": "code",
   "execution_count": 5,
   "id": "bf2cd1ac",
   "metadata": {},
   "outputs": [
    {
     "name": "stdout",
     "output_type": "stream",
     "text": [
      "python edureka 23\n"
     ]
    }
   ],
   "source": [
    "class Parent:\n",
    "    def __init__(self, fname, fage):\n",
    "        self.name = fname\n",
    "        self.age = fage\n",
    "    \n",
    "    def view(self):\n",
    "        print(self.name, self.age)\n",
    "        \n",
    "class Child(Parent):\n",
    "    def __init__(self, fname, fage):\n",
    "        Parent.__init__(self, fname, fage)\n",
    "        self.lastname = \"edureka\"\n",
    "    \n",
    "    def view(self):\n",
    "        print(self.age,self.lastname, self.name)\n",
    "\n",
    "ob = Child(23, 'python')\n",
    "ob.view()"
   ]
  },
  {
   "cell_type": "code",
   "execution_count": 6,
   "id": "b5a27195",
   "metadata": {},
   "outputs": [],
   "source": [
    "# Types of inheritence\n",
    "# single\n",
    "# multiple\n",
    "# multilevel\n",
    "# Hierarchical\n",
    "# hibreate"
   ]
  },
  {
   "cell_type": "code",
   "execution_count": 9,
   "id": "7d703dbd",
   "metadata": {},
   "outputs": [
    {
     "name": "stdout",
     "output_type": "stream",
     "text": [
      "this is function 1\n"
     ]
    }
   ],
   "source": [
    "# Single inheritance\n",
    "class Parent:\n",
    "    def func1(self):\n",
    "        print(\"this is function 1\")\n",
    "        \n",
    "class Child(Parent):\n",
    "    def func2(self):\n",
    "        print(\"this is function 2\")\n",
    "    \n",
    "ob = Child()\n",
    "ob.func1()"
   ]
  },
  {
   "cell_type": "code",
   "execution_count": 12,
   "id": "f06f4bb0",
   "metadata": {},
   "outputs": [
    {
     "name": "stdout",
     "output_type": "stream",
     "text": [
      "this is function 1\n",
      "this is function 2\n"
     ]
    }
   ],
   "source": [
    "# Multiple Inheritance\n",
    "class Parent:\n",
    "    def func1(self):\n",
    "        print(\"this is function 1\")\n",
    "        \n",
    "class Parent2():\n",
    "    def func2(self):\n",
    "        print(\"this is function 2\")\n",
    "        \n",
    "class Child(Parent, Parent2):\n",
    "    def func3(self):\n",
    "        print(\"this is function 3\")\n",
    "    \n",
    "ob = Child()\n",
    "ob.func1()\n",
    "ob.func2()"
   ]
  },
  {
   "cell_type": "code",
   "execution_count": 13,
   "id": "013fde2b",
   "metadata": {},
   "outputs": [
    {
     "name": "stdout",
     "output_type": "stream",
     "text": [
      "this is function 1\n",
      "this is function 2\n"
     ]
    }
   ],
   "source": [
    "# Multilevel Inheritance\n",
    "class Parent:\n",
    "    def func1(self):\n",
    "        print(\"this is function 1\")\n",
    "        \n",
    "class Parent2(Parent):\n",
    "    def func2(self):\n",
    "        print(\"this is function 2\")\n",
    "        \n",
    "class Child(Parent2):\n",
    "    def func3(self):\n",
    "        print(\"this is function 3\")\n",
    "    \n",
    "ob = Child()\n",
    "ob.func1()\n",
    "ob.func2()"
   ]
  },
  {
   "cell_type": "code",
   "execution_count": 14,
   "id": "23c2ff5f",
   "metadata": {},
   "outputs": [
    {
     "name": "stdout",
     "output_type": "stream",
     "text": [
      "this is function 1\n",
      "this is function 1\n"
     ]
    }
   ],
   "source": [
    "# Hierachical\n",
    "class Parent:\n",
    "    def func1(self):\n",
    "        print(\"this is function 1\")\n",
    "        \n",
    "class Parent2(Parent):\n",
    "    def func2(self):\n",
    "        print(\"this is function 2\")\n",
    "        \n",
    "class Child(Parent):\n",
    "    def func3(self):\n",
    "        print(\"this is function 3\")\n",
    "    \n",
    "ob = Child()\n",
    "ob1 = Parent2()\n",
    "ob.func1()\n",
    "ob1.func1()"
   ]
  },
  {
   "cell_type": "code",
   "execution_count": 15,
   "id": "fdc66f22",
   "metadata": {},
   "outputs": [
    {
     "name": "stdout",
     "output_type": "stream",
     "text": [
      "this is function 1\n",
      "this is function 4\n"
     ]
    }
   ],
   "source": [
    "# hibread \n",
    "class Parent:\n",
    "    def func1(self):\n",
    "        print(\"this is function 1\")\n",
    "        \n",
    "class Parent2(Parent):\n",
    "    def func2(self):\n",
    "        print(\"this is function 2\")\n",
    "class Parent3:\n",
    "    def func4(self):\n",
    "        print(\"this is function 4\")\n",
    "        \n",
    "class Child(Parent, Parent3):\n",
    "    def func3(self):\n",
    "        print(\"this is function 3\")\n",
    "    \n",
    "ob = Child()\n",
    "\n",
    "ob.func1()\n",
    "ob.func4()"
   ]
  },
  {
   "cell_type": "code",
   "execution_count": 16,
   "id": "4e0491be",
   "metadata": {},
   "outputs": [
    {
     "name": "stdout",
     "output_type": "stream",
     "text": [
      "this is function 1\n",
      "this is function 2\n"
     ]
    }
   ],
   "source": [
    "# Python Super Function\n",
    "class Parent:\n",
    "    def func1(self):\n",
    "        print(\"this is function 1\")\n",
    "\n",
    "class Child(Parent):\n",
    "    def func2(self):\n",
    "        super().func1()\n",
    "        print(\"this is function 2\")\n",
    "        \n",
    "ob = Child()        \n",
    "ob.func2()"
   ]
  },
  {
   "cell_type": "code",
   "execution_count": 17,
   "id": "d4639261",
   "metadata": {},
   "outputs": [
    {
     "name": "stdout",
     "output_type": "stream",
     "text": [
      "this is function 2\n"
     ]
    }
   ],
   "source": [
    "# Method overriding\n",
    "class Parent:\n",
    "    def func1(self):\n",
    "        print(\"this is function 1\")\n",
    "\n",
    "class Child(Parent):\n",
    "    def func1(self):\n",
    "        print(\"this is function 2\")\n",
    "        \n",
    "ob = Child()        \n",
    "ob.func1()"
   ]
  },
  {
   "cell_type": "code",
   "execution_count": null,
   "id": "59c1d6da",
   "metadata": {},
   "outputs": [],
   "source": []
  }
 ],
 "metadata": {
  "kernelspec": {
   "display_name": "Python 3 (ipykernel)",
   "language": "python",
   "name": "python3"
  },
  "language_info": {
   "codemirror_mode": {
    "name": "ipython",
    "version": 3
   },
   "file_extension": ".py",
   "mimetype": "text/x-python",
   "name": "python",
   "nbconvert_exporter": "python",
   "pygments_lexer": "ipython3",
   "version": "3.9.7"
  }
 },
 "nbformat": 4,
 "nbformat_minor": 5
}
