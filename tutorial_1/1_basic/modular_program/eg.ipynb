{
 "cells": [
  {
   "cell_type": "code",
   "execution_count": null,
   "id": "d184404c",
   "metadata": {},
   "outputs": [],
   "source": [
    "import mod1\n",
    "print(dir(mod1))\n",
    "\n",
    "import sys\n",
    "print(sys.path)\n",
    "\n",
    "import math\n",
    "print(math.factorial(5))\n",
    "print(math.sqrt(164))\n",
    "\n",
    "import random\n",
    "\n",
    "print(random.randrange(0, 50))\n",
    "\n",
    "import datetime\n",
    "\n",
    "print(datetime.date.today())"
   ]
  }
 ],
 "metadata": {
  "kernelspec": {
   "display_name": "Python 3 (ipykernel)",
   "language": "python",
   "name": "python3"
  },
  "language_info": {
   "codemirror_mode": {
    "name": "ipython",
    "version": 3
   },
   "file_extension": ".py",
   "mimetype": "text/x-python",
   "name": "python",
   "nbconvert_exporter": "python",
   "pygments_lexer": "ipython3",
   "version": "3.9.7"
  }
 },
 "nbformat": 4,
 "nbformat_minor": 5
}
