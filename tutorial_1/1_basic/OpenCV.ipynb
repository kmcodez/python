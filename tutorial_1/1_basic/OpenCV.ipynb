{
 "cells": [
  {
   "cell_type": "code",
   "execution_count": 1,
   "id": "759f7989",
   "metadata": {},
   "outputs": [],
   "source": [
    "# CV means Computer Vision"
   ]
  },
  {
   "cell_type": "code",
   "execution_count": 2,
   "id": "a1af33ac",
   "metadata": {},
   "outputs": [
    {
     "name": "stdout",
     "output_type": "stream",
     "text": [
      "[[[216 225 212]\n",
      "  [213 222 209]\n",
      "  [210 219 206]\n",
      "  ...\n",
      "  [221 232 222]\n",
      "  [224 235 225]\n",
      "  [229 240 230]]\n",
      "\n",
      " [[216 225 212]\n",
      "  [213 222 209]\n",
      "  [211 220 207]\n",
      "  ...\n",
      "  [223 234 224]\n",
      "  [225 236 226]\n",
      "  [230 241 231]]\n",
      "\n",
      " [[216 225 212]\n",
      "  [214 223 210]\n",
      "  [213 222 209]\n",
      "  ...\n",
      "  [224 235 225]\n",
      "  [226 237 227]\n",
      "  [231 242 232]]\n",
      "\n",
      " ...\n",
      "\n",
      " [[176 184 197]\n",
      "  [176 184 197]\n",
      "  [176 184 197]\n",
      "  ...\n",
      "  [149 174 184]\n",
      "  [149 175 182]\n",
      "  [149 175 181]]\n",
      "\n",
      " [[176 184 197]\n",
      "  [176 184 197]\n",
      "  [176 184 197]\n",
      "  ...\n",
      "  [149 174 184]\n",
      "  [149 175 182]\n",
      "  [149 175 182]]\n",
      "\n",
      " [[175 183 196]\n",
      "  [176 184 197]\n",
      "  [176 184 197]\n",
      "  ...\n",
      "  [149 174 184]\n",
      "  [149 175 182]\n",
      "  [149 175 182]]]\n"
     ]
    }
   ],
   "source": [
    "import cv2\n",
    "img = cv2.imread (\"C:\\\\Users\\\\KKK Fin Services\\\\anaconda3\\\\Projects\\\\Edureka\\\\kkk.jpg\", 1)\n",
    "print(img)"
   ]
  },
  {
   "cell_type": "code",
   "execution_count": 3,
   "id": "9cdbfa37",
   "metadata": {},
   "outputs": [
    {
     "name": "stdout",
     "output_type": "stream",
     "text": [
      "[[220 217 214 ... 228 231 236]\n",
      " [220 217 215 ... 230 232 237]\n",
      " [220 218 217 ... 231 233 238]\n",
      " ...\n",
      " [187 187 187 ... 174 174 174]\n",
      " [187 187 187 ... 174 174 174]\n",
      " [186 187 187 ... 174 174 174]]\n"
     ]
    }
   ],
   "source": [
    "import cv2\n",
    "img = cv2.imread (\"C:\\\\Users\\\\KKK Fin Services\\\\anaconda3\\\\Projects\\\\Edureka\\\\kkk.jpg\", 0)\n",
    "print(img)"
   ]
  },
  {
   "cell_type": "code",
   "execution_count": 4,
   "id": "dd85e693",
   "metadata": {},
   "outputs": [
    {
     "name": "stdout",
     "output_type": "stream",
     "text": [
      "<class 'numpy.ndarray'>\n"
     ]
    }
   ],
   "source": [
    "import cv2\n",
    "img = cv2.imread (\"C:\\\\Users\\\\KKK Fin Services\\\\anaconda3\\\\Projects\\\\Edureka\\\\kkk.jpg\", 0)\n",
    "print(type(img))"
   ]
  },
  {
   "cell_type": "code",
   "execution_count": 5,
   "id": "c8b44e6f",
   "metadata": {},
   "outputs": [
    {
     "name": "stdout",
     "output_type": "stream",
     "text": [
      "(1280, 590, 3)\n"
     ]
    }
   ],
   "source": [
    "import cv2\n",
    "img = cv2.imread (\"C:\\\\Users\\\\KKK Fin Services\\\\anaconda3\\\\Projects\\\\Edureka\\\\kkk.jpg\", 1)\n",
    "print(img.shape)"
   ]
  },
  {
   "cell_type": "code",
   "execution_count": 6,
   "id": "c67d90fb",
   "metadata": {},
   "outputs": [],
   "source": [
    "import cv2\n",
    "img = cv2.imread (\"C:\\\\Users\\\\KKK Fin Services\\\\anaconda3\\\\Projects\\\\Edureka\\\\kkk.jpg\", 1)\n",
    "cv2.imshow(\"Legend\", img)\n",
    "cv2.waitKey(2000)\n",
    "cv2.destroyAllWindows()"
   ]
  },
  {
   "cell_type": "code",
   "execution_count": 7,
   "id": "30cbd0fa",
   "metadata": {},
   "outputs": [],
   "source": [
    "import cv2\n",
    "img = cv2.imread (\"C:\\\\Users\\\\KKK Fin Services\\\\anaconda3\\\\Projects\\\\Edureka\\\\kkk.jpg\", 1)\n",
    "resized = cv2.resize(img, (600,600))\n",
    "cv2.imshow(\"Legend\", resized)\n",
    "cv2.waitKey(2000)\n",
    "cv2.destroyAllWindows()"
   ]
  },
  {
   "cell_type": "code",
   "execution_count": 8,
   "id": "f354a61e",
   "metadata": {},
   "outputs": [],
   "source": [
    "import cv2\n",
    "img = cv2.imread (\"C:\\\\Users\\\\KKK Fin Services\\\\anaconda3\\\\Projects\\\\Edureka\\\\kkk.jpg\", 1)\n",
    "resized = cv2.resize(img, (int(img.shape[1]/2),int(img.shape[0]/2)))\n",
    "cv2.imshow(\"Legend\", resized)\n",
    "cv2.waitKey(0)\n",
    "cv2.destroyAllWindows()"
   ]
  },
  {
   "cell_type": "code",
   "execution_count": 9,
   "id": "4bbb374f",
   "metadata": {},
   "outputs": [],
   "source": [
    "import cv2\n",
    "img = cv2.imread(\"C:\\\\Users\\\\KKK Fin Services\\\\anaconda3\\\\Projects\\\\Edureka\\\\kkk.jpg\", 1)\n",
    "resized = cv2.resize(img, (int(img.shape[1]/2),int(img.shape[0]*2)))\n",
    "cv2.imshow(\"Legend\", resized)\n",
    "cv2.waitKey(0)\n",
    "cv2.destroyAllWindows()"
   ]
  },
  {
   "cell_type": "code",
   "execution_count": 17,
   "id": "018e0bea",
   "metadata": {},
   "outputs": [
    {
     "ename": "error",
     "evalue": "OpenCV(4.5.5) :-1: error: (-5:Bad argument) in function 'detectMultiScale'\n> Overload resolution failed:\n>  - 'scalefactor' is an invalid keyword argument for CascadeClassifier.detectMultiScale()\n>  - 'scalefactor' is an invalid keyword argument for CascadeClassifier.detectMultiScale()\n",
     "output_type": "error",
     "traceback": [
      "\u001b[1;31m---------------------------------------------------------------------------\u001b[0m",
      "\u001b[1;31merror\u001b[0m                                     Traceback (most recent call last)",
      "\u001b[1;32mC:\\Users\\KKKFIN~1\\AppData\\Local\\Temp/ipykernel_12564/867017052.py\u001b[0m in \u001b[0;36m<module>\u001b[1;34m\u001b[0m\n\u001b[0;32m      3\u001b[0m \u001b[0mimg\u001b[0m \u001b[1;33m=\u001b[0m \u001b[0mcv2\u001b[0m\u001b[1;33m.\u001b[0m\u001b[0mimread\u001b[0m\u001b[1;33m(\u001b[0m\u001b[1;34m\"C:\\\\Users\\\\KKK Fin Services\\\\anaconda3\\\\Projects\\\\Edureka\\\\f.jpg\"\u001b[0m\u001b[1;33m)\u001b[0m\u001b[1;33m\u001b[0m\u001b[1;33m\u001b[0m\u001b[0m\n\u001b[0;32m      4\u001b[0m \u001b[0mgray_img\u001b[0m \u001b[1;33m=\u001b[0m \u001b[0mcv2\u001b[0m\u001b[1;33m.\u001b[0m\u001b[0mcvtColor\u001b[0m\u001b[1;33m(\u001b[0m\u001b[0mimg\u001b[0m\u001b[1;33m,\u001b[0m \u001b[0mcv2\u001b[0m\u001b[1;33m.\u001b[0m\u001b[0mCOLOR_BGR2GRAY\u001b[0m\u001b[1;33m)\u001b[0m\u001b[1;33m\u001b[0m\u001b[1;33m\u001b[0m\u001b[0m\n\u001b[1;32m----> 5\u001b[1;33m \u001b[0mfaces\u001b[0m \u001b[1;33m=\u001b[0m \u001b[0mface_cascade\u001b[0m\u001b[1;33m.\u001b[0m\u001b[0mdetectMultiScale\u001b[0m\u001b[1;33m(\u001b[0m\u001b[0mgray_img\u001b[0m\u001b[1;33m,\u001b[0m \u001b[0mscalefactor\u001b[0m \u001b[1;33m=\u001b[0m \u001b[1;36m1.05\u001b[0m\u001b[1;33m,\u001b[0m \u001b[0mminNeighbors\u001b[0m\u001b[1;33m=\u001b[0m\u001b[1;36m5\u001b[0m\u001b[1;33m)\u001b[0m\u001b[1;33m\u001b[0m\u001b[1;33m\u001b[0m\u001b[0m\n\u001b[0m\u001b[0;32m      6\u001b[0m \u001b[0mprint\u001b[0m\u001b[1;33m(\u001b[0m\u001b[0mtype\u001b[0m\u001b[1;33m(\u001b[0m\u001b[0mfaces\u001b[0m\u001b[1;33m)\u001b[0m\u001b[1;33m)\u001b[0m\u001b[1;33m\u001b[0m\u001b[1;33m\u001b[0m\u001b[0m\n\u001b[0;32m      7\u001b[0m \u001b[0mprint\u001b[0m\u001b[1;33m(\u001b[0m\u001b[0mfaces\u001b[0m\u001b[1;33m)\u001b[0m\u001b[1;33m\u001b[0m\u001b[1;33m\u001b[0m\u001b[0m\n",
      "\u001b[1;31merror\u001b[0m: OpenCV(4.5.5) :-1: error: (-5:Bad argument) in function 'detectMultiScale'\n> Overload resolution failed:\n>  - 'scalefactor' is an invalid keyword argument for CascadeClassifier.detectMultiScale()\n>  - 'scalefactor' is an invalid keyword argument for CascadeClassifier.detectMultiScale()\n"
     ]
    }
   ],
   "source": [
    "import cv2\n",
    "face_cascade = cv2.CascadeClassifier(\"C:\\\\Users\\\\KKK Fin Services\\\\anaconda3\\\\Projects\\\\Edureka\\\\f.xml\")\n",
    "img = cv2.imread(\"C:\\\\Users\\\\KKK Fin Services\\\\anaconda3\\\\Projects\\\\Edureka\\\\f.jpg\")\n",
    "gray_img = cv2.cvtColor(img, cv2.COLOR_BGR2GRAY)\n",
    "faces = face_cascade.detectMultiScale(gray_img, scalefactor = 1.05, minNeighbors=5)\n",
    "print(type(faces))\n",
    "print(faces)\n",
    "\n",
    "for x,y,w,h in faces:\n",
    "    img = cv2.rectangle(img, (x,y), (x+w, x+h),(0,255,0),3)\n",
    "    \n",
    "resized = cv2.resize(img, (int(img.shape[1]),int(img.shape[0])))\n",
    "cv2.imshow(\"Gray\", resized)\n",
    "cv2.waitkey(0)\n",
    "cv2.destroyAllWindows()"
   ]
  },
  {
   "cell_type": "markdown",
   "id": "f0cf4e8b",
   "metadata": {},
   "source": [
    "## Video Capturing "
   ]
  },
  {
   "cell_type": "code",
   "execution_count": null,
   "id": "80835aad",
   "metadata": {},
   "outputs": [],
   "source": [
    "import cv2, time\n",
    "video = cv2.VideoCapture(0)\n",
    "check,frame = video.read()\n",
    "\n",
    "print(check)\n",
    "print(frame)\n",
    "time.sleep(3)\n",
    "video.release()"
   ]
  },
  {
   "cell_type": "code",
   "execution_count": null,
   "id": "f4bf551e",
   "metadata": {},
   "outputs": [],
   "source": []
  }
 ],
 "metadata": {
  "kernelspec": {
   "display_name": "Python 3 (ipykernel)",
   "language": "python",
   "name": "python3"
  },
  "language_info": {
   "codemirror_mode": {
    "name": "ipython",
    "version": 3
   },
   "file_extension": ".py",
   "mimetype": "text/x-python",
   "name": "python",
   "nbconvert_exporter": "python",
   "pygments_lexer": "ipython3",
   "version": "3.9.7"
  }
 },
 "nbformat": 4,
 "nbformat_minor": 5
}
