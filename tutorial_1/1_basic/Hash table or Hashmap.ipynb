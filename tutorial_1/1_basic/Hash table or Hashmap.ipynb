{
 "cells": [
  {
   "cell_type": "markdown",
   "id": "d15693dd",
   "metadata": {},
   "source": [
    "# Hash Table or Hashmap"
   ]
  },
  {
   "cell_type": "code",
   "execution_count": 1,
   "id": "cd99ced3",
   "metadata": {},
   "outputs": [],
   "source": [
    "# Hash Table or Hashmap is a type of structure that maps keys to its value pairs"
   ]
  },
  {
   "cell_type": "code",
   "execution_count": 2,
   "id": "951a21c1",
   "metadata": {},
   "outputs": [
    {
     "name": "stdout",
     "output_type": "stream",
     "text": [
      "{'Dave': '001', 'Ava': '002', 'joe': '003'}\n"
     ]
    },
    {
     "data": {
      "text/plain": [
       "dict"
      ]
     },
     "execution_count": 2,
     "metadata": {},
     "output_type": "execute_result"
    }
   ],
   "source": [
    "my_dict = {'Dave':'001', 'Ava':'002', 'joe':'003'}\n",
    "print(my_dict)\n",
    "type(my_dict)"
   ]
  },
  {
   "cell_type": "code",
   "execution_count": 3,
   "id": "a280ba86",
   "metadata": {},
   "outputs": [
    {
     "name": "stdout",
     "output_type": "stream",
     "text": [
      "{}\n"
     ]
    },
    {
     "data": {
      "text/plain": [
       "dict"
      ]
     },
     "execution_count": 3,
     "metadata": {},
     "output_type": "execute_result"
    }
   ],
   "source": [
    "new_dict = dict()\n",
    "print(new_dict)\n",
    "type(my_dict)"
   ]
  },
  {
   "cell_type": "code",
   "execution_count": 4,
   "id": "9a466a04",
   "metadata": {},
   "outputs": [
    {
     "data": {
      "text/plain": [
       "{'Dave': '001', 'Ava': '002', 'Joe': '003'}"
      ]
     },
     "execution_count": 4,
     "metadata": {},
     "output_type": "execute_result"
    }
   ],
   "source": [
    "new_dict = dict(Dave='001',Ava='002',Joe='003')\n",
    "new_dict"
   ]
  },
  {
   "cell_type": "markdown",
   "id": "832f3f8a",
   "metadata": {},
   "source": [
    "# Nested Dictionaries"
   ]
  },
  {
   "cell_type": "code",
   "execution_count": 5,
   "id": "da748a6f",
   "metadata": {},
   "outputs": [
    {
     "name": "stdout",
     "output_type": "stream",
     "text": [
      "{'Employee': {'Dave': {'ID': '001', 'Salary': '2000', 'Designation': 'Team Lear'}, 'Ava': {'ID': '002', 'Salary': '1000', 'Designation': 'Associate'}}}\n"
     ]
    }
   ],
   "source": [
    "emp_details = {'Employee':{'Dave':{'ID':'001','Salary':'2000','Designation':'Team Lear'},\n",
    "                          'Ava':{'ID':'002','Salary':'1000','Designation':'Associate'}}}\n",
    "print(emp_details)"
   ]
  },
  {
   "cell_type": "markdown",
   "id": "b6dd6ada",
   "metadata": {},
   "source": [
    "# Performing Operations on Hash Tables"
   ]
  },
  {
   "cell_type": "code",
   "execution_count": 6,
   "id": "df158b63",
   "metadata": {},
   "outputs": [],
   "source": [
    "# Accessing items\n",
    "# Updating Values\n",
    "# Deleting Entries"
   ]
  },
  {
   "cell_type": "code",
   "execution_count": 7,
   "id": "a6077d16",
   "metadata": {},
   "outputs": [
    {
     "data": {
      "text/plain": [
       "'001'"
      ]
     },
     "execution_count": 7,
     "metadata": {},
     "output_type": "execute_result"
    }
   ],
   "source": [
    "# Accessing items\n",
    "\n",
    "my_dict['Dave']"
   ]
  },
  {
   "cell_type": "code",
   "execution_count": 8,
   "id": "2d755300",
   "metadata": {},
   "outputs": [
    {
     "name": "stdout",
     "output_type": "stream",
     "text": [
      "{'Dave': '001', 'Ava': '002', 'joe': '003'}\n"
     ]
    }
   ],
   "source": [
    "print(my_dict)"
   ]
  },
  {
   "cell_type": "code",
   "execution_count": 9,
   "id": "9ca67051",
   "metadata": {},
   "outputs": [
    {
     "name": "stdout",
     "output_type": "stream",
     "text": [
      "dict_keys(['Dave', 'Ava', 'joe'])\n"
     ]
    }
   ],
   "source": [
    "print(my_dict.keys())"
   ]
  },
  {
   "cell_type": "code",
   "execution_count": 10,
   "id": "bcc59fa4",
   "metadata": {},
   "outputs": [
    {
     "name": "stdout",
     "output_type": "stream",
     "text": [
      "dict_values(['001', '002', '003'])\n"
     ]
    }
   ],
   "source": [
    "print(my_dict.values())"
   ]
  },
  {
   "cell_type": "code",
   "execution_count": 11,
   "id": "b3401836",
   "metadata": {},
   "outputs": [
    {
     "name": "stdout",
     "output_type": "stream",
     "text": [
      "002\n"
     ]
    }
   ],
   "source": [
    "print(my_dict.get('Ava'))"
   ]
  },
  {
   "cell_type": "code",
   "execution_count": 12,
   "id": "3f218bf7",
   "metadata": {},
   "outputs": [
    {
     "name": "stdout",
     "output_type": "stream",
     "text": [
      "Dave\n",
      "Ava\n",
      "joe\n"
     ]
    }
   ],
   "source": [
    "for x in my_dict:\n",
    "    print(x)"
   ]
  },
  {
   "cell_type": "code",
   "execution_count": 13,
   "id": "0bef40e3",
   "metadata": {},
   "outputs": [
    {
     "name": "stdout",
     "output_type": "stream",
     "text": [
      "001\n",
      "002\n",
      "003\n"
     ]
    }
   ],
   "source": [
    "for x in my_dict.values():\n",
    "    print(x)"
   ]
  },
  {
   "cell_type": "code",
   "execution_count": 14,
   "id": "64f79940",
   "metadata": {},
   "outputs": [
    {
     "name": "stdout",
     "output_type": "stream",
     "text": [
      "Dave 001\n",
      "Ava 002\n",
      "joe 003\n"
     ]
    }
   ],
   "source": [
    "for x,y in my_dict.items():\n",
    "    print(x,y)"
   ]
  },
  {
   "cell_type": "code",
   "execution_count": 15,
   "id": "8226c2cd",
   "metadata": {},
   "outputs": [
    {
     "name": "stdout",
     "output_type": "stream",
     "text": [
      "{'Dave': '004', 'Ava': '002', 'joe': '003', 'Chris': '003'}\n"
     ]
    }
   ],
   "source": [
    "# updating Values\n",
    "# dictionaries are mutable data types and you can update them as and when required\n",
    "my_dict['Dave']='004'\n",
    "my_dict['Chris']='003'\n",
    "print(my_dict)"
   ]
  },
  {
   "cell_type": "code",
   "execution_count": 16,
   "id": "b7d66034",
   "metadata": {},
   "outputs": [],
   "source": [
    "# Deleting Entries"
   ]
  },
  {
   "cell_type": "code",
   "execution_count": 17,
   "id": "3ea4289f",
   "metadata": {},
   "outputs": [
    {
     "data": {
      "text/plain": [
       "'002'"
      ]
     },
     "execution_count": 17,
     "metadata": {},
     "output_type": "execute_result"
    }
   ],
   "source": [
    "my_dict.pop('Ava')"
   ]
  },
  {
   "cell_type": "code",
   "execution_count": 18,
   "id": "d1e37109",
   "metadata": {},
   "outputs": [
    {
     "data": {
      "text/plain": [
       "('Chris', '003')"
      ]
     },
     "execution_count": 18,
     "metadata": {},
     "output_type": "execute_result"
    }
   ],
   "source": [
    "my_dict.popitem()"
   ]
  },
  {
   "cell_type": "code",
   "execution_count": 19,
   "id": "7c9b9600",
   "metadata": {},
   "outputs": [
    {
     "name": "stdout",
     "output_type": "stream",
     "text": [
      "{'joe': '003'}\n"
     ]
    }
   ],
   "source": [
    "del my_dict [ 'Dave']\n",
    "print(my_dict)"
   ]
  },
  {
   "cell_type": "markdown",
   "id": "4ac36ffc",
   "metadata": {},
   "source": [
    "# Convert Dictionary to Dataframe"
   ]
  },
  {
   "cell_type": "code",
   "execution_count": 22,
   "id": "f905f1bb",
   "metadata": {},
   "outputs": [
    {
     "name": "stdout",
     "output_type": "stream",
     "text": [
      "                  Dave        Ava\n",
      "ID                 001        002\n",
      "Salary            2000       1000\n",
      "Designation  Team Lear  Associate\n"
     ]
    }
   ],
   "source": [
    "import pandas as pd\n",
    "df = pd.DataFrame(emp_details['Employee'])\n",
    "print(df)"
   ]
  },
  {
   "cell_type": "code",
   "execution_count": null,
   "id": "7882e502",
   "metadata": {},
   "outputs": [],
   "source": []
  }
 ],
 "metadata": {
  "kernelspec": {
   "display_name": "Python 3 (ipykernel)",
   "language": "python",
   "name": "python3"
  },
  "language_info": {
   "codemirror_mode": {
    "name": "ipython",
    "version": 3
   },
   "file_extension": ".py",
   "mimetype": "text/x-python",
   "name": "python",
   "nbconvert_exporter": "python",
   "pygments_lexer": "ipython3",
   "version": "3.9.7"
  }
 },
 "nbformat": 4,
 "nbformat_minor": 5
}
