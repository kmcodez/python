{
 "cells": [
  {
   "cell_type": "code",
   "execution_count": 1,
   "id": "6cf14005",
   "metadata": {},
   "outputs": [
    {
     "name": "stdout",
     "output_type": "stream",
     "text": [
      "hi\n"
     ]
    }
   ],
   "source": [
    "#this is a comment\n",
    "print(\"hi\")"
   ]
  },
  {
   "cell_type": "code",
   "execution_count": 2,
   "id": "155e976c",
   "metadata": {},
   "outputs": [
    {
     "data": {
      "text/plain": [
       "' # Within  string'"
      ]
     },
     "execution_count": 2,
     "metadata": {},
     "output_type": "execute_result"
    }
   ],
   "source": [
    "\" # Within  string\""
   ]
  },
  {
   "cell_type": "markdown",
   "id": "63fa7458",
   "metadata": {},
   "source": [
    "# Single-line Comments"
   ]
  },
  {
   "cell_type": "code",
   "execution_count": 3,
   "id": "4fc46fc6",
   "metadata": {},
   "outputs": [
    {
     "data": {
      "text/plain": [
       "4"
      ]
     },
     "execution_count": 3,
     "metadata": {},
     "output_type": "execute_result"
    }
   ],
   "source": [
    "#Individual Single line comment\n",
    "a=2\n",
    "b=2\n",
    "a+b #inline comment"
   ]
  },
  {
   "cell_type": "markdown",
   "id": "faee9f7d",
   "metadata": {},
   "source": [
    "# Multi-line Comment"
   ]
  },
  {
   "cell_type": "code",
   "execution_count": 4,
   "id": "5d20d5f8",
   "metadata": {},
   "outputs": [
    {
     "data": {
      "text/plain": [
       "20"
      ]
     },
     "execution_count": 4,
     "metadata": {},
     "output_type": "execute_result"
    }
   ],
   "source": [
    "#comments in python\n",
    "#multi-line comments\n",
    "#program to multiply 2 integers\n",
    "a=5\n",
    "b=4\n",
    "a*b"
   ]
  },
  {
   "cell_type": "code",
   "execution_count": 5,
   "id": "3e8e2ffb",
   "metadata": {},
   "outputs": [],
   "source": [
    "#comments in python\n",
    "#multi-line comments\n",
    "#shortcut method ------ use control key"
   ]
  },
  {
   "cell_type": "markdown",
   "id": "e1e45bf3",
   "metadata": {},
   "source": [
    "# Docstring Comments"
   ]
  },
  {
   "cell_type": "code",
   "execution_count": 6,
   "id": "4449d967",
   "metadata": {},
   "outputs": [
    {
     "data": {
      "text/plain": [
       "'\\ndocstring are not omitted by the interpriter\\ncomments are omitted\\n'"
      ]
     },
     "execution_count": 6,
     "metadata": {},
     "output_type": "execute_result"
    }
   ],
   "source": [
    "\"\"\"\n",
    "docstring are not omitted by the interpriter\n",
    "comments are omitted\n",
    "\"\"\""
   ]
  },
  {
   "cell_type": "code",
   "execution_count": 7,
   "id": "943325dd",
   "metadata": {},
   "outputs": [
    {
     "data": {
      "text/plain": [
       "3"
      ]
     },
     "execution_count": 7,
     "metadata": {},
     "output_type": "execute_result"
    }
   ],
   "source": [
    "\"\"\"\n",
    "docstring are not omitted by the interpriter\n",
    "comments are omitted\n",
    "\"\"\"\n",
    "a=1\n",
    "b=2\n",
    "a+b"
   ]
  },
  {
   "cell_type": "code",
   "execution_count": 8,
   "id": "34628694",
   "metadata": {},
   "outputs": [
    {
     "name": "stdout",
     "output_type": "stream",
     "text": [
      "2\n"
     ]
    },
    {
     "data": {
      "text/plain": [
       "'\\ndocstring are not omitted by the interpriter\\ncomments are omitted\\n'"
      ]
     },
     "execution_count": 8,
     "metadata": {},
     "output_type": "execute_result"
    }
   ],
   "source": [
    "a=1\n",
    "b=1\n",
    "print(a+b)\n",
    "\"\"\"\n",
    "docstring are not omitted by the interpriter\n",
    "comments are omitted\n",
    "\"\"\""
   ]
  },
  {
   "cell_type": "code",
   "execution_count": null,
   "id": "a92599ec",
   "metadata": {},
   "outputs": [],
   "source": []
  }
 ],
 "metadata": {
  "kernelspec": {
   "display_name": "Python 3 (ipykernel)",
   "language": "python",
   "name": "python3"
  },
  "language_info": {
   "codemirror_mode": {
    "name": "ipython",
    "version": 3
   },
   "file_extension": ".py",
   "mimetype": "text/x-python",
   "name": "python",
   "nbconvert_exporter": "python",
   "pygments_lexer": "ipython3",
   "version": "3.9.7"
  }
 },
 "nbformat": 4,
 "nbformat_minor": 5
}
