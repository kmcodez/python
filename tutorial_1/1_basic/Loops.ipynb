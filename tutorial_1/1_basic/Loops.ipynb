{
 "cells": [
  {
   "cell_type": "markdown",
   "id": "8c62b497",
   "metadata": {},
   "source": [
    "#  Loops"
   ]
  },
  {
   "cell_type": "code",
   "execution_count": 2,
   "id": "32c6bdb6",
   "metadata": {},
   "outputs": [],
   "source": [
    "# while \n",
    "# for \n",
    "# nested"
   ]
  },
  {
   "cell_type": "markdown",
   "id": "1520cf7a",
   "metadata": {},
   "source": [
    "## While"
   ]
  },
  {
   "cell_type": "code",
   "execution_count": 1,
   "id": "2e5d4a57",
   "metadata": {},
   "outputs": [],
   "source": [
    "# while loops are known as indefinite or conditional loops. they will keep iterating untill certain conditions\n",
    "# are met. There is no gurantee ahead of time regarding how many times the loop will iterate."
   ]
  },
  {
   "cell_type": "code",
   "execution_count": 2,
   "id": "ffb0eb54",
   "metadata": {},
   "outputs": [
    {
     "name": "stdout",
     "output_type": "stream",
     "text": [
      "number : 0\n",
      "number : 1\n",
      "number : 2\n",
      "number : 3\n",
      "number : 4\n",
      "number : 5\n",
      "number : 6\n",
      "number : 7\n",
      "number : 8\n",
      "Good bye\n",
      "New number: 5\n",
      "Number too small\n",
      "New number: 8\n",
      "Congratilation. Tou made it!\n"
     ]
    }
   ],
   "source": [
    "count = 0\n",
    "\n",
    "while count<9:\n",
    "    print(\"number :\", count)\n",
    "    count = count + 1\n",
    "\n",
    "print(\"Good bye\")\n",
    "\n",
    "import random\n",
    "n = 20\n",
    "to_be_guessed = int(n * random.random()) + 1\n",
    "guess = 0\n",
    "while guess != to_be_guessed:\n",
    "    guess = int(input(\"New number: \"))\n",
    "    if guess > 0:\n",
    "        if guess > to_be_guessed:\n",
    "            print(\"Number too large\")\n",
    "        elif guess < to_be_guessed:\n",
    "            print(\"Number too small\")\n",
    "    else:\n",
    "        print(\"Sorry that you are giving up!\")\n",
    "        break\n",
    "else:\n",
    "    print(\"Congratilation. Tou made it!\")"
   ]
  },
  {
   "cell_type": "markdown",
   "id": "cbd9073a",
   "metadata": {},
   "source": [
    "## For "
   ]
  },
  {
   "cell_type": "code",
   "execution_count": 3,
   "id": "77d76e1a",
   "metadata": {},
   "outputs": [],
   "source": [
    "# for loop is a python loop which repeats a group of statements a specified number of times. The for loop provide\n",
    "# a syntex where the following information is provided:\n",
    "# Boolean conditions\n",
    "# the initial value of the counting variable\n",
    "# Incrementation of counting variable"
   ]
  },
  {
   "cell_type": "code",
   "execution_count": 5,
   "id": "ed4d0837",
   "metadata": {},
   "outputs": [
    {
     "name": "stdout",
     "output_type": "stream",
     "text": [
      "Current fruit: Mango\n",
      "Current fruit: Grapes\n",
      "Current fruit: Apple\n",
      "Good bye\n",
      "Number:10\n",
      "3628800\n"
     ]
    }
   ],
   "source": [
    "fruits = ['Mango', 'Grapes', 'Apple']\n",
    "\n",
    "for fruit in fruits:\n",
    "    print(\"Current fruit:\", fruit)\n",
    "\n",
    "print(\"Good bye\")\n",
    "\n",
    "num = int(input(\"Number:\"))\n",
    "factorial = 1\n",
    "\n",
    "if num < 0:\n",
    "    print(\"must be positive\")\n",
    "elif num == 0:\n",
    "    print(\"factorial = 1\")\n",
    "else:\n",
    "    for i in range(1,num + 1):\n",
    "        factorial = factorial * i\n",
    "print(factorial)"
   ]
  },
  {
   "cell_type": "markdown",
   "id": "d705eaaf",
   "metadata": {},
   "source": [
    "## Nested Loops "
   ]
  },
  {
   "cell_type": "code",
   "execution_count": 6,
   "id": "771adb7c",
   "metadata": {},
   "outputs": [],
   "source": [
    "# python programming language allows use of loop inside another loop. this is called nested loop, below is the\n",
    "# syntax for the same"
   ]
  },
  {
   "cell_type": "code",
   "execution_count": 7,
   "id": "06191808",
   "metadata": {},
   "outputs": [
    {
     "name": "stdout",
     "output_type": "stream",
     "text": [
      "Welcome to State Bank of India ATM\n",
      "Please Enter You 4 Digit Pin: 1111\n",
      "Incorrect Password\n",
      "Please Enter You 4 Digit Pin: 2222\n",
      "Incorrect Password\n",
      "Please Enter You 4 Digit Pin: 3333\n",
      "Incorrect Password\n",
      "\n",
      "No more tries\n"
     ]
    }
   ],
   "source": [
    "print('Welcome to State Bank of India ATM')\n",
    "restart = ('Y')\n",
    "chances = 3\n",
    "balance = 10250.07\n",
    "while chances >= 0:\n",
    "    pin = int(input('Please Enter You 4 Digit Pin: '))\n",
    "    if pin == (1234):\n",
    "        print('You entered your in Correctly\\n')\n",
    "        while restart not in ( 'N', 'n', 'NO', 'no' ):\n",
    "            print('Please press 1 For Your Balance\\n')\n",
    "            print('Please press 2 To make a Withdrawl\\n')\n",
    "            print('Please press 3 To Pay in\\n')\n",
    "            print('Please press 4 To Return Card\\n')\n",
    "            option = int(input('what would you like to choose?'))\n",
    "            if option == 1:\n",
    "                print('Your Balance is $', balance, '\\n')\n",
    "                restart = input('Would You like to go back? ')\n",
    "                if restart in ( 'N', 'n', 'NO', 'no' ):\n",
    "                    print('Thank You')\n",
    "                    break\n",
    "            elif option == 2:\n",
    "                option2 = ('y')\n",
    "                withdrawl = float(input('How much would you like to withdraw? \\n$10/$20/$50/$100/$500/$2000'))\n",
    "                if withdrawl in [10, 20, 50, 100, 500, 2000]:\n",
    "                    balance = balance - withdrawl\n",
    "                    print('\\nYour Balance is now $', balance)\n",
    "                    restart = input('Would You like to go back? ')\n",
    "                    if restart in ( 'n', 'N', 'no', 'NO'):\n",
    "                        print('Thank You')\n",
    "                        break\n",
    "                elif withdrawl != [10, 20, 50, 100, 500, 2000]:\n",
    "                    print('Invalid amount, please re-try\\n' )\n",
    "                    restart = ('y')\n",
    "                elif withdrawl == 1:\n",
    "                    withdrawl = float(input('Please Enter desired amount:'))\n",
    "\n",
    "            elif option == 3:\n",
    "                Pay_in = float(input('How Much Would You Like TO Pay In: '))\n",
    "                balance = balance + Pay_in\n",
    "                print ('\\nYour Balance is now $', balance)\n",
    "                restart = input('Would You like to go back? ')\n",
    "                if restart in ('n', 'N', 'no', 'NO'):\n",
    "                    print('Thank You')\n",
    "                    break\n",
    "            elif option == 4:\n",
    "                print('Please wait whilst your card is Returned...\\n')\n",
    "                print('Thank you for you service')\n",
    "                break\n",
    "            else:\n",
    "                print('Please Enter a correct number. \\n')\n",
    "                restart = ('y')\n",
    "    elif pin != (1234):\n",
    "        print('Incorrect Password')\n",
    "        chances = chances - 1\n",
    "        if chances == 0:\n",
    "            print('\\nNo more tries')\n",
    "            break"
   ]
  },
  {
   "cell_type": "code",
   "execution_count": 9,
   "id": "42c0e9f2",
   "metadata": {},
   "outputs": [
    {
     "name": "stdout",
     "output_type": "stream",
     "text": [
      "Maimal Number? 10\n",
      "3 4 5\n",
      "6 8 10\n"
     ]
    }
   ],
   "source": [
    "from math import sqrt\n",
    "n = int(input('Maimal Number? '))\n",
    "for a in range(1,n+1):\n",
    "    for b in range(a,n):\n",
    "        c_square = a**2 + b**2\n",
    "        c = int(sqrt(c_square))\n",
    "        if ((c_square - c**2) == 0):\n",
    "            print( a, b, c)"
   ]
  },
  {
   "cell_type": "code",
   "execution_count": 10,
   "id": "727e492e",
   "metadata": {},
   "outputs": [
    {
     "name": "stdout",
     "output_type": "stream",
     "text": [
      "yes or no:  n\n"
     ]
    }
   ],
   "source": [
    "travelling = input(\"yes or no:  \")\n",
    "\n",
    "while travelling == 'yes':\n",
    "    num = int(input(\"number of people travelling:  \"))\n",
    "    for num in range(1, num + 1):\n",
    "        name = input(\"Name:  \")\n",
    "        age = input(\"Age:  \")\n",
    "        sex = input(\"Male or Female:  \")\n",
    "        print(name)\n",
    "        print(age)\n",
    "        print(sex)\n",
    "    travelling = input(\"Oops! forgot someone: \")"
   ]
  },
  {
   "cell_type": "code",
   "execution_count": null,
   "id": "9aed56c0",
   "metadata": {},
   "outputs": [],
   "source": []
  }
 ],
 "metadata": {
  "kernelspec": {
   "display_name": "Python 3 (ipykernel)",
   "language": "python",
   "name": "python3"
  },
  "language_info": {
   "codemirror_mode": {
    "name": "ipython",
    "version": 3
   },
   "file_extension": ".py",
   "mimetype": "text/x-python",
   "name": "python",
   "nbconvert_exporter": "python",
   "pygments_lexer": "ipython3",
   "version": "3.9.7"
  }
 },
 "nbformat": 4,
 "nbformat_minor": 5
}
