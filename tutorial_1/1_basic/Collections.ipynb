{
 "cells": [
  {
   "cell_type": "markdown",
   "id": "b250c429",
   "metadata": {},
   "source": [
    "## Namedtuple"
   ]
  },
  {
   "cell_type": "code",
   "execution_count": 2,
   "id": "be946a9a",
   "metadata": {},
   "outputs": [
    {
     "name": "stdout",
     "output_type": "stream",
     "text": [
      "courses(name='data sciense', technology='python')\n",
      "courses(name='artificial intelligent', technology='python')\n"
     ]
    }
   ],
   "source": [
    "from collections import namedtuple\n",
    "\n",
    "a = namedtuple('courses', 'name, technology')\n",
    "s = a('data sciense', 'python')\n",
    "print(s)\n",
    "\n",
    "b = a._make(['artificial intelligent', 'python'])\n",
    "print(b)"
   ]
  },
  {
   "cell_type": "markdown",
   "id": "f156d586",
   "metadata": {},
   "source": [
    "## Deque "
   ]
  },
  {
   "cell_type": "code",
   "execution_count": 6,
   "id": "34d0f1db",
   "metadata": {},
   "outputs": [
    {
     "name": "stdout",
     "output_type": "stream",
     "text": [
      "deque(['e', 'd', 'u', 'r', 'e', 'k', 'a'])\n",
      "deque(['e', 'd', 'u', 'r', 'e', 'k', 'a', 'python'])\n",
      "deque(['python', 'e', 'd', 'u', 'r', 'e', 'k', 'a', 'python'])\n",
      "deque(['python', 'e', 'd', 'u', 'r', 'e', 'k', 'a'])\n",
      "deque(['e', 'd', 'u', 'r', 'e', 'k', 'a'])\n",
      "deque(['e', 'd', 'u', 'r', 'e', 'k', 'a'])\n",
      "deque(['e', 'd', 'u', 'r', 'e', 'k', 'a', 'python'])\n",
      "deque(['python', 'e', 'd', 'u', 'r', 'e', 'k', 'a', 'python'])\n",
      "deque(['python', 'e', 'd', 'u', 'r', 'e', 'k', 'a'])\n",
      "deque(['e', 'd', 'u', 'r', 'e', 'k', 'a'])\n"
     ]
    }
   ],
   "source": [
    "from collections import deque\n",
    "\n",
    "a = ['e', 'd', 'u', 'r', 'e', 'k', 'a']\n",
    "d = deque(a)\n",
    "print(d)\n",
    "\n",
    "d.append('python')\n",
    "print(d)\n",
    "\n",
    "d.appendleft('python')\n",
    "print(d)\n",
    "\n",
    "d.pop() # This function use for delete for last variables, ( now see python is removed )\n",
    "print(d)\n",
    "\n",
    "d.popleft() # This function use for delete for first variables, ( now see python is removed )\n",
    "print(d)\n",
    "\n",
    "a = ['e', 'd', 'u', 'r', 'e', 'k', 'a']\n",
    "d = deque(a)\n",
    "print(d)\n",
    "\n",
    "d.append('python')\n",
    "print(d)\n",
    "\n",
    "d.appendleft('python')\n",
    "print(d)\n",
    "\n",
    "d.pop() # This function use for delete for last variables, ( now see python is removed )\n",
    "print(d)\n",
    "\n",
    "d.popleft() # This function use for delete for first variables, ( now see python is removed )\n",
    "print(d)"
   ]
  },
  {
   "cell_type": "markdown",
   "id": "8091052c",
   "metadata": {},
   "source": [
    "## Chainmap "
   ]
  },
  {
   "cell_type": "code",
   "execution_count": 4,
   "id": "73c61907",
   "metadata": {},
   "outputs": [],
   "source": [
    "# Chainmap is a dictionary like class for creating a single view of multiple mappings"
   ]
  },
  {
   "cell_type": "code",
   "execution_count": 7,
   "id": "103ffcc1",
   "metadata": {},
   "outputs": [
    {
     "name": "stdout",
     "output_type": "stream",
     "text": [
      "ChainMap({1: 'edureka', 2: 'python'}, {3: 'machine learning', 4: 'artificial intelligence'})\n"
     ]
    }
   ],
   "source": [
    "from collections import ChainMap\n",
    "a = {1: 'edureka', 2: 'python'}\n",
    "b = {3: 'machine learning', 4: 'artificial intelligence'}\n",
    "\n",
    "c = ChainMap(a,b)\n",
    "print(c)"
   ]
  },
  {
   "cell_type": "markdown",
   "id": "2b92d832",
   "metadata": {},
   "source": [
    "## Counter"
   ]
  },
  {
   "cell_type": "code",
   "execution_count": 8,
   "id": "916f11c3",
   "metadata": {},
   "outputs": [],
   "source": [
    "# Counter is a dictionary subclass for counting hashable objects.."
   ]
  },
  {
   "cell_type": "code",
   "execution_count": 9,
   "id": "b44f55bb",
   "metadata": {},
   "outputs": [
    {
     "name": "stdout",
     "output_type": "stream",
     "text": [
      "Counter({2: 5, 4: 3, 1: 2, 3: 2, 5: 2, 6: 1})\n",
      "[1, 1, 2, 2, 2, 2, 2, 3, 3, 4, 4, 4, 5, 5, 6]\n",
      "[(2, 5), (4, 3), (1, 2), (3, 2), (5, 2), (6, 1)]\n",
      "None\n",
      "[(2, 4), (4, 3), (1, 2), (3, 2), (5, 2), (6, 0)]\n"
     ]
    }
   ],
   "source": [
    "from collections import Counter\n",
    "\n",
    "a = [1,1,2,3,2,2,4,5,4,5,4,3,6,2,2]\n",
    "b = Counter(a)\n",
    "print(b)\n",
    "print(list(b.elements()))\n",
    "print(b.most_common())\n",
    "\n",
    "sub = {2:1, 6:1}\n",
    "print(b.subtract((sub)))\n",
    "print(b.most_common())"
   ]
  },
  {
   "cell_type": "markdown",
   "id": "301086c2",
   "metadata": {},
   "source": [
    "##  OrderedDict"
   ]
  },
  {
   "cell_type": "code",
   "execution_count": 10,
   "id": "4719c7bd",
   "metadata": {},
   "outputs": [],
   "source": [
    "# OrderedDict is dictionary subclass which remembers the order in which the entries were done"
   ]
  },
  {
   "cell_type": "code",
   "execution_count": 11,
   "id": "6f57d931",
   "metadata": {},
   "outputs": [
    {
     "name": "stdout",
     "output_type": "stream",
     "text": [
      "OrderedDict([(1, 'e'), (2, 'd'), (3, 'u'), (4, 'r'), (5, 'e'), (6, 'k'), (7, 'a')])\n",
      "OrderedDict([(1, 'p'), (2, 'd'), (3, 'u'), (4, 'r'), (5, 'e'), (6, 'k'), (7, 'a')])\n"
     ]
    }
   ],
   "source": [
    "from collections import OrderedDict\n",
    "d = OrderedDict()\n",
    "d[1] = 'e'\n",
    "d[2] = 'd'\n",
    "d[3] = 'u'\n",
    "d[4] = 'r'\n",
    "d[5] = 'e'\n",
    "d[6] = 'k'\n",
    "d[7] = 'a'\n",
    "\n",
    "print(d)\n",
    "\n",
    "d[1] = 'p'\n",
    "print(d)"
   ]
  },
  {
   "cell_type": "markdown",
   "id": "723786c4",
   "metadata": {},
   "source": [
    "## defaultdict "
   ]
  },
  {
   "cell_type": "code",
   "execution_count": 12,
   "id": "6ab66fc7",
   "metadata": {},
   "outputs": [],
   "source": [
    "# defaultdict is a dictionary subclass which class a factory function to supply missing values"
   ]
  },
  {
   "cell_type": "code",
   "execution_count": 13,
   "id": "8f239323",
   "metadata": {},
   "outputs": [
    {
     "name": "stdout",
     "output_type": "stream",
     "text": [
      "defaultdict(<class 'int'>, {1: 'python', 2: 'edureka'})\n",
      "0\n"
     ]
    }
   ],
   "source": [
    "from collections import defaultdict\n",
    "\n",
    "d = defaultdict(int)\n",
    "d[1] = 'python'\n",
    "d[2] = 'edureka'\n",
    "print(d)\n",
    "print(d[3])"
   ]
  },
  {
   "cell_type": "code",
   "execution_count": null,
   "id": "90fd1954",
   "metadata": {},
   "outputs": [],
   "source": [
    "# UserDict, UserList, UserString\n",
    "# userdict is a wrapper around dictionary objects for easier dictionary sub-classing\n",
    "# UserList is a wrapper around list objects for easier list sub-classing\n",
    "# UserString is a wrapper around string objects for easier string sub-classing"
   ]
  }
 ],
 "metadata": {
  "kernelspec": {
   "display_name": "Python 3 (ipykernel)",
   "language": "python",
   "name": "python3"
  },
  "language_info": {
   "codemirror_mode": {
    "name": "ipython",
    "version": 3
   },
   "file_extension": ".py",
   "mimetype": "text/x-python",
   "name": "python",
   "nbconvert_exporter": "python",
   "pygments_lexer": "ipython3",
   "version": "3.9.7"
  }
 },
 "nbformat": 4,
 "nbformat_minor": 5
}
