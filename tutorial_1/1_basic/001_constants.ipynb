{
 "cells": [
  {
   "cell_type": "markdown",
   "metadata": {},
   "source": [
    "# Constants"
   ]
  },
  {
   "cell_type": "code",
   "execution_count": null,
   "metadata": {
    "vscode": {
     "languageId": "plaintext"
    }
   },
   "outputs": [],
   "source": [
    "# A constant is a type of variable whose value cannot be changed. It is helpful to think of constants as containers that hold information which cannot be changed later."
   ]
  },
  {
   "cell_type": "code",
   "execution_count": null,
   "metadata": {
    "vscode": {
     "languageId": "plaintext"
    }
   },
   "outputs": [],
   "source": [
    "# Assigning value to constant in Python\n",
    "# In Python, constants are usually declared and assigned in a module. Here, the module is a new file containing variables,\n",
    "# functions, etc which is imported to the main file. Inside the module, constants are written in all capital letters and underscores separating the words."
   ]
  },
  {
   "cell_type": "code",
   "execution_count": null,
   "metadata": {
    "vscode": {
     "languageId": "plaintext"
    }
   },
   "outputs": [],
   "source": [
    "# Rules and Naming Convention for Variables and constants\n",
    "\n",
    "# Constant and variable names should have a combination of letters in lowercase (a to z) or uppercase (A to Z) or digits (0 to 9) or an underscore (_). For example:\n",
    "# snake_case\n",
    "# MACRO_CASE\n",
    "# camelCase\n",
    "# CapWords\n",
    "\n",
    "# Create a name that makes sense. For example, vowel makes more sense than v.\n",
    "\n",
    "# If you want to create a variable name having two words, use underscore to separate them. For example:\n",
    "# my_name\n",
    "# current_salary\n",
    "\n",
    "# Use capital letters possible to declare a constant. For example:\n",
    "# PI\n",
    "# G\n",
    "# MASS\n",
    "# SPEED_OF_LIGHT\n",
    "# TEMP\n",
    "\n",
    "# Never use special symbols like !, @, #, $, %, etc.\n",
    "\n",
    "# Don't start a variable name with a digit."
   ]
  },
  {
   "cell_type": "code",
   "execution_count": null,
   "metadata": {
    "vscode": {
     "languageId": "plaintext"
    }
   },
   "outputs": [],
   "source": []
  },
  {
   "cell_type": "code",
   "execution_count": null,
   "metadata": {
    "vscode": {
     "languageId": "plaintext"
    }
   },
   "outputs": [],
   "source": []
  }
 ],
 "metadata": {
  "language_info": {
   "name": "python"
  }
 },
 "nbformat": 4,
 "nbformat_minor": 2
}
