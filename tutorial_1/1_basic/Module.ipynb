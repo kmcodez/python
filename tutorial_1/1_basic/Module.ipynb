{
 "cells": [
  {
   "cell_type": "code",
   "execution_count": 1,
   "id": "1b762c0d",
   "metadata": {},
   "outputs": [],
   "source": [
    "# A Module is simpy a file containing python code, it may contain functions, classes etc.\n",
    "# Simply writing a python code in a file is how we can create a module\n"
   ]
  },
  {
   "cell_type": "code",
   "execution_count": 2,
   "id": "ea618d2a",
   "metadata": {},
   "outputs": [],
   "source": [
    "def add(a, b):\n",
    "    return a + b\n",
    "\n",
    "def sub(a, b):\n",
    "    return a - b\n",
    "\n",
    "def mul(a, b):\n",
    "    return a * b\n",
    "\n",
    "def devide(a, b):\n",
    "    return a / b"
   ]
  },
  {
   "cell_type": "code",
   "execution_count": 6,
   "id": "bd520fef",
   "metadata": {},
   "outputs": [
    {
     "ename": "TypeError",
     "evalue": "add() takes 0 positional arguments but 2 were given",
     "output_type": "error",
     "traceback": [
      "\u001b[1;31m---------------------------------------------------------------------------\u001b[0m",
      "\u001b[1;31mTypeError\u001b[0m                                 Traceback (most recent call last)",
      "\u001b[1;32mC:\\Users\\KKKFIN~1\\AppData\\Local\\Temp/ipykernel_5168/3287032987.py\u001b[0m in \u001b[0;36m<module>\u001b[1;34m\u001b[0m\n\u001b[0;32m      6\u001b[0m \u001b[0my\u001b[0m \u001b[1;33m=\u001b[0m \u001b[1;36m20\u001b[0m\u001b[1;33m\u001b[0m\u001b[1;33m\u001b[0m\u001b[0m\n\u001b[0;32m      7\u001b[0m \u001b[1;33m\u001b[0m\u001b[0m\n\u001b[1;32m----> 8\u001b[1;33m \u001b[0mAddition\u001b[0m \u001b[1;33m=\u001b[0m \u001b[0mCal\u001b[0m\u001b[1;33m.\u001b[0m\u001b[0madd\u001b[0m\u001b[1;33m(\u001b[0m\u001b[0mx\u001b[0m\u001b[1;33m,\u001b[0m\u001b[0my\u001b[0m\u001b[1;33m)\u001b[0m\u001b[1;33m\u001b[0m\u001b[1;33m\u001b[0m\u001b[0m\n\u001b[0m\u001b[0;32m      9\u001b[0m \u001b[0mprint\u001b[0m\u001b[1;33m(\u001b[0m\u001b[0maddition\u001b[0m\u001b[1;33m)\u001b[0m\u001b[1;33m\u001b[0m\u001b[1;33m\u001b[0m\u001b[0m\n",
      "\u001b[1;31mTypeError\u001b[0m: add() takes 0 positional arguments but 2 were given"
     ]
    }
   ],
   "source": [
    "# we have to use the import keyword to incorporate the module into our program\n",
    "\n",
    "import calc as Cal\n",
    "\n",
    "x = 10\n",
    "y = 20\n",
    "\n",
    "Addition = Cal.add(x,y)\n",
    "print(addition)"
   ]
  },
  {
   "cell_type": "code",
   "execution_count": null,
   "id": "1bf4c5b2",
   "metadata": {},
   "outputs": [],
   "source": [
    "# Built in modules are written in C and interpreted using the python interpretor\n"
   ]
  },
  {
   "cell_type": "code",
   "execution_count": null,
   "id": "a3c1bc47",
   "metadata": {},
   "outputs": [],
   "source": []
  }
 ],
 "metadata": {
  "kernelspec": {
   "display_name": "Python 3 (ipykernel)",
   "language": "python",
   "name": "python3"
  },
  "language_info": {
   "codemirror_mode": {
    "name": "ipython",
    "version": 3
   },
   "file_extension": ".py",
   "mimetype": "text/x-python",
   "name": "python",
   "nbconvert_exporter": "python",
   "pygments_lexer": "ipython3",
   "version": "3.9.7"
  }
 },
 "nbformat": 4,
 "nbformat_minor": 5
}
