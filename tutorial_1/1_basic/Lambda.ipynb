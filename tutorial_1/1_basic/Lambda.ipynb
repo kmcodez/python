{
 "cells": [
  {
   "cell_type": "markdown",
   "id": "ff6d9ff0",
   "metadata": {},
   "source": [
    "# Lambda function"
   ]
  },
  {
   "cell_type": "code",
   "execution_count": 1,
   "id": "923faa41",
   "metadata": {},
   "outputs": [],
   "source": [
    "# Lambda function are anonymous or nameless functions and 'lambda' is not a name, but its a keyword"
   ]
  },
  {
   "cell_type": "code",
   "execution_count": 2,
   "id": "300dd1b0",
   "metadata": {},
   "outputs": [],
   "source": [
    "# lambda arguments:expression"
   ]
  },
  {
   "cell_type": "code",
   "execution_count": 4,
   "id": "667d0e21",
   "metadata": {},
   "outputs": [
    {
     "data": {
      "text/plain": [
       "9"
      ]
     },
     "execution_count": 4,
     "metadata": {},
     "output_type": "execute_result"
    }
   ],
   "source": [
    "x = lambda a: a*a\n",
    "x(3)"
   ]
  },
  {
   "cell_type": "code",
   "execution_count": 6,
   "id": "daf9054a",
   "metadata": {},
   "outputs": [
    {
     "data": {
      "text/plain": [
       "9"
      ]
     },
     "execution_count": 6,
     "metadata": {},
     "output_type": "execute_result"
    }
   ],
   "source": [
    "# This is normal function\n",
    "def new(a):\n",
    "    return a*a\n",
    "new(3)"
   ]
  },
  {
   "cell_type": "markdown",
   "id": "3bd784b0",
   "metadata": {},
   "source": [
    "# Lambda within user-defined functions"
   ]
  },
  {
   "cell_type": "code",
   "execution_count": 10,
   "id": "3b33038f",
   "metadata": {},
   "outputs": [
    {
     "name": "stdout",
     "output_type": "stream",
     "text": [
      "12\n"
     ]
    }
   ],
   "source": [
    "def A(x):\n",
    "    return(lambda y:x+y)\n",
    "t=A(4)\n",
    "print(t(8))"
   ]
  },
  {
   "cell_type": "code",
   "execution_count": 15,
   "id": "46c51e6a",
   "metadata": {},
   "outputs": [
    {
     "name": "stdout",
     "output_type": "stream",
     "text": [
      "12\n",
      "12\n"
     ]
    }
   ],
   "source": [
    "def A(x):\n",
    "    return(lambda y:x+y)\n",
    "t=A(4)\n",
    "print(t(8))\n",
    "u=A(7)\n",
    "print(u(5))"
   ]
  },
  {
   "cell_type": "code",
   "execution_count": 16,
   "id": "825ee36a",
   "metadata": {},
   "outputs": [],
   "source": [
    "# lambda within filter()\n",
    "# used to filter the given iterables (list,sets,etc) with the help of another function passed as an argument to \n",
    "# test all the elements to be true or false"
   ]
  },
  {
   "cell_type": "code",
   "execution_count": 17,
   "id": "666cf9c0",
   "metadata": {},
   "outputs": [
    {
     "name": "stdout",
     "output_type": "stream",
     "text": [
      "[6]\n"
     ]
    }
   ],
   "source": [
    "mylist=[1,2,3,4,5,6]\n",
    "newlist = list(filter(lambda a:(a/3==2), mylist)) # SYNTAX: filter(function,iterables)\n",
    "print(newlist)"
   ]
  },
  {
   "cell_type": "code",
   "execution_count": 18,
   "id": "eb192c99",
   "metadata": {},
   "outputs": [],
   "source": [
    "# lambda within map()\n",
    "# applies a given function to all the iterables and returns a new list.\n",
    "# SYNTAX: map(function,iterables)"
   ]
  },
  {
   "cell_type": "code",
   "execution_count": 19,
   "id": "c9d1130b",
   "metadata": {},
   "outputs": [
    {
     "name": "stdout",
     "output_type": "stream",
     "text": [
      "[True, True, True, True, True, False]\n"
     ]
    }
   ],
   "source": [
    "mylist=[1,2,3,4,5,6]\n",
    "p=list(map(lambda a:(a/3 !=2),mylist))\n",
    "print(p)"
   ]
  },
  {
   "cell_type": "code",
   "execution_count": 20,
   "id": "cf7f722d",
   "metadata": {},
   "outputs": [],
   "source": [
    "# lambda within reduce()\n",
    "# applies some other function to a list of elements that are passed to it andfinally returns a single value\n",
    "# SYNTAX: reduce(function,sequence)"
   ]
  },
  {
   "cell_type": "code",
   "execution_count": 21,
   "id": "27555e5f",
   "metadata": {},
   "outputs": [
    {
     "data": {
      "text/plain": [
       "221"
      ]
     },
     "execution_count": 21,
     "metadata": {},
     "output_type": "execute_result"
    }
   ],
   "source": [
    "from functools import reduce #import functools or from functools import *\n",
    "reduce(lambda a,b: a+b, [23,56,43,98,1])"
   ]
  },
  {
   "cell_type": "code",
   "execution_count": 22,
   "id": "aa347082",
   "metadata": {},
   "outputs": [],
   "source": [
    "# lambda for algebra"
   ]
  },
  {
   "cell_type": "code",
   "execution_count": 23,
   "id": "a12b2bbc",
   "metadata": {},
   "outputs": [
    {
     "data": {
      "text/plain": [
       "16"
      ]
     },
     "execution_count": 23,
     "metadata": {},
     "output_type": "execute_result"
    }
   ],
   "source": [
    "# linear equations\n",
    "s=lambda a: a*a\n",
    "s(4)"
   ]
  },
  {
   "cell_type": "code",
   "execution_count": 24,
   "id": "99899a32",
   "metadata": {},
   "outputs": [
    {
     "data": {
      "text/plain": [
       "40"
      ]
     },
     "execution_count": 24,
     "metadata": {},
     "output_type": "execute_result"
    }
   ],
   "source": [
    "# 3x+4y\n",
    "d=lambda x,y: 3*x+4*y\n",
    "d(4,7)"
   ]
  },
  {
   "cell_type": "code",
   "execution_count": 25,
   "id": "d830be82",
   "metadata": {},
   "outputs": [
    {
     "data": {
      "text/plain": [
       "49"
      ]
     },
     "execution_count": 25,
     "metadata": {},
     "output_type": "execute_result"
    }
   ],
   "source": [
    "# Quodratic equation\n",
    "#(a+b)^2\n",
    "x=lambda a,b: (a+b)**2\n",
    "x(3,4)"
   ]
  },
  {
   "cell_type": "markdown",
   "id": "9a372c5f",
   "metadata": {},
   "source": [
    "## map(), filter(), reduce() with lambda "
   ]
  },
  {
   "cell_type": "markdown",
   "id": "ca964f63",
   "metadata": {},
   "source": [
    "## The map() function"
   ]
  },
  {
   "cell_type": "code",
   "execution_count": 26,
   "id": "85abf8e8",
   "metadata": {},
   "outputs": [],
   "source": [
    "# applies a given function to all the iterables and returns a mew list.\n",
    "# SYNTEX = map(func, iterables)"
   ]
  },
  {
   "cell_type": "code",
   "execution_count": 27,
   "id": "e1d3d268",
   "metadata": {},
   "outputs": [
    {
     "name": "stdout",
     "output_type": "stream",
     "text": [
      "<map object at 0x000001755024CD30>\n",
      "[1, 4, 9, 16]\n"
     ]
    }
   ],
   "source": [
    "def new(a):\n",
    "    return a*a\n",
    "x=map(new,[1,2,3,4])\n",
    "print(x)\n",
    "print(list(x))"
   ]
  },
  {
   "cell_type": "code",
   "execution_count": 28,
   "id": "09a7405c",
   "metadata": {},
   "outputs": [
    {
     "name": "stdout",
     "output_type": "stream",
     "text": [
      "<map object at 0x000001755024C9D0>\n",
      "(1, 4, 9, 16)\n"
     ]
    }
   ],
   "source": [
    "def new(a):\n",
    "    return a*a\n",
    "x=map(new,[1,2,3,4])\n",
    "print(x)\n",
    "print(tuple(x))"
   ]
  },
  {
   "cell_type": "code",
   "execution_count": 29,
   "id": "42b52f0a",
   "metadata": {},
   "outputs": [
    {
     "name": "stdout",
     "output_type": "stream",
     "text": [
      "<map object at 0x000001755024C6A0>\n",
      "(2, 6, 12, 20)\n"
     ]
    }
   ],
   "source": [
    "def new(a,b):\n",
    "    return a*b\n",
    "x=map(new,[1,2,3,4],[2,3,4,5])\n",
    "print(x)\n",
    "print(tuple(x))"
   ]
  },
  {
   "cell_type": "code",
   "execution_count": 30,
   "id": "75cb4e9a",
   "metadata": {},
   "outputs": [
    {
     "name": "stdout",
     "output_type": "stream",
     "text": [
      "[4, 5, 6, 7, 8]\n"
     ]
    }
   ],
   "source": [
    "lst=[1,2,3,4,5]\n",
    "y=list(map(lambda x: x+3, lst))\n",
    "print(y)"
   ]
  },
  {
   "cell_type": "markdown",
   "id": "c31fdc4f",
   "metadata": {},
   "source": [
    "## The filter() function "
   ]
  },
  {
   "cell_type": "code",
   "execution_count": 31,
   "id": "b7cfa08a",
   "metadata": {},
   "outputs": [],
   "source": [
    "# used to filter the given iterables (list,sets,etc) eith the help od another function passed as an argument to \n",
    "# test all the elemetns to be true or false\n",
    "# SYNTEX = filter(function, iterables)"
   ]
  },
  {
   "cell_type": "code",
   "execution_count": 32,
   "id": "f17423cd",
   "metadata": {},
   "outputs": [
    {
     "name": "stdout",
     "output_type": "stream",
     "text": [
      "<filter object at 0x000001755024C820>\n"
     ]
    }
   ],
   "source": [
    "def new1(i):\n",
    "    if i>=3:\n",
    "        return i\n",
    "j=filter(new1,(1,2,3,4,5,6,7))\n",
    "print(j)"
   ]
  },
  {
   "cell_type": "code",
   "execution_count": 33,
   "id": "130d92b3",
   "metadata": {},
   "outputs": [
    {
     "name": "stdout",
     "output_type": "stream",
     "text": [
      "(3, 4, 5, 6, 7)\n"
     ]
    }
   ],
   "source": [
    "print(tuple(j))"
   ]
  },
  {
   "cell_type": "code",
   "execution_count": 34,
   "id": "00dd2b89",
   "metadata": {},
   "outputs": [
    {
     "name": "stdout",
     "output_type": "stream",
     "text": [
      "[3, 4, 5, 6, 7]\n"
     ]
    }
   ],
   "source": [
    "z=filter(lambda x: (x>=3),(1,2,3,4,5,6,7))\n",
    "print(list(z))"
   ]
  },
  {
   "cell_type": "markdown",
   "id": "69e181c5",
   "metadata": {},
   "source": [
    "## The reduce() function "
   ]
  },
  {
   "cell_type": "code",
   "execution_count": 35,
   "id": "fdd8e1fd",
   "metadata": {},
   "outputs": [],
   "source": [
    "# applies some other function to a list of elementsthat are passed as a parameter to it and finally returns\n",
    "# a single value\n",
    "#SYNTEX = reduce(function, iterables)"
   ]
  },
  {
   "cell_type": "code",
   "execution_count": 37,
   "id": "b4814713",
   "metadata": {},
   "outputs": [
    {
     "name": "stdout",
     "output_type": "stream",
     "text": [
      "49\n"
     ]
    }
   ],
   "source": [
    "from functools import reduce\n",
    "def a(x,y):\n",
    "    return x+y\n",
    "s=reduce(a,[1,3,4,5,6,7,7,8,8])\n",
    "print(s)"
   ]
  },
  {
   "cell_type": "code",
   "execution_count": 38,
   "id": "9564ad34",
   "metadata": {},
   "outputs": [
    {
     "data": {
      "text/plain": [
       "35280"
      ]
     },
     "execution_count": 38,
     "metadata": {},
     "output_type": "execute_result"
    }
   ],
   "source": [
    "reduce(lambda q,p: q*p, [1,2,3,4,5,6,7,7])"
   ]
  },
  {
   "cell_type": "markdown",
   "id": "753b74f4",
   "metadata": {},
   "source": [
    "## filter() within map() function "
   ]
  },
  {
   "cell_type": "code",
   "execution_count": 39,
   "id": "92086fed",
   "metadata": {},
   "outputs": [
    {
     "name": "stdout",
     "output_type": "stream",
     "text": [
      "(8, 10)\n"
     ]
    }
   ],
   "source": [
    "c=map(lambda x:x+x,filter(lambda x:(x>=4),[2,3,4,5]))\n",
    "print(tuple(c))"
   ]
  },
  {
   "cell_type": "markdown",
   "id": "32255888",
   "metadata": {},
   "source": [
    "## map() within filter() function "
   ]
  },
  {
   "cell_type": "code",
   "execution_count": 42,
   "id": "888c1d3e",
   "metadata": {},
   "outputs": [
    {
     "name": "stdout",
     "output_type": "stream",
     "text": [
      "{4, 6, 8, 10, 12}\n"
     ]
    }
   ],
   "source": [
    "d=filter(lambda x:(x>=4),map(lambda x:x+x,[2,3,4,5,6]))\n",
    "print(set(d))"
   ]
  },
  {
   "cell_type": "markdown",
   "id": "ffe30c33",
   "metadata": {},
   "source": [
    "## map() and filter() with reduce() function "
   ]
  },
  {
   "cell_type": "code",
   "execution_count": 47,
   "id": "1e1f285e",
   "metadata": {},
   "outputs": [
    {
     "name": "stdout",
     "output_type": "stream",
     "text": [
      "20\n"
     ]
    }
   ],
   "source": [
    "r=reduce(lambda x,y:x+y,map(lambda x:x+x,filter(lambda x: (x<=4),[1,2,3,4,5,6,7])))\n",
    "print(r)"
   ]
  },
  {
   "cell_type": "code",
   "execution_count": null,
   "id": "4304bfc0",
   "metadata": {},
   "outputs": [],
   "source": []
  }
 ],
 "metadata": {
  "kernelspec": {
   "display_name": "Python 3 (ipykernel)",
   "language": "python",
   "name": "python3"
  },
  "language_info": {
   "codemirror_mode": {
    "name": "ipython",
    "version": 3
   },
   "file_extension": ".py",
   "mimetype": "text/x-python",
   "name": "python",
   "nbconvert_exporter": "python",
   "pygments_lexer": "ipython3",
   "version": "3.9.7"
  }
 },
 "nbformat": 4,
 "nbformat_minor": 5
}
