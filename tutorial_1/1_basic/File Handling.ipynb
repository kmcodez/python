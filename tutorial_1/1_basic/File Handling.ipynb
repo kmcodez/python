{
 "cells": [
  {
   "cell_type": "code",
   "execution_count": 2,
   "id": "c51de192",
   "metadata": {},
   "outputs": [],
   "source": [
    "import os\n",
    "file = open(\"C:/Users/KKK Fin Services/Desktop/Kumar.txt\", 'w')\n",
    "file.close()"
   ]
  },
  {
   "cell_type": "code",
   "execution_count": 5,
   "id": "97d61874",
   "metadata": {},
   "outputs": [
    {
     "name": "stdout",
     "output_type": "stream",
     "text": [
      "We love Kiruthik\n"
     ]
    }
   ],
   "source": [
    "import os\n",
    "file = open(\"C:/Users/KKK Fin Services/Desktop/Kumar.txt\", 'r')\n",
    "print(file.read())\n",
    "file.close()"
   ]
  },
  {
   "cell_type": "code",
   "execution_count": 7,
   "id": "f23de505",
   "metadata": {},
   "outputs": [
    {
     "name": "stdout",
     "output_type": "stream",
     "text": [
      "We love \n"
     ]
    }
   ],
   "source": [
    "import os\n",
    "file = open(\"C:/Users/KKK Fin Services/Desktop/Kumar.txt\", 'r')\n",
    "print(file.read(8))\n",
    "file.close()"
   ]
  },
  {
   "cell_type": "code",
   "execution_count": 8,
   "id": "0725a3ab",
   "metadata": {},
   "outputs": [
    {
     "name": "stdout",
     "output_type": "stream",
     "text": [
      "We love Kiruthik\n",
      "\n"
     ]
    }
   ],
   "source": [
    "import os\n",
    "file = open(\"C:/Users/KKK Fin Services/Desktop/Kumar.txt\", 'r')\n",
    "print(file.readline())\n",
    "file.close()"
   ]
  },
  {
   "cell_type": "code",
   "execution_count": 9,
   "id": "9b23a0f5",
   "metadata": {},
   "outputs": [
    {
     "name": "stdout",
     "output_type": "stream",
     "text": [
      "['We love Kiruthik\\n', 'hello python\\n', 'i love karthik\\n', 'i love kavi\\n', 'i love myself\\n', 'i am kumar']\n"
     ]
    }
   ],
   "source": [
    "import os\n",
    "file = open(\"C:/Users/KKK Fin Services/Desktop/Kumar.txt\", 'r')\n",
    "print(file.readlines())\n",
    "file.close()"
   ]
  },
  {
   "cell_type": "code",
   "execution_count": 11,
   "id": "571ee64d",
   "metadata": {},
   "outputs": [
    {
     "name": "stdout",
     "output_type": "stream",
     "text": [
      "['We love Kiruthik\\n']\n"
     ]
    }
   ],
   "source": [
    "import os\n",
    "file = open(\"C:/Users/KKK Fin Services/Desktop/Kumar.txt\", 'r')\n",
    "print(file.readlines(3))\n",
    "file.close()"
   ]
  },
  {
   "cell_type": "code",
   "execution_count": 13,
   "id": "b5fa53b6",
   "metadata": {},
   "outputs": [
    {
     "name": "stdout",
     "output_type": "stream",
     "text": [
      "['hello python\\n', 'i love karthik\\n', 'i love kavi\\n', 'i love myself\\n', 'i am kumar']\n"
     ]
    }
   ],
   "source": [
    "import os\n",
    "file = open(\"C:/Users/KKK Fin Services/Desktop/Kumar.txt\", 'r')\n",
    "for line in file:\n",
    "    print(file.readlines())\n",
    "file.close()"
   ]
  },
  {
   "cell_type": "code",
   "execution_count": 15,
   "id": "1a9a15e0",
   "metadata": {},
   "outputs": [],
   "source": [
    "import os\n",
    "file = open(\"C:/Users/KKK Fin Services/Desktop/Kiruthik.txt\", 'w')\n",
    "file.write(\"Hello World\\n\")\n",
    "file.write(\"I love Python\")\n",
    "file.close()"
   ]
  },
  {
   "cell_type": "code",
   "execution_count": 16,
   "id": "a18c5bc7",
   "metadata": {},
   "outputs": [],
   "source": [
    "import os\n",
    "file = open(\"C:/Users/KKK Fin Services/Desktop/Kiruthik.txt\", 'w')\n",
    "file.write(\"Oops Overwritten\")\n",
    "file.close()"
   ]
  },
  {
   "cell_type": "code",
   "execution_count": 18,
   "id": "686d7023",
   "metadata": {},
   "outputs": [],
   "source": [
    "import os\n",
    "file = open(\"C:/Users/KKK Fin Services/Desktop/edureka.txt\", 'w')\n",
    "file.write(\"New file - Edureka\")\n",
    "file.close()"
   ]
  },
  {
   "cell_type": "code",
   "execution_count": null,
   "id": "077cd747",
   "metadata": {},
   "outputs": [],
   "source": []
  }
 ],
 "metadata": {
  "kernelspec": {
   "display_name": "Python 3 (ipykernel)",
   "language": "python",
   "name": "python3"
  },
  "language_info": {
   "codemirror_mode": {
    "name": "ipython",
    "version": 3
   },
   "file_extension": ".py",
   "mimetype": "text/x-python",
   "name": "python",
   "nbconvert_exporter": "python",
   "pygments_lexer": "ipython3",
   "version": "3.9.7"
  }
 },
 "nbformat": 4,
 "nbformat_minor": 5
}
